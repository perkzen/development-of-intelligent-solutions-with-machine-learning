{
 "cells": [
  {
   "cell_type": "markdown",
   "source": [
    "# Vsebina projektne naloge\n",
    "\n",
    "Cilj projektne naloge je uporabiti in dodatno nadgraditi znanja, ki ste jih osvojili tekom izdelave sprotnih nalog. V sklopu projektne naloge se boste spoprijeli z izzivom regresijskega problema, natančneje z napovedovanjem časovnih vrst. V tem primeru bo šlo za realne meritve kvalitete zraka, vaš cilj pa bo čim natančneje napovedati vrednost parametra pm10."
   ],
   "metadata": {
    "collapsed": false
   },
   "id": "aaa0cda78fe7bbdb"
  },
  {
   "cell_type": "code",
   "execution_count": 389,
   "id": "initial_id",
   "metadata": {
    "collapsed": true,
    "ExecuteTime": {
     "end_time": "2024-01-03T22:35:02.500433Z",
     "start_time": "2024-01-03T22:35:02.447215Z"
    }
   },
   "outputs": [],
   "source": [
    "import pandas as pd\n",
    "from sklearn.ensemble import HistGradientBoostingRegressor\n",
    "from sklearn.feature_selection import mutual_info_regression\n",
    "import seaborn as sns\n",
    "from scipy.stats import boxcox\n",
    "from matplotlib import pyplot as plt\n",
    "from sklearn.preprocessing import MinMaxScaler\n",
    "import numpy as np\n",
    "from keras.models import Sequential\n",
    "from keras.layers import Dense, LSTM\n",
    "from sklearn.metrics import mean_absolute_error, mean_squared_error, r2_score"
   ]
  },
  {
   "cell_type": "code",
   "execution_count": 390,
   "outputs": [],
   "source": [
    "df = pd.read_csv('data/RV2_UPP_IIR_SIPIA.csv')\n",
    "df[\"Date\"] = pd.to_datetime(df[\"Date\"])\n",
    "df.sort_values(by=\"Date\", inplace=True)"
   ],
   "metadata": {
    "collapsed": false,
    "ExecuteTime": {
     "end_time": "2024-01-03T22:35:02.535956Z",
     "start_time": "2024-01-03T22:35:02.503272Z"
    }
   },
   "id": "3608b507ba859d06"
  },
  {
   "cell_type": "code",
   "execution_count": 391,
   "outputs": [
    {
     "data": {
      "text/plain": "                         Date  Latitude  Longitude  Altitude   NO2  PM2.5  O3  \\\n72  2023-02-15 19:35:00+00:00   46.5592  15.656191     270.0  47.0   47.0   0   \n78  2023-02-15 20:15:00+00:00   46.5592  15.656191     270.0  40.0   49.0   0   \n79  2023-02-15 20:35:00+00:00   46.5592  15.656191     270.0  40.0   49.0   0   \n153 2023-02-15 21:15:00+00:00   46.5592  15.656191     270.0  31.0   44.0   0   \n154 2023-02-15 21:35:00+00:00   46.5592  15.656191     270.0  31.0   44.0   0   \n\n     PM10  \n72   56.0  \n78   56.0  \n79   56.0  \n153  49.0  \n154  49.0  ",
      "text/html": "<div>\n<style scoped>\n    .dataframe tbody tr th:only-of-type {\n        vertical-align: middle;\n    }\n\n    .dataframe tbody tr th {\n        vertical-align: top;\n    }\n\n    .dataframe thead th {\n        text-align: right;\n    }\n</style>\n<table border=\"1\" class=\"dataframe\">\n  <thead>\n    <tr style=\"text-align: right;\">\n      <th></th>\n      <th>Date</th>\n      <th>Latitude</th>\n      <th>Longitude</th>\n      <th>Altitude</th>\n      <th>NO2</th>\n      <th>PM2.5</th>\n      <th>O3</th>\n      <th>PM10</th>\n    </tr>\n  </thead>\n  <tbody>\n    <tr>\n      <th>72</th>\n      <td>2023-02-15 19:35:00+00:00</td>\n      <td>46.5592</td>\n      <td>15.656191</td>\n      <td>270.0</td>\n      <td>47.0</td>\n      <td>47.0</td>\n      <td>0</td>\n      <td>56.0</td>\n    </tr>\n    <tr>\n      <th>78</th>\n      <td>2023-02-15 20:15:00+00:00</td>\n      <td>46.5592</td>\n      <td>15.656191</td>\n      <td>270.0</td>\n      <td>40.0</td>\n      <td>49.0</td>\n      <td>0</td>\n      <td>56.0</td>\n    </tr>\n    <tr>\n      <th>79</th>\n      <td>2023-02-15 20:35:00+00:00</td>\n      <td>46.5592</td>\n      <td>15.656191</td>\n      <td>270.0</td>\n      <td>40.0</td>\n      <td>49.0</td>\n      <td>0</td>\n      <td>56.0</td>\n    </tr>\n    <tr>\n      <th>153</th>\n      <td>2023-02-15 21:15:00+00:00</td>\n      <td>46.5592</td>\n      <td>15.656191</td>\n      <td>270.0</td>\n      <td>31.0</td>\n      <td>44.0</td>\n      <td>0</td>\n      <td>49.0</td>\n    </tr>\n    <tr>\n      <th>154</th>\n      <td>2023-02-15 21:35:00+00:00</td>\n      <td>46.5592</td>\n      <td>15.656191</td>\n      <td>270.0</td>\n      <td>31.0</td>\n      <td>44.0</td>\n      <td>0</td>\n      <td>49.0</td>\n    </tr>\n  </tbody>\n</table>\n</div>"
     },
     "execution_count": 391,
     "metadata": {},
     "output_type": "execute_result"
    }
   ],
   "source": [
    "df.head()"
   ],
   "metadata": {
    "collapsed": false,
    "ExecuteTime": {
     "end_time": "2024-01-03T22:35:02.536922Z",
     "start_time": "2024-01-03T22:35:02.524716Z"
    }
   },
   "id": "20d7869091a3f908"
  },
  {
   "cell_type": "code",
   "execution_count": 392,
   "outputs": [
    {
     "name": "stdout",
     "output_type": "stream",
     "text": [
      "<class 'pandas.core.frame.DataFrame'>\n",
      "Index: 5625 entries, 72 to 3844\n",
      "Data columns (total 8 columns):\n",
      " #   Column     Non-Null Count  Dtype              \n",
      "---  ------     --------------  -----              \n",
      " 0   Date       5625 non-null   datetime64[ns, UTC]\n",
      " 1   Latitude   5625 non-null   float64            \n",
      " 2   Longitude  5625 non-null   float64            \n",
      " 3   Altitude   5625 non-null   float64            \n",
      " 4   NO2        5339 non-null   float64            \n",
      " 5   PM2.5      5160 non-null   float64            \n",
      " 6   O3         5625 non-null   int64              \n",
      " 7   PM10       5159 non-null   float64            \n",
      "dtypes: datetime64[ns, UTC](1), float64(6), int64(1)\n",
      "memory usage: 395.5 KB\n"
     ]
    }
   ],
   "source": [
    "df.info()"
   ],
   "metadata": {
    "collapsed": false,
    "ExecuteTime": {
     "end_time": "2024-01-03T22:35:02.537415Z",
     "start_time": "2024-01-03T22:35:02.527962Z"
    }
   },
   "id": "3f8ec5a9e3bf30fe"
  },
  {
   "cell_type": "markdown",
   "source": [
    "# Predprocesiranje podatkov"
   ],
   "metadata": {
    "collapsed": false
   },
   "id": "84cab78bc98ca35b"
  },
  {
   "cell_type": "markdown",
   "source": [
    "Zapolnjevanje manjkajočih vrednosti "
   ],
   "metadata": {
    "collapsed": false
   },
   "id": "b1be813d427a28ff"
  },
  {
   "cell_type": "code",
   "execution_count": 393,
   "outputs": [
    {
     "data": {
      "text/plain": "Date           0\nLatitude       0\nLongitude      0\nAltitude       0\nNO2          286\nPM2.5        465\nO3             0\nPM10         466\ndtype: int64"
     },
     "execution_count": 393,
     "metadata": {},
     "output_type": "execute_result"
    }
   ],
   "source": [
    "df.isnull().sum()"
   ],
   "metadata": {
    "collapsed": false,
    "ExecuteTime": {
     "end_time": "2024-01-03T22:35:02.543689Z",
     "start_time": "2024-01-03T22:35:02.533354Z"
    }
   },
   "id": "ceff50ede50cb5d2"
  },
  {
   "cell_type": "code",
   "execution_count": 394,
   "outputs": [
    {
     "name": "stdout",
     "output_type": "stream",
     "text": [
      "['NO2', 'PM2.5', 'PM10']\n"
     ]
    }
   ],
   "source": [
    "cols_to_fill = df.columns[df.isnull().any()].tolist()\n",
    "print(cols_to_fill)"
   ],
   "metadata": {
    "collapsed": false,
    "ExecuteTime": {
     "end_time": "2024-01-03T22:35:02.545365Z",
     "start_time": "2024-01-03T22:35:02.536628Z"
    }
   },
   "id": "10609942041a6ac9"
  },
  {
   "cell_type": "code",
   "outputs": [],
   "source": [
    "for col in cols_to_fill:\n",
    "    incomplete_rows = df[df[col].isnull()]\n",
    "    complete_rows = df[~df[col].isnull()]\n",
    "\n",
    "    # Features and target columns excluding 'Date'\n",
    "    features = [c for c in df.columns if c != col and c != 'Date']\n",
    "    target = col\n",
    "\n",
    "    X_train = complete_rows[features]\n",
    "    y_train = complete_rows[target]\n",
    "\n",
    "    model = HistGradientBoostingRegressor()\n",
    "\n",
    "    model.fit(X_train, y_train)\n",
    "\n",
    "    predicted_values = model.predict(incomplete_rows[features])\n",
    "\n",
    "    df.loc[df[col].isnull(), col] = predicted_values"
   ],
   "metadata": {
    "collapsed": false,
    "ExecuteTime": {
     "end_time": "2024-01-03T22:35:04.147546Z",
     "start_time": "2024-01-03T22:35:02.541653Z"
    }
   },
   "id": "92c69b4e0778d6b9",
   "execution_count": 395
  },
  {
   "cell_type": "code",
   "outputs": [
    {
     "data": {
      "text/plain": "Date         0\nLatitude     0\nLongitude    0\nAltitude     0\nNO2          0\nPM2.5        0\nO3           0\nPM10         0\ndtype: int64"
     },
     "execution_count": 396,
     "metadata": {},
     "output_type": "execute_result"
    }
   ],
   "source": [
    "df.isnull().sum()"
   ],
   "metadata": {
    "collapsed": false,
    "ExecuteTime": {
     "end_time": "2024-01-03T22:35:04.151339Z",
     "start_time": "2024-01-03T22:35:04.148198Z"
    }
   },
   "id": "e6534fe06f9c891c",
   "execution_count": 396
  },
  {
   "cell_type": "markdown",
   "source": [
    "# Informations gain"
   ],
   "metadata": {
    "collapsed": false
   },
   "id": "9266381c3db68192"
  },
  {
   "cell_type": "code",
   "outputs": [
    {
     "data": {
      "text/plain": "PM2.5        1.473245\nNO2          0.553118\nO3           0.010233\nAltitude     0.002014\nLatitude     0.001333\nLongitude    0.001244\nName: Information Gain Scores, dtype: float64"
     },
     "execution_count": 397,
     "metadata": {},
     "output_type": "execute_result"
    }
   ],
   "source": [
    "output_col = 'PM10'\n",
    "\n",
    "input_cols = df.columns.tolist()\n",
    "input_cols.remove(output_col)\n",
    "input_cols.remove('Date')\n",
    "\n",
    "information_gain_scores = mutual_info_regression(df[input_cols], df[output_col])\n",
    "\n",
    "feature_importances = pd.Series(information_gain_scores, index=input_cols)\n",
    "feature_importances.name = 'Information Gain Scores'\n",
    "feature_importances.sort_values(ascending=False, inplace=True)\n",
    "\n",
    "feature_importances.head(10)"
   ],
   "metadata": {
    "collapsed": false,
    "ExecuteTime": {
     "end_time": "2024-01-03T22:35:04.224162Z",
     "start_time": "2024-01-03T22:35:04.153898Z"
    }
   },
   "id": "7a0d35726b2faf39",
   "execution_count": 397
  },
  {
   "cell_type": "code",
   "outputs": [
    {
     "data": {
      "text/plain": "<Axes: >"
     },
     "execution_count": 398,
     "metadata": {},
     "output_type": "execute_result"
    },
    {
     "data": {
      "text/plain": "<Figure size 640x480 with 1 Axes>",
      "image/png": "[encoded data removed]"
     },
     "metadata": {},
     "output_type": "display_data"
    }
   ],
   "source": [
    "feature_importances.head(10).plot.barh()"
   ],
   "metadata": {
    "collapsed": false,
    "ExecuteTime": {
     "end_time": "2024-01-03T22:35:04.284610Z",
     "start_time": "2024-01-03T22:35:04.231531Z"
    }
   },
   "id": "61e5f4dbed7e1828",
   "execution_count": 398
  },
  {
   "cell_type": "markdown",
   "source": [
    "Transformacija podatkov"
   ],
   "metadata": {
    "collapsed": false
   },
   "id": "ef6e77294dcc4124"
  },
  {
   "cell_type": "code",
   "outputs": [],
   "source": [
    "def boxcox_transform(column):\n",
    "    # create before and after plots for comparison\n",
    "    fig, ax = plt.subplots(1, 2, figsize=(10, 5))\n",
    "    sns.distplot(df[column], ax=ax[0])\n",
    "    ax[0].set_title(\"Before Box-Cox\")\n",
    "\n",
    "    # transform data\n",
    "    data = boxcox(df[column], lmbda=0.0)\n",
    "\n",
    "    # create after plots\n",
    "    sns.distplot(data, ax=ax[1])\n",
    "    ax[1].set_title(\"After Box-Cox\")\n",
    "\n",
    "    # update dataframe\n",
    "    df[column] = data\n",
    "\n",
    "    plt.show()\n"
   ],
   "metadata": {
    "collapsed": false,
    "ExecuteTime": {
     "end_time": "2024-01-03T22:35:04.289635Z",
     "start_time": "2024-01-03T22:35:04.286139Z"
    }
   },
   "id": "ad07d3bebe9eebd6",
   "execution_count": 399
  },
  {
   "cell_type": "code",
   "outputs": [
    {
     "name": "stderr",
     "output_type": "stream",
     "text": [
      "/var/folders/m7/dkyjm7gn71ggjt2b8p3ymthc0000gn/T/ipykernel_34006/3321678299.py:4: UserWarning: \n",
      "\n",
      "`distplot` is a deprecated function and will be removed in seaborn v0.14.0.\n",
      "\n",
      "Please adapt your code to use either `displot` (a figure-level function with\n",
      "similar flexibility) or `histplot` (an axes-level function for histograms).\n",
      "\n",
      "For a guide to updating your code to use the new functions, please see\n",
      "https://gist.github.com/mwaskom/de44147ed2974457ad6372750bbe5751\n",
      "\n",
      "  sns.distplot(df[column], ax=ax[0])\n",
      "/opt/homebrew/Caskroom/miniforge/base/envs/rnn/lib/python3.10/site-packages/seaborn/_oldcore.py:1119: FutureWarning: use_inf_as_na option is deprecated and will be removed in a future version. Convert inf values to NaN before operating instead.\n",
      "  with pd.option_context('mode.use_inf_as_na', True):\n",
      "/var/folders/m7/dkyjm7gn71ggjt2b8p3ymthc0000gn/T/ipykernel_34006/3321678299.py:11: UserWarning: \n",
      "\n",
      "`distplot` is a deprecated function and will be removed in seaborn v0.14.0.\n",
      "\n",
      "Please adapt your code to use either `displot` (a figure-level function with\n",
      "similar flexibility) or `histplot` (an axes-level function for histograms).\n",
      "\n",
      "For a guide to updating your code to use the new functions, please see\n",
      "https://gist.github.com/mwaskom/de44147ed2974457ad6372750bbe5751\n",
      "\n",
      "  sns.distplot(data, ax=ax[1])\n",
      "/opt/homebrew/Caskroom/miniforge/base/envs/rnn/lib/python3.10/site-packages/seaborn/_oldcore.py:1119: FutureWarning: use_inf_as_na option is deprecated and will be removed in a future version. Convert inf values to NaN before operating instead.\n",
      "  with pd.option_context('mode.use_inf_as_na', True):\n"
     ]
    },
    {
     "data": {
      "text/plain": "<Figure size 1000x500 with 2 Axes>",
      "image/png": "[encoded data removed]"
     },
     "metadata": {},
     "output_type": "display_data"
    }
   ],
   "source": [
    "boxcox_transform('PM2.5')"
   ],
   "metadata": {
    "collapsed": false,
    "ExecuteTime": {
     "end_time": "2024-01-03T22:35:04.601477Z",
     "start_time": "2024-01-03T22:35:04.288847Z"
    }
   },
   "id": "7a3e0a24e9422708",
   "execution_count": 400
  },
  {
   "cell_type": "code",
   "outputs": [
    {
     "name": "stderr",
     "output_type": "stream",
     "text": [
      "/var/folders/m7/dkyjm7gn71ggjt2b8p3ymthc0000gn/T/ipykernel_34006/3321678299.py:4: UserWarning: \n",
      "\n",
      "`distplot` is a deprecated function and will be removed in seaborn v0.14.0.\n",
      "\n",
      "Please adapt your code to use either `displot` (a figure-level function with\n",
      "similar flexibility) or `histplot` (an axes-level function for histograms).\n",
      "\n",
      "For a guide to updating your code to use the new functions, please see\n",
      "https://gist.github.com/mwaskom/de44147ed2974457ad6372750bbe5751\n",
      "\n",
      "  sns.distplot(df[column], ax=ax[0])\n",
      "/opt/homebrew/Caskroom/miniforge/base/envs/rnn/lib/python3.10/site-packages/seaborn/_oldcore.py:1119: FutureWarning: use_inf_as_na option is deprecated and will be removed in a future version. Convert inf values to NaN before operating instead.\n",
      "  with pd.option_context('mode.use_inf_as_na', True):\n",
      "/var/folders/m7/dkyjm7gn71ggjt2b8p3ymthc0000gn/T/ipykernel_34006/3321678299.py:11: UserWarning: \n",
      "\n",
      "`distplot` is a deprecated function and will be removed in seaborn v0.14.0.\n",
      "\n",
      "Please adapt your code to use either `displot` (a figure-level function with\n",
      "similar flexibility) or `histplot` (an axes-level function for histograms).\n",
      "\n",
      "For a guide to updating your code to use the new functions, please see\n",
      "https://gist.github.com/mwaskom/de44147ed2974457ad6372750bbe5751\n",
      "\n",
      "  sns.distplot(data, ax=ax[1])\n",
      "/opt/homebrew/Caskroom/miniforge/base/envs/rnn/lib/python3.10/site-packages/seaborn/_oldcore.py:1119: FutureWarning: use_inf_as_na option is deprecated and will be removed in a future version. Convert inf values to NaN before operating instead.\n",
      "  with pd.option_context('mode.use_inf_as_na', True):\n"
     ]
    },
    {
     "data": {
      "text/plain": "<Figure size 1000x500 with 2 Axes>",
      "image/png": "[encoded data removed]"
     },
     "metadata": {},
     "output_type": "display_data"
    }
   ],
   "source": [
    "boxcox_transform('NO2')"
   ],
   "metadata": {
    "collapsed": false,
    "ExecuteTime": {
     "end_time": "2024-01-03T22:35:04.876327Z",
     "start_time": "2024-01-03T22:35:04.633237Z"
    }
   },
   "id": "6ec9bf814fba89a5",
   "execution_count": 401
  },
  {
   "cell_type": "markdown",
   "source": [
    "Normalizacija podatkov"
   ],
   "metadata": {
    "collapsed": false
   },
   "id": "693d68c84eb5aa47"
  },
  {
   "cell_type": "code",
   "outputs": [],
   "source": [
    "columns_to_normalize = ['PM2.5', 'NO2']\n",
    "\n",
    "scaler = MinMaxScaler()\n",
    "\n",
    "df[columns_to_normalize] = scaler.fit_transform(df[columns_to_normalize])"
   ],
   "metadata": {
    "collapsed": false,
    "ExecuteTime": {
     "end_time": "2024-01-03T22:35:04.886785Z",
     "start_time": "2024-01-03T22:35:04.814943Z"
    }
   },
   "id": "6fd94bfb2e539844",
   "execution_count": 402
  },
  {
   "cell_type": "markdown",
   "source": [
    "# Izdelava modela"
   ],
   "metadata": {
    "collapsed": false
   },
   "id": "27eeb51cc2f844b2"
  },
  {
   "cell_type": "code",
   "outputs": [],
   "source": [
    "target_variable = 'PM10'\n",
    "features = ['PM2.5', 'NO2']\n",
    "selected_features = features + [target_variable]\n",
    "data = df[selected_features]"
   ],
   "metadata": {
    "collapsed": false,
    "ExecuteTime": {
     "end_time": "2024-01-03T22:35:04.887222Z",
     "start_time": "2024-01-03T22:35:04.867438Z"
    }
   },
   "id": "af55177f166cec08",
   "execution_count": 403
  },
  {
   "cell_type": "code",
   "outputs": [],
   "source": [
    "def create_time_series(data, sequence_length):\n",
    "    sequences = []\n",
    "    for i in range(len(data) - sequence_length):\n",
    "        sequence = data.iloc[i:i + sequence_length]\n",
    "        sequences.append(np.array(sequence))\n",
    "    return np.array(sequences)"
   ],
   "metadata": {
    "collapsed": false,
    "ExecuteTime": {
     "end_time": "2024-01-03T22:35:04.887643Z",
     "start_time": "2024-01-03T22:35:04.870001Z"
    }
   },
   "id": "14307e3d7de58c25",
   "execution_count": 404
  },
  {
   "cell_type": "code",
   "outputs": [],
   "source": [
    "sequence_length = 7"
   ],
   "metadata": {
    "collapsed": false,
    "ExecuteTime": {
     "end_time": "2024-01-03T22:35:04.887925Z",
     "start_time": "2024-01-03T22:35:04.871903Z"
    }
   },
   "id": "587a3a648e963834",
   "execution_count": 405
  },
  {
   "cell_type": "code",
   "outputs": [],
   "source": [
    "sequences = create_time_series(data, sequence_length)"
   ],
   "metadata": {
    "collapsed": false,
    "ExecuteTime": {
     "end_time": "2024-01-03T22:35:04.996583Z",
     "start_time": "2024-01-03T22:35:04.873997Z"
    }
   },
   "id": "e36f6e1624670fc8",
   "execution_count": 406
  },
  {
   "cell_type": "code",
   "outputs": [],
   "source": [
    "train_size = int(len(sequences) * 0.8)\n",
    "train_data = sequences[:train_size]\n",
    "test_data = sequences[train_size:]"
   ],
   "metadata": {
    "collapsed": false,
    "ExecuteTime": {
     "end_time": "2024-01-03T22:35:05.002026Z",
     "start_time": "2024-01-03T22:35:04.997380Z"
    }
   },
   "id": "7290f15ee477ce19",
   "execution_count": 407
  },
  {
   "cell_type": "code",
   "outputs": [],
   "source": [
    "model = Sequential()\n",
    "model.add(LSTM(units=50, input_shape=(sequence_length, len(features))))\n",
    "model.add(Dense(units=1))\n",
    "model.compile(optimizer='adam', loss='mean_squared_error')"
   ],
   "metadata": {
    "collapsed": false,
    "ExecuteTime": {
     "end_time": "2024-01-03T22:35:05.076984Z",
     "start_time": "2024-01-03T22:35:05.000678Z"
    }
   },
   "id": "ab9d4bfa200a3949",
   "execution_count": 408
  },
  {
   "cell_type": "code",
   "outputs": [
    {
     "name": "stdout",
     "output_type": "stream",
     "text": [
      "Epoch 1/10\n",
      "141/141 [==============================] - 1s 2ms/step - loss: 416.4211\n",
      "Epoch 2/10\n",
      "141/141 [==============================] - 0s 2ms/step - loss: 225.5425\n",
      "Epoch 3/10\n",
      "141/141 [==============================] - 0s 2ms/step - loss: 180.8736\n",
      "Epoch 4/10\n",
      "141/141 [==============================] - 0s 2ms/step - loss: 120.4146\n",
      "Epoch 5/10\n",
      "141/141 [==============================] - 0s 2ms/step - loss: 94.6236\n",
      "Epoch 6/10\n",
      "141/141 [==============================] - 0s 2ms/step - loss: 79.2949\n",
      "Epoch 7/10\n",
      "141/141 [==============================] - 0s 2ms/step - loss: 69.4770\n",
      "Epoch 8/10\n",
      "141/141 [==============================] - 0s 2ms/step - loss: 61.4389\n",
      "Epoch 9/10\n",
      "141/141 [==============================] - 0s 2ms/step - loss: 58.2519\n",
      "Epoch 10/10\n",
      "141/141 [==============================] - 0s 2ms/step - loss: 53.1909\n",
      "36/36 [==============================] - 0s 677us/step\n",
      "MAE: 5.977439753425159, MSE: 63.62705894203837, R^2: 0.5676573029161236\n"
     ]
    }
   ],
   "source": [
    "model.fit(train_data[:, :, :-1], train_data[:, -1, -1], epochs=10, batch_size=32)\n",
    "\n",
    "predictions = model.predict(test_data[:, :, :-1])\n",
    "\n",
    "test_target = test_data[:, -1, -1]\n",
    "mae = mean_absolute_error(test_target, predictions)\n",
    "mse = mean_squared_error(test_target, predictions)\n",
    "r2 = r2_score(test_target, predictions)\n",
    "\n",
    "print(f\"MAE: {mae}, MSE: {mse}, R^2: {r2}\")"
   ],
   "metadata": {
    "collapsed": false,
    "ExecuteTime": {
     "end_time": "2024-01-03T22:35:08.206620Z",
     "start_time": "2024-01-03T22:35:05.078558Z"
    }
   },
   "id": "508c14671ab07233",
   "execution_count": 409
  }
 ],
 "metadata": {
  "kernelspec": {
   "display_name": "Python 3",
   "language": "python",
   "name": "python3"
  },
  "language_info": {
   "codemirror_mode": {
    "name": "ipython",
    "version": 2
   },
   "file_extension": ".py",
   "mimetype": "text/x-python",
   "name": "python",
   "nbconvert_exporter": "python",
   "pygments_lexer": "ipython2",
   "version": "2.7.6"
  }
 },
 "nbformat": 4,
 "nbformat_minor": 5
}
