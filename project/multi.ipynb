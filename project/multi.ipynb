{
 "cells": [
  {
   "cell_type": "markdown",
   "source": [],
   "metadata": {
    "collapsed": false
   },
   "id": "f309e710a6474968"
  },
  {
   "cell_type": "markdown",
   "source": [
    "# Vsebina projektne naloge\n",
    "Cilj projektne naloge je uporabiti in dodatno nadgraditi znanja, ki ste jih osvojili tekom izdelave sprotnih nalog. V sklopu projektne naloge se boste spoprijeli z izzivom regresijskega problema, natančneje z napovedovanjem časovnih vrst. V tem primeru bo šlo za realne meritve kvalitete zraka, vaš cilj pa bo čim natančneje napovedati vrednost parametra pm10."
   ],
   "metadata": {
    "collapsed": false
   },
   "id": "1229534dda1baf39"
  },
  {
   "cell_type": "code",
   "execution_count": 220,
   "id": "initial_id",
   "metadata": {
    "collapsed": true,
    "ExecuteTime": {
     "end_time": "2024-01-16T10:37:03.024114Z",
     "start_time": "2024-01-16T10:37:02.626675Z"
    }
   },
   "outputs": [],
   "source": [
    "import pandas as pd\n",
    "import numpy as np\n",
    "import seaborn as sns\n",
    "import pickle\n",
    "from scipy.stats import boxcox\n",
    "from matplotlib import pyplot as plt\n",
    "from sklearn.ensemble import HistGradientBoostingRegressor\n",
    "from sklearn.feature_selection import mutual_info_regression\n",
    "from sklearn.metrics import mean_absolute_error, mean_squared_error, explained_variance_score\n",
    "from sklearn.preprocessing import MinMaxScaler, StandardScaler\n",
    "from sklearn.model_selection import RandomizedSearchCV\n",
    "from keras.models import Sequential\n",
    "from keras.layers import Dense, LSTM, SimpleRNN, GRU, Dropout, Conv1D, MaxPooling1D, Flatten\n",
    "from keras.wrappers.scikit_learn import KerasRegressor"
   ]
  },
  {
   "cell_type": "code",
   "outputs": [],
   "source": [
    "df = pd.read_csv('data/RV1_SIPIA.csv')"
   ],
   "metadata": {
    "collapsed": false,
    "ExecuteTime": {
     "end_time": "2024-01-16T10:37:03.062835Z",
     "start_time": "2024-01-16T10:37:03.024841Z"
    }
   },
   "id": "a0490bf79c3d6def",
   "execution_count": 221
  },
  {
   "cell_type": "code",
   "outputs": [
    {
     "data": {
      "text/plain": "                        Date   Latitude  Longitude  Altitude   NO2  PM2.5  \\\n0  2023-06-23 08:35:00+00:00  46.234818  15.267305     240.0  52.0   40.0   \n1  2023-09-17 07:35:00+00:00  46.234818  15.267305     240.0  11.0  118.0   \n2  2023-02-16 18:15:00+00:00  46.234818  15.267305     240.0  88.0   74.0   \n3  2023-02-16 18:35:00+00:00  46.234818  15.267305     240.0  88.0   74.0   \n4  2023-02-16 20:35:00+00:00  46.234818  15.267305     240.0  70.0  102.0   \n5  2023-02-16 20:15:00+00:00  46.234818  15.267305     240.0  70.0  102.0   \n6  2023-02-16 23:35:00+00:00  46.234818  15.267305     240.0  47.0  111.0   \n7  2023-02-16 23:15:00+00:00  46.234818  15.267305     240.0  47.0  111.0   \n8  2023-02-16 21:15:00+00:00  46.234818  15.267305     240.0  68.0  102.0   \n9  2023-02-16 21:35:00+00:00  46.234818  15.267305     240.0  68.0  102.0   \n\n     O3   PM10  \n0  16.0  148.0  \n1   7.0  135.0  \n2   1.0  132.0  \n3   1.0  132.0  \n4   2.0  128.0  \n5   2.0  128.0  \n6   2.0  118.0  \n7   2.0  118.0  \n8   2.0  116.0  \n9   2.0  116.0  ",
      "text/html": "<div>\n<style scoped>\n    .dataframe tbody tr th:only-of-type {\n        vertical-align: middle;\n    }\n\n    .dataframe tbody tr th {\n        vertical-align: top;\n    }\n\n    .dataframe thead th {\n        text-align: right;\n    }\n</style>\n<table border=\"1\" class=\"dataframe\">\n  <thead>\n    <tr style=\"text-align: right;\">\n      <th></th>\n      <th>Date</th>\n      <th>Latitude</th>\n      <th>Longitude</th>\n      <th>Altitude</th>\n      <th>NO2</th>\n      <th>PM2.5</th>\n      <th>O3</th>\n      <th>PM10</th>\n    </tr>\n  </thead>\n  <tbody>\n    <tr>\n      <th>0</th>\n      <td>2023-06-23 08:35:00+00:00</td>\n      <td>46.234818</td>\n      <td>15.267305</td>\n      <td>240.0</td>\n      <td>52.0</td>\n      <td>40.0</td>\n      <td>16.0</td>\n      <td>148.0</td>\n    </tr>\n    <tr>\n      <th>1</th>\n      <td>2023-09-17 07:35:00+00:00</td>\n      <td>46.234818</td>\n      <td>15.267305</td>\n      <td>240.0</td>\n      <td>11.0</td>\n      <td>118.0</td>\n      <td>7.0</td>\n      <td>135.0</td>\n    </tr>\n    <tr>\n      <th>2</th>\n      <td>2023-02-16 18:15:00+00:00</td>\n      <td>46.234818</td>\n      <td>15.267305</td>\n      <td>240.0</td>\n      <td>88.0</td>\n      <td>74.0</td>\n      <td>1.0</td>\n      <td>132.0</td>\n    </tr>\n    <tr>\n      <th>3</th>\n      <td>2023-02-16 18:35:00+00:00</td>\n      <td>46.234818</td>\n      <td>15.267305</td>\n      <td>240.0</td>\n      <td>88.0</td>\n      <td>74.0</td>\n      <td>1.0</td>\n      <td>132.0</td>\n    </tr>\n    <tr>\n      <th>4</th>\n      <td>2023-02-16 20:35:00+00:00</td>\n      <td>46.234818</td>\n      <td>15.267305</td>\n      <td>240.0</td>\n      <td>70.0</td>\n      <td>102.0</td>\n      <td>2.0</td>\n      <td>128.0</td>\n    </tr>\n    <tr>\n      <th>5</th>\n      <td>2023-02-16 20:15:00+00:00</td>\n      <td>46.234818</td>\n      <td>15.267305</td>\n      <td>240.0</td>\n      <td>70.0</td>\n      <td>102.0</td>\n      <td>2.0</td>\n      <td>128.0</td>\n    </tr>\n    <tr>\n      <th>6</th>\n      <td>2023-02-16 23:35:00+00:00</td>\n      <td>46.234818</td>\n      <td>15.267305</td>\n      <td>240.0</td>\n      <td>47.0</td>\n      <td>111.0</td>\n      <td>2.0</td>\n      <td>118.0</td>\n    </tr>\n    <tr>\n      <th>7</th>\n      <td>2023-02-16 23:15:00+00:00</td>\n      <td>46.234818</td>\n      <td>15.267305</td>\n      <td>240.0</td>\n      <td>47.0</td>\n      <td>111.0</td>\n      <td>2.0</td>\n      <td>118.0</td>\n    </tr>\n    <tr>\n      <th>8</th>\n      <td>2023-02-16 21:15:00+00:00</td>\n      <td>46.234818</td>\n      <td>15.267305</td>\n      <td>240.0</td>\n      <td>68.0</td>\n      <td>102.0</td>\n      <td>2.0</td>\n      <td>116.0</td>\n    </tr>\n    <tr>\n      <th>9</th>\n      <td>2023-02-16 21:35:00+00:00</td>\n      <td>46.234818</td>\n      <td>15.267305</td>\n      <td>240.0</td>\n      <td>68.0</td>\n      <td>102.0</td>\n      <td>2.0</td>\n      <td>116.0</td>\n    </tr>\n  </tbody>\n</table>\n</div>"
     },
     "execution_count": 222,
     "metadata": {},
     "output_type": "execute_result"
    }
   ],
   "source": [
    "df.head(10)"
   ],
   "metadata": {
    "collapsed": false,
    "ExecuteTime": {
     "end_time": "2024-01-16T10:37:03.091013Z",
     "start_time": "2024-01-16T10:37:03.054863Z"
    }
   },
   "id": "325bb62b9b730f14",
   "execution_count": 222
  },
  {
   "cell_type": "code",
   "outputs": [],
   "source": [
    "df['Date'] = pd.to_datetime(df['Date'])\n",
    "df.sort_values(by=[\"Date\"], inplace=True)"
   ],
   "metadata": {
    "collapsed": false,
    "ExecuteTime": {
     "end_time": "2024-01-16T10:37:03.128330Z",
     "start_time": "2024-01-16T10:37:03.092177Z"
    }
   },
   "id": "5e0c4ff8acc31176",
   "execution_count": 223
  },
  {
   "cell_type": "code",
   "outputs": [],
   "source": [
    "def plot_values(x, y):\n",
    "    plt.figure(figsize=(10, 6))\n",
    "    plt.plot(df[x], df[y])\n",
    "    plt.xlabel(x)\n",
    "    plt.ylabel(y)\n",
    "    plt.title(f'{y} vs {x}')\n",
    "    plt.show()"
   ],
   "metadata": {
    "collapsed": false,
    "ExecuteTime": {
     "end_time": "2024-01-16T10:37:03.156673Z",
     "start_time": "2024-01-16T10:37:03.119320Z"
    }
   },
   "id": "c1f43827d5b583a5",
   "execution_count": 224
  },
  {
   "cell_type": "code",
   "outputs": [
    {
     "data": {
      "text/plain": "<Figure size 1000x600 with 1 Axes>",
      "image/png": "[encoded data removed]"
     },
     "metadata": {},
     "output_type": "display_data"
    }
   ],
   "source": [
    "plot_values('Date', 'PM10')"
   ],
   "metadata": {
    "collapsed": false,
    "ExecuteTime": {
     "end_time": "2024-01-16T10:37:03.343194Z",
     "start_time": "2024-01-16T10:37:03.149101Z"
    }
   },
   "id": "7425ebf0903ecd1c",
   "execution_count": 225
  },
  {
   "cell_type": "code",
   "outputs": [],
   "source": [
    "# remove data before 2023-06\n",
    "#df = df[df['Date'] >= '2023-06-01']\n",
    "# DONT do this"
   ],
   "metadata": {
    "collapsed": false,
    "ExecuteTime": {
     "end_time": "2024-01-16T10:37:03.345375Z",
     "start_time": "2024-01-16T10:37:03.326856Z"
    }
   },
   "id": "e98da0e0a223e2f6",
   "execution_count": 226
  },
  {
   "cell_type": "code",
   "outputs": [],
   "source": [
    "# remove outliers \n",
    "# colud be a good idea\n",
    "#df = df[df['PM10'] < 120]"
   ],
   "metadata": {
    "collapsed": false,
    "ExecuteTime": {
     "end_time": "2024-01-16T10:37:03.355596Z",
     "start_time": "2024-01-16T10:37:03.329942Z"
    }
   },
   "id": "5535338d94e46683",
   "execution_count": 227
  },
  {
   "cell_type": "code",
   "outputs": [],
   "source": [
    "# does not really help\n",
    "# mean = df['PM10'].mean()\n",
    "# std = df['PM10'].std()\n",
    "# \n",
    "# z_score = (df['PM10'] - mean) / std\n",
    "# threshold = 3\n",
    "# \n",
    "# df = df[z_score < threshold]"
   ],
   "metadata": {
    "collapsed": false,
    "ExecuteTime": {
     "end_time": "2024-01-16T10:37:03.363030Z",
     "start_time": "2024-01-16T10:37:03.334366Z"
    }
   },
   "id": "1635a0c4c100dd0",
   "execution_count": 228
  },
  {
   "cell_type": "markdown",
   "source": [],
   "metadata": {
    "collapsed": false
   },
   "id": "b5d88b2ebf1bd813"
  },
  {
   "cell_type": "markdown",
   "source": [
    "# Vnos vremenskih podatkov\n",
    "Dodamo vremenske podatke za te to lokacijo v tem času, ker bi nam mogoče lahko prišlo prav."
   ],
   "metadata": {
    "collapsed": false
   },
   "id": "225c3ffeca21dd1c"
  },
  {
   "cell_type": "code",
   "outputs": [
    {
     "data": {
      "text/plain": "                        Date  temperature_2m (°C)  relative_humidity_2m (%)  \\\n0  2023-01-01 00:15:00+00:00                  7.7                      85.0   \n1  2023-01-01 00:35:00+00:00                  7.7                      85.0   \n2  2023-01-01 01:15:00+00:00                  7.8                      84.0   \n3  2023-01-01 01:35:00+00:00                  7.8                      84.0   \n4  2023-01-01 02:15:00+00:00                  4.8                      92.0   \n\n   dew_point_2m (°C)  apparent_temperature (°C)  precipitation (mm)  \\\n0                5.3                        5.5                 0.0   \n1                5.3                        5.5                 0.0   \n2                5.2                        5.7                 0.0   \n3                5.2                        5.7                 0.0   \n4                3.6                        1.9                 0.0   \n\n   rain (mm)  snowfall (cm)  surface_pressure (hPa)  cloud_cover (%)  \\\n0        0.0            0.0                   992.7              7.0   \n1        0.0            0.0                   992.7              7.0   \n2        0.0            0.0                   992.8              4.0   \n3        0.0            0.0                   992.8              4.0   \n4        0.0            0.0                   992.5             10.0   \n\n   wind_speed_10m (km/h)  wind_direction_10m (°)  \\\n0                    6.7                   144.0   \n1                    6.7                   144.0   \n2                    6.4                   133.0   \n3                    6.4                   133.0   \n4                    9.2                   141.0   \n\n   soil_temperature_0_to_7cm (°C)  soil_moisture_0_to_7cm (m³/m³)  is_day ()  \n0                             2.6                           0.357        0.0  \n1                             2.6                           0.357        0.0  \n2                             2.1                           0.356        0.0  \n3                             2.1                           0.356        0.0  \n4                             1.8                           0.356        0.0  ",
      "text/html": "<div>\n<style scoped>\n    .dataframe tbody tr th:only-of-type {\n        vertical-align: middle;\n    }\n\n    .dataframe tbody tr th {\n        vertical-align: top;\n    }\n\n    .dataframe thead th {\n        text-align: right;\n    }\n</style>\n<table border=\"1\" class=\"dataframe\">\n  <thead>\n    <tr style=\"text-align: right;\">\n      <th></th>\n      <th>Date</th>\n      <th>temperature_2m (°C)</th>\n      <th>relative_humidity_2m (%)</th>\n      <th>dew_point_2m (°C)</th>\n      <th>apparent_temperature (°C)</th>\n      <th>precipitation (mm)</th>\n      <th>rain (mm)</th>\n      <th>snowfall (cm)</th>\n      <th>surface_pressure (hPa)</th>\n      <th>cloud_cover (%)</th>\n      <th>wind_speed_10m (km/h)</th>\n      <th>wind_direction_10m (°)</th>\n      <th>soil_temperature_0_to_7cm (°C)</th>\n      <th>soil_moisture_0_to_7cm (m³/m³)</th>\n      <th>is_day ()</th>\n    </tr>\n  </thead>\n  <tbody>\n    <tr>\n      <th>0</th>\n      <td>2023-01-01 00:15:00+00:00</td>\n      <td>7.7</td>\n      <td>85.0</td>\n      <td>5.3</td>\n      <td>5.5</td>\n      <td>0.0</td>\n      <td>0.0</td>\n      <td>0.0</td>\n      <td>992.7</td>\n      <td>7.0</td>\n      <td>6.7</td>\n      <td>144.0</td>\n      <td>2.6</td>\n      <td>0.357</td>\n      <td>0.0</td>\n    </tr>\n    <tr>\n      <th>1</th>\n      <td>2023-01-01 00:35:00+00:00</td>\n      <td>7.7</td>\n      <td>85.0</td>\n      <td>5.3</td>\n      <td>5.5</td>\n      <td>0.0</td>\n      <td>0.0</td>\n      <td>0.0</td>\n      <td>992.7</td>\n      <td>7.0</td>\n      <td>6.7</td>\n      <td>144.0</td>\n      <td>2.6</td>\n      <td>0.357</td>\n      <td>0.0</td>\n    </tr>\n    <tr>\n      <th>2</th>\n      <td>2023-01-01 01:15:00+00:00</td>\n      <td>7.8</td>\n      <td>84.0</td>\n      <td>5.2</td>\n      <td>5.7</td>\n      <td>0.0</td>\n      <td>0.0</td>\n      <td>0.0</td>\n      <td>992.8</td>\n      <td>4.0</td>\n      <td>6.4</td>\n      <td>133.0</td>\n      <td>2.1</td>\n      <td>0.356</td>\n      <td>0.0</td>\n    </tr>\n    <tr>\n      <th>3</th>\n      <td>2023-01-01 01:35:00+00:00</td>\n      <td>7.8</td>\n      <td>84.0</td>\n      <td>5.2</td>\n      <td>5.7</td>\n      <td>0.0</td>\n      <td>0.0</td>\n      <td>0.0</td>\n      <td>992.8</td>\n      <td>4.0</td>\n      <td>6.4</td>\n      <td>133.0</td>\n      <td>2.1</td>\n      <td>0.356</td>\n      <td>0.0</td>\n    </tr>\n    <tr>\n      <th>4</th>\n      <td>2023-01-01 02:15:00+00:00</td>\n      <td>4.8</td>\n      <td>92.0</td>\n      <td>3.6</td>\n      <td>1.9</td>\n      <td>0.0</td>\n      <td>0.0</td>\n      <td>0.0</td>\n      <td>992.5</td>\n      <td>10.0</td>\n      <td>9.2</td>\n      <td>141.0</td>\n      <td>1.8</td>\n      <td>0.356</td>\n      <td>0.0</td>\n    </tr>\n  </tbody>\n</table>\n</div>"
     },
     "execution_count": 229,
     "metadata": {},
     "output_type": "execute_result"
    }
   ],
   "source": [
    "df_weather = pd.read_csv('data/weather.csv')\n",
    "df_weather.head()"
   ],
   "metadata": {
    "collapsed": false,
    "ExecuteTime": {
     "end_time": "2024-01-16T10:37:03.455372Z",
     "start_time": "2024-01-16T10:37:03.336836Z"
    }
   },
   "id": "26f19fa8676017f",
   "execution_count": 229
  },
  {
   "cell_type": "code",
   "outputs": [],
   "source": [
    "df_weather['Date'] = pd.to_datetime(df_weather['Date'], utc=True)"
   ],
   "metadata": {
    "collapsed": false,
    "ExecuteTime": {
     "end_time": "2024-01-16T10:37:03.487820Z",
     "start_time": "2024-01-16T10:37:03.361763Z"
    }
   },
   "id": "fe542f4633cbfb4d",
   "execution_count": 230
  },
  {
   "cell_type": "code",
   "outputs": [
    {
     "data": {
      "text/plain": "Date           0\nLatitude       0\nLongitude      0\nAltitude       0\nNO2          402\nPM2.5         67\nO3           297\nPM10          67\ndtype: int64"
     },
     "execution_count": 231,
     "metadata": {},
     "output_type": "execute_result"
    }
   ],
   "source": [
    "df.isnull().sum()"
   ],
   "metadata": {
    "collapsed": false,
    "ExecuteTime": {
     "end_time": "2024-01-16T10:37:03.489808Z",
     "start_time": "2024-01-16T10:37:03.396880Z"
    }
   },
   "id": "7a41d622afd76d4a",
   "execution_count": 231
  },
  {
   "cell_type": "code",
   "outputs": [
    {
     "data": {
      "text/plain": "                       Date   Latitude  Longitude  Altitude   NO2  PM2.5   O3  \\\n0 2023-02-15 19:35:00+00:00  46.234818  15.267305     240.0  70.0   71.0  NaN   \n1 2023-02-15 20:15:00+00:00  46.234818  15.267305     240.0  56.0   76.0  2.0   \n2 2023-02-15 20:35:00+00:00  46.234818  15.267305     240.0  56.0   76.0  2.0   \n3 2023-02-15 21:15:00+00:00  46.234818  15.267305     240.0  48.0   73.0  2.0   \n4 2023-02-15 21:35:00+00:00  46.234818  15.267305     240.0  48.0   73.0  2.0   \n\n   PM10  temperature_2m (°C)  relative_humidity_2m (%)  ...  \\\n0  90.0                  0.5                      91.0  ...   \n1  86.0                  0.1                      92.0  ...   \n2  86.0                  0.1                      92.0  ...   \n3  78.0                 -1.1                      93.0  ...   \n4  78.0                 -1.1                      93.0  ...   \n\n   precipitation (mm)  rain (mm)  snowfall (cm)  surface_pressure (hPa)  \\\n0                 0.0        0.0            0.0                   996.8   \n1                 0.0        0.0            0.0                   996.8   \n2                 0.0        0.0            0.0                   996.8   \n3                 0.0        0.0            0.0                   996.6   \n4                 0.0        0.0            0.0                   996.6   \n\n   cloud_cover (%)  wind_speed_10m (km/h)  wind_direction_10m (°)  \\\n0              0.0                    8.0                   190.0   \n1              0.0                    5.9                   227.0   \n2              0.0                    5.9                   227.0   \n3              0.0                    4.6                   252.0   \n4              0.0                    4.6                   252.0   \n\n   soil_temperature_0_to_7cm (°C)  soil_moisture_0_to_7cm (m³/m³)  is_day ()  \n0                             0.4                           0.348        0.0  \n1                             0.2                           0.348        0.0  \n2                             0.2                           0.348        0.0  \n3                             0.1                           0.348        0.0  \n4                             0.1                           0.348        0.0  \n\n[5 rows x 22 columns]",
      "text/html": "<div>\n<style scoped>\n    .dataframe tbody tr th:only-of-type {\n        vertical-align: middle;\n    }\n\n    .dataframe tbody tr th {\n        vertical-align: top;\n    }\n\n    .dataframe thead th {\n        text-align: right;\n    }\n</style>\n<table border=\"1\" class=\"dataframe\">\n  <thead>\n    <tr style=\"text-align: right;\">\n      <th></th>\n      <th>Date</th>\n      <th>Latitude</th>\n      <th>Longitude</th>\n      <th>Altitude</th>\n      <th>NO2</th>\n      <th>PM2.5</th>\n      <th>O3</th>\n      <th>PM10</th>\n      <th>temperature_2m (°C)</th>\n      <th>relative_humidity_2m (%)</th>\n      <th>...</th>\n      <th>precipitation (mm)</th>\n      <th>rain (mm)</th>\n      <th>snowfall (cm)</th>\n      <th>surface_pressure (hPa)</th>\n      <th>cloud_cover (%)</th>\n      <th>wind_speed_10m (km/h)</th>\n      <th>wind_direction_10m (°)</th>\n      <th>soil_temperature_0_to_7cm (°C)</th>\n      <th>soil_moisture_0_to_7cm (m³/m³)</th>\n      <th>is_day ()</th>\n    </tr>\n  </thead>\n  <tbody>\n    <tr>\n      <th>0</th>\n      <td>2023-02-15 19:35:00+00:00</td>\n      <td>46.234818</td>\n      <td>15.267305</td>\n      <td>240.0</td>\n      <td>70.0</td>\n      <td>71.0</td>\n      <td>NaN</td>\n      <td>90.0</td>\n      <td>0.5</td>\n      <td>91.0</td>\n      <td>...</td>\n      <td>0.0</td>\n      <td>0.0</td>\n      <td>0.0</td>\n      <td>996.8</td>\n      <td>0.0</td>\n      <td>8.0</td>\n      <td>190.0</td>\n      <td>0.4</td>\n      <td>0.348</td>\n      <td>0.0</td>\n    </tr>\n    <tr>\n      <th>1</th>\n      <td>2023-02-15 20:15:00+00:00</td>\n      <td>46.234818</td>\n      <td>15.267305</td>\n      <td>240.0</td>\n      <td>56.0</td>\n      <td>76.0</td>\n      <td>2.0</td>\n      <td>86.0</td>\n      <td>0.1</td>\n      <td>92.0</td>\n      <td>...</td>\n      <td>0.0</td>\n      <td>0.0</td>\n      <td>0.0</td>\n      <td>996.8</td>\n      <td>0.0</td>\n      <td>5.9</td>\n      <td>227.0</td>\n      <td>0.2</td>\n      <td>0.348</td>\n      <td>0.0</td>\n    </tr>\n    <tr>\n      <th>2</th>\n      <td>2023-02-15 20:35:00+00:00</td>\n      <td>46.234818</td>\n      <td>15.267305</td>\n      <td>240.0</td>\n      <td>56.0</td>\n      <td>76.0</td>\n      <td>2.0</td>\n      <td>86.0</td>\n      <td>0.1</td>\n      <td>92.0</td>\n      <td>...</td>\n      <td>0.0</td>\n      <td>0.0</td>\n      <td>0.0</td>\n      <td>996.8</td>\n      <td>0.0</td>\n      <td>5.9</td>\n      <td>227.0</td>\n      <td>0.2</td>\n      <td>0.348</td>\n      <td>0.0</td>\n    </tr>\n    <tr>\n      <th>3</th>\n      <td>2023-02-15 21:15:00+00:00</td>\n      <td>46.234818</td>\n      <td>15.267305</td>\n      <td>240.0</td>\n      <td>48.0</td>\n      <td>73.0</td>\n      <td>2.0</td>\n      <td>78.0</td>\n      <td>-1.1</td>\n      <td>93.0</td>\n      <td>...</td>\n      <td>0.0</td>\n      <td>0.0</td>\n      <td>0.0</td>\n      <td>996.6</td>\n      <td>0.0</td>\n      <td>4.6</td>\n      <td>252.0</td>\n      <td>0.1</td>\n      <td>0.348</td>\n      <td>0.0</td>\n    </tr>\n    <tr>\n      <th>4</th>\n      <td>2023-02-15 21:35:00+00:00</td>\n      <td>46.234818</td>\n      <td>15.267305</td>\n      <td>240.0</td>\n      <td>48.0</td>\n      <td>73.0</td>\n      <td>2.0</td>\n      <td>78.0</td>\n      <td>-1.1</td>\n      <td>93.0</td>\n      <td>...</td>\n      <td>0.0</td>\n      <td>0.0</td>\n      <td>0.0</td>\n      <td>996.6</td>\n      <td>0.0</td>\n      <td>4.6</td>\n      <td>252.0</td>\n      <td>0.1</td>\n      <td>0.348</td>\n      <td>0.0</td>\n    </tr>\n  </tbody>\n</table>\n<p>5 rows × 22 columns</p>\n</div>"
     },
     "execution_count": 232,
     "metadata": {},
     "output_type": "execute_result"
    }
   ],
   "source": [
    "df = pd.merge(df, df_weather, on='Date', how='left')\n",
    "df.head()"
   ],
   "metadata": {
    "collapsed": false,
    "ExecuteTime": {
     "end_time": "2024-01-16T10:37:03.514290Z",
     "start_time": "2024-01-16T10:37:03.409121Z"
    }
   },
   "id": "4ed5d42c90448c72",
   "execution_count": 232
  },
  {
   "cell_type": "markdown",
   "source": [
    "# Dodajanje novih značilnic\n",
    "Z namenom izboljšanja napovedi dodamo nove značilnice, ki bi lahko vplivale na kvaliteto zraka."
   ],
   "metadata": {
    "collapsed": false
   },
   "id": "1f35ea1e6b6f40dc"
  },
  {
   "cell_type": "code",
   "outputs": [],
   "source": [
    "df[\"PM2.5/N02\"] = df[\"PM2.5\"] / df[\"NO2\"]\n",
    "\n",
    "df[\"PM2.5/03\"] = df[\"PM2.5\"] / df[\"O3\"]\n",
    "\n",
    "df['Season'] = df['Date'].dt.month.apply(lambda x: 'Winter' if (x == 12 or x <= 2) else\n",
    "('Spring' if (3 <= x <= 5) else\n",
    " ('Summer' if (6 <= x <= 8) else\n",
    "  ('Autumn' if (9 <= x <= 11) else None))))\n",
    "\n",
    "df[\"Season\"].astype('category')\n",
    "\n",
    "df[\"Weekend\"] = df[\"Date\"].dt.dayofweek.apply(lambda x: 1 if (x == 5 or x == 6) else 0)"
   ],
   "metadata": {
    "collapsed": false,
    "ExecuteTime": {
     "end_time": "2024-01-16T10:37:03.548309Z",
     "start_time": "2024-01-16T10:37:03.484415Z"
    }
   },
   "id": "61e272ffc9162fcf",
   "execution_count": 233
  },
  {
   "cell_type": "markdown",
   "source": [
    "Kodiranje kategoričnih spremenljivk"
   ],
   "metadata": {
    "collapsed": false
   },
   "id": "f029b2786e126b8d"
  },
  {
   "cell_type": "code",
   "outputs": [],
   "source": [
    "df = pd.get_dummies(df, columns=['Season'])"
   ],
   "metadata": {
    "collapsed": false,
    "ExecuteTime": {
     "end_time": "2024-01-16T10:37:03.647921Z",
     "start_time": "2024-01-16T10:37:03.548302Z"
    }
   },
   "id": "b9bba29b5c35dd18",
   "execution_count": 234
  },
  {
   "cell_type": "code",
   "outputs": [
    {
     "data": {
      "text/plain": "Date                                0\nLatitude                            0\nLongitude                           0\nAltitude                            0\nNO2                               402\nPM2.5                              67\nO3                                297\nPM10                               67\ntemperature_2m (°C)                 1\nrelative_humidity_2m (%)            1\ndew_point_2m (°C)                   1\napparent_temperature (°C)           1\nprecipitation (mm)                  1\nrain (mm)                           1\nsnowfall (cm)                       1\nsurface_pressure (hPa)              1\ncloud_cover (%)                     1\nwind_speed_10m (km/h)               1\nwind_direction_10m (°)              1\nsoil_temperature_0_to_7cm (°C)      1\nsoil_moisture_0_to_7cm (m³/m³)      1\nis_day ()                           1\nPM2.5/N02                         403\nPM2.5/03                          297\nWeekend                             0\nSeason_Autumn                       0\nSeason_Spring                       0\nSeason_Summer                       0\nSeason_Winter                       0\ndtype: int64"
     },
     "execution_count": 235,
     "metadata": {},
     "output_type": "execute_result"
    }
   ],
   "source": [
    "df.isnull().sum()"
   ],
   "metadata": {
    "collapsed": false,
    "ExecuteTime": {
     "end_time": "2024-01-16T10:37:03.723984Z",
     "start_time": "2024-01-16T10:37:03.646910Z"
    }
   },
   "id": "93bd7daf0bb18e26",
   "execution_count": 235
  },
  {
   "cell_type": "markdown",
   "source": [
    "Odstranimo vrstice kjer je PM10 null"
   ],
   "metadata": {
    "collapsed": false
   },
   "id": "5f7ef9485deb5e31"
  },
  {
   "cell_type": "code",
   "outputs": [],
   "source": [
    "# remove rows where PM10 is null\n",
    "df = df[df['PM10'].notnull()]"
   ],
   "metadata": {
    "collapsed": false,
    "ExecuteTime": {
     "end_time": "2024-01-16T10:37:03.765553Z",
     "start_time": "2024-01-16T10:37:03.687032Z"
    }
   },
   "id": "fad2c7a9fdace8f",
   "execution_count": 236
  },
  {
   "cell_type": "markdown",
   "source": [
    "# Zapolnimo manjkajoče vrednosti\n",
    "Manjkajoče vrednosti zapolnimo z vrednostmi, ki jih napovemo s pomočjo modela."
   ],
   "metadata": {
    "collapsed": false
   },
   "id": "7dfae4ee10013ad1"
  },
  {
   "cell_type": "code",
   "outputs": [],
   "source": [
    "cols_to_fill = df.columns[df.isnull().any()].tolist()"
   ],
   "metadata": {
    "collapsed": false,
    "ExecuteTime": {
     "end_time": "2024-01-16T10:37:03.792380Z",
     "start_time": "2024-01-16T10:37:03.756364Z"
    }
   },
   "id": "a54427f2a28916e",
   "execution_count": 237
  },
  {
   "cell_type": "code",
   "outputs": [],
   "source": [
    "for col in cols_to_fill:\n",
    "    incomplete_rows = df[df[col].isnull()]\n",
    "    complete_rows = df[~df[col].isnull()]\n",
    "\n",
    "    # Features and target columns excluding 'Date'\n",
    "    features = [c for c in df.columns if c != col and c != 'Date']\n",
    "    target = col\n",
    "\n",
    "    X_train = complete_rows[features]\n",
    "    y_train = complete_rows[target]\n",
    "\n",
    "    model = HistGradientBoostingRegressor()\n",
    "\n",
    "    model.fit(X_train, y_train)\n",
    "\n",
    "    predicted_values = model.predict(incomplete_rows[features])\n",
    "\n",
    "    df.loc[df[col].isnull(), col] = predicted_values"
   ],
   "metadata": {
    "collapsed": false,
    "ExecuteTime": {
     "end_time": "2024-01-16T10:37:07.149920Z",
     "start_time": "2024-01-16T10:37:03.783242Z"
    }
   },
   "id": "21a45d9973b7ece4",
   "execution_count": 238
  },
  {
   "cell_type": "code",
   "outputs": [
    {
     "data": {
      "text/plain": "Date                              0\nLatitude                          0\nLongitude                         0\nAltitude                          0\nNO2                               0\nPM2.5                             0\nO3                                0\nPM10                              0\ntemperature_2m (°C)               0\nrelative_humidity_2m (%)          0\ndew_point_2m (°C)                 0\napparent_temperature (°C)         0\nprecipitation (mm)                0\nrain (mm)                         0\nsnowfall (cm)                     0\nsurface_pressure (hPa)            0\ncloud_cover (%)                   0\nwind_speed_10m (km/h)             0\nwind_direction_10m (°)            0\nsoil_temperature_0_to_7cm (°C)    0\nsoil_moisture_0_to_7cm (m³/m³)    0\nis_day ()                         0\nPM2.5/N02                         0\nPM2.5/03                          0\nWeekend                           0\nSeason_Autumn                     0\nSeason_Spring                     0\nSeason_Summer                     0\nSeason_Winter                     0\ndtype: int64"
     },
     "execution_count": 239,
     "metadata": {},
     "output_type": "execute_result"
    }
   ],
   "source": [
    "df.isnull().sum()"
   ],
   "metadata": {
    "collapsed": false,
    "ExecuteTime": {
     "end_time": "2024-01-16T10:37:07.156471Z",
     "start_time": "2024-01-16T10:37:07.150732Z"
    }
   },
   "id": "a415a8ea1350111f",
   "execution_count": 239
  },
  {
   "cell_type": "code",
   "outputs": [
    {
     "data": {
      "text/plain": "                       Date   Latitude  Longitude  Altitude   NO2  PM2.5  \\\n0 2023-02-15 19:35:00+00:00  46.234818  15.267305     240.0  70.0   71.0   \n1 2023-02-15 20:15:00+00:00  46.234818  15.267305     240.0  56.0   76.0   \n2 2023-02-15 20:35:00+00:00  46.234818  15.267305     240.0  56.0   76.0   \n3 2023-02-15 21:15:00+00:00  46.234818  15.267305     240.0  48.0   73.0   \n4 2023-02-15 21:35:00+00:00  46.234818  15.267305     240.0  48.0   73.0   \n\n           O3  PM10  temperature_2m (°C)  relative_humidity_2m (%)  ...  \\\n0  103.240981  90.0                  0.5                      91.0  ...   \n1    2.000000  86.0                  0.1                      92.0  ...   \n2    2.000000  86.0                  0.1                      92.0  ...   \n3    2.000000  78.0                 -1.1                      93.0  ...   \n4    2.000000  78.0                 -1.1                      93.0  ...   \n\n   soil_temperature_0_to_7cm (°C)  soil_moisture_0_to_7cm (m³/m³)  is_day ()  \\\n0                             0.4                           0.348        0.0   \n1                             0.2                           0.348        0.0   \n2                             0.2                           0.348        0.0   \n3                             0.1                           0.348        0.0   \n4                             0.1                           0.348        0.0   \n\n   PM2.5/N02   PM2.5/03  Weekend  Season_Autumn  Season_Spring  Season_Summer  \\\n0   1.014286   0.264237        0          False          False          False   \n1   1.357143  38.000000        0          False          False          False   \n2   1.357143  38.000000        0          False          False          False   \n3   1.520833  36.500000        0          False          False          False   \n4   1.520833  36.500000        0          False          False          False   \n\n   Season_Winter  \n0           True  \n1           True  \n2           True  \n3           True  \n4           True  \n\n[5 rows x 29 columns]",
      "text/html": "<div>\n<style scoped>\n    .dataframe tbody tr th:only-of-type {\n        vertical-align: middle;\n    }\n\n    .dataframe tbody tr th {\n        vertical-align: top;\n    }\n\n    .dataframe thead th {\n        text-align: right;\n    }\n</style>\n<table border=\"1\" class=\"dataframe\">\n  <thead>\n    <tr style=\"text-align: right;\">\n      <th></th>\n      <th>Date</th>\n      <th>Latitude</th>\n      <th>Longitude</th>\n      <th>Altitude</th>\n      <th>NO2</th>\n      <th>PM2.5</th>\n      <th>O3</th>\n      <th>PM10</th>\n      <th>temperature_2m (°C)</th>\n      <th>relative_humidity_2m (%)</th>\n      <th>...</th>\n      <th>soil_temperature_0_to_7cm (°C)</th>\n      <th>soil_moisture_0_to_7cm (m³/m³)</th>\n      <th>is_day ()</th>\n      <th>PM2.5/N02</th>\n      <th>PM2.5/03</th>\n      <th>Weekend</th>\n      <th>Season_Autumn</th>\n      <th>Season_Spring</th>\n      <th>Season_Summer</th>\n      <th>Season_Winter</th>\n    </tr>\n  </thead>\n  <tbody>\n    <tr>\n      <th>0</th>\n      <td>2023-02-15 19:35:00+00:00</td>\n      <td>46.234818</td>\n      <td>15.267305</td>\n      <td>240.0</td>\n      <td>70.0</td>\n      <td>71.0</td>\n      <td>103.240981</td>\n      <td>90.0</td>\n      <td>0.5</td>\n      <td>91.0</td>\n      <td>...</td>\n      <td>0.4</td>\n      <td>0.348</td>\n      <td>0.0</td>\n      <td>1.014286</td>\n      <td>0.264237</td>\n      <td>0</td>\n      <td>False</td>\n      <td>False</td>\n      <td>False</td>\n      <td>True</td>\n    </tr>\n    <tr>\n      <th>1</th>\n      <td>2023-02-15 20:15:00+00:00</td>\n      <td>46.234818</td>\n      <td>15.267305</td>\n      <td>240.0</td>\n      <td>56.0</td>\n      <td>76.0</td>\n      <td>2.000000</td>\n      <td>86.0</td>\n      <td>0.1</td>\n      <td>92.0</td>\n      <td>...</td>\n      <td>0.2</td>\n      <td>0.348</td>\n      <td>0.0</td>\n      <td>1.357143</td>\n      <td>38.000000</td>\n      <td>0</td>\n      <td>False</td>\n      <td>False</td>\n      <td>False</td>\n      <td>True</td>\n    </tr>\n    <tr>\n      <th>2</th>\n      <td>2023-02-15 20:35:00+00:00</td>\n      <td>46.234818</td>\n      <td>15.267305</td>\n      <td>240.0</td>\n      <td>56.0</td>\n      <td>76.0</td>\n      <td>2.000000</td>\n      <td>86.0</td>\n      <td>0.1</td>\n      <td>92.0</td>\n      <td>...</td>\n      <td>0.2</td>\n      <td>0.348</td>\n      <td>0.0</td>\n      <td>1.357143</td>\n      <td>38.000000</td>\n      <td>0</td>\n      <td>False</td>\n      <td>False</td>\n      <td>False</td>\n      <td>True</td>\n    </tr>\n    <tr>\n      <th>3</th>\n      <td>2023-02-15 21:15:00+00:00</td>\n      <td>46.234818</td>\n      <td>15.267305</td>\n      <td>240.0</td>\n      <td>48.0</td>\n      <td>73.0</td>\n      <td>2.000000</td>\n      <td>78.0</td>\n      <td>-1.1</td>\n      <td>93.0</td>\n      <td>...</td>\n      <td>0.1</td>\n      <td>0.348</td>\n      <td>0.0</td>\n      <td>1.520833</td>\n      <td>36.500000</td>\n      <td>0</td>\n      <td>False</td>\n      <td>False</td>\n      <td>False</td>\n      <td>True</td>\n    </tr>\n    <tr>\n      <th>4</th>\n      <td>2023-02-15 21:35:00+00:00</td>\n      <td>46.234818</td>\n      <td>15.267305</td>\n      <td>240.0</td>\n      <td>48.0</td>\n      <td>73.0</td>\n      <td>2.000000</td>\n      <td>78.0</td>\n      <td>-1.1</td>\n      <td>93.0</td>\n      <td>...</td>\n      <td>0.1</td>\n      <td>0.348</td>\n      <td>0.0</td>\n      <td>1.520833</td>\n      <td>36.500000</td>\n      <td>0</td>\n      <td>False</td>\n      <td>False</td>\n      <td>False</td>\n      <td>True</td>\n    </tr>\n  </tbody>\n</table>\n<p>5 rows × 29 columns</p>\n</div>"
     },
     "execution_count": 240,
     "metadata": {},
     "output_type": "execute_result"
    }
   ],
   "source": [
    "df.head()"
   ],
   "metadata": {
    "collapsed": false,
    "ExecuteTime": {
     "end_time": "2024-01-16T10:37:07.166988Z",
     "start_time": "2024-01-16T10:37:07.160707Z"
    }
   },
   "id": "da5285fd5af9622c",
   "execution_count": 240
  },
  {
   "cell_type": "code",
   "outputs": [
    {
     "data": {
      "text/plain": "False"
     },
     "execution_count": 241,
     "metadata": {},
     "output_type": "execute_result"
    }
   ],
   "source": [
    "np.any(np.isnan(df))"
   ],
   "metadata": {
    "collapsed": false,
    "ExecuteTime": {
     "end_time": "2024-01-16T10:37:07.173279Z",
     "start_time": "2024-01-16T10:37:07.164885Z"
    }
   },
   "id": "f818d5bcd0f04b69",
   "execution_count": 241
  },
  {
   "cell_type": "markdown",
   "source": [
    "# Odkrivanje odvisnosti med spremenljivkam in ciljno spremenljivko"
   ],
   "metadata": {
    "collapsed": false
   },
   "id": "ce4ed005b3c15405"
  },
  {
   "cell_type": "code",
   "outputs": [
    {
     "data": {
      "text/plain": "PM2.5                             1.485501\nPM2.5/03                          0.785615\nPM2.5/N02                         0.562566\nsoil_moisture_0_to_7cm (m³/m³)    0.488678\ndew_point_2m (°C)                 0.387584\nsoil_temperature_0_to_7cm (°C)    0.370328\nNO2                               0.342424\napparent_temperature (°C)         0.325969\ntemperature_2m (°C)               0.311425\nO3                                0.306842\nName: Information Gain Scores, dtype: float64"
     },
     "execution_count": 242,
     "metadata": {},
     "output_type": "execute_result"
    }
   ],
   "source": [
    "output_col = 'PM10'\n",
    "\n",
    "input_cols = df.columns.tolist()\n",
    "input_cols.remove(output_col)\n",
    "input_cols.remove('Date')\n",
    "\n",
    "information_gain_scores = mutual_info_regression(df[input_cols], df[output_col])\n",
    "\n",
    "feature_importances = pd.Series(information_gain_scores, index=input_cols)\n",
    "feature_importances.name = 'Information Gain Scores'\n",
    "feature_importances.sort_values(ascending=False, inplace=True)\n",
    "\n",
    "feature_importances.head(10)"
   ],
   "metadata": {
    "collapsed": false,
    "ExecuteTime": {
     "end_time": "2024-01-16T10:37:07.488738Z",
     "start_time": "2024-01-16T10:37:07.169605Z"
    }
   },
   "id": "3298f8f24642644a",
   "execution_count": 242
  },
  {
   "cell_type": "code",
   "outputs": [
    {
     "data": {
      "text/plain": "<Axes: >"
     },
     "execution_count": 243,
     "metadata": {},
     "output_type": "execute_result"
    },
    {
     "data": {
      "text/plain": "<Figure size 1200x600 with 1 Axes>",
      "image/png": "[encoded data removed]"
     },
     "metadata": {},
     "output_type": "display_data"
    }
   ],
   "source": [
    "feature_importances.head(10).plot.bar(figsize=(12, 6))"
   ],
   "metadata": {
    "collapsed": false,
    "ExecuteTime": {
     "end_time": "2024-01-16T10:37:07.596206Z",
     "start_time": "2024-01-16T10:37:07.494629Z"
    }
   },
   "id": "d1ce7fb88e11de03",
   "execution_count": 243
  },
  {
   "cell_type": "code",
   "outputs": [
    {
     "name": "stdout",
     "output_type": "stream",
     "text": [
      "['PM2.5', 'PM2.5/03', 'PM2.5/N02']\n"
     ]
    }
   ],
   "source": [
    "top_features = feature_importances.head(3).index.tolist()\n",
    "print(top_features)"
   ],
   "metadata": {
    "collapsed": false,
    "ExecuteTime": {
     "end_time": "2024-01-16T10:37:07.596686Z",
     "start_time": "2024-01-16T10:37:07.593087Z"
    }
   },
   "id": "f6e3a4257c66edfc",
   "execution_count": 244
  },
  {
   "cell_type": "markdown",
   "source": [
    "# Odpravljanje izkrivljenosti podatkov\n",
    "- Box-Cox transformacija\n"
   ],
   "metadata": {
    "collapsed": false
   },
   "id": "45607524e1c2d7e0"
  },
  {
   "cell_type": "code",
   "outputs": [],
   "source": [
    "def boxcox_transform(column):\n",
    "    # create before and after plots for comparison\n",
    "    fig, ax = plt.subplots(1, 2, figsize=(10, 5))\n",
    "    sns.distplot(df[column], ax=ax[0])\n",
    "    ax[0].set_title(\"Before Box-Cox\")\n",
    "\n",
    "    # transform data\n",
    "    data = boxcox(df[column], lmbda=0.0)\n",
    "\n",
    "    # create after plots\n",
    "    sns.distplot(data, ax=ax[1])\n",
    "    ax[1].set_title(\"After Box-Cox\")\n",
    "\n",
    "    # update dataframe\n",
    "    df[column] = data\n",
    "\n",
    "    plt.show()"
   ],
   "metadata": {
    "collapsed": false,
    "ExecuteTime": {
     "end_time": "2024-01-16T10:37:07.603751Z",
     "start_time": "2024-01-16T10:37:07.596782Z"
    }
   },
   "id": "f2fa0c067ef518a7",
   "execution_count": 245
  },
  {
   "cell_type": "code",
   "outputs": [
    {
     "name": "stderr",
     "output_type": "stream",
     "text": [
      "/var/folders/m7/dkyjm7gn71ggjt2b8p3ymthc0000gn/T/ipykernel_7614/2837000130.py:4: UserWarning: \n",
      "\n",
      "`distplot` is a deprecated function and will be removed in seaborn v0.14.0.\n",
      "\n",
      "Please adapt your code to use either `displot` (a figure-level function with\n",
      "similar flexibility) or `histplot` (an axes-level function for histograms).\n",
      "\n",
      "For a guide to updating your code to use the new functions, please see\n",
      "https://gist.github.com/mwaskom/de44147ed2974457ad6372750bbe5751\n",
      "\n",
      "  sns.distplot(df[column], ax=ax[0])\n",
      "/opt/homebrew/Caskroom/miniforge/base/envs/rnn/lib/python3.10/site-packages/seaborn/_oldcore.py:1119: FutureWarning: use_inf_as_na option is deprecated and will be removed in a future version. Convert inf values to NaN before operating instead.\n",
      "  with pd.option_context('mode.use_inf_as_na', True):\n",
      "/var/folders/m7/dkyjm7gn71ggjt2b8p3ymthc0000gn/T/ipykernel_7614/2837000130.py:11: UserWarning: \n",
      "\n",
      "`distplot` is a deprecated function and will be removed in seaborn v0.14.0.\n",
      "\n",
      "Please adapt your code to use either `displot` (a figure-level function with\n",
      "similar flexibility) or `histplot` (an axes-level function for histograms).\n",
      "\n",
      "For a guide to updating your code to use the new functions, please see\n",
      "https://gist.github.com/mwaskom/de44147ed2974457ad6372750bbe5751\n",
      "\n",
      "  sns.distplot(data, ax=ax[1])\n",
      "/opt/homebrew/Caskroom/miniforge/base/envs/rnn/lib/python3.10/site-packages/seaborn/_oldcore.py:1119: FutureWarning: use_inf_as_na option is deprecated and will be removed in a future version. Convert inf values to NaN before operating instead.\n",
      "  with pd.option_context('mode.use_inf_as_na', True):\n"
     ]
    },
    {
     "data": {
      "text/plain": "<Figure size 1000x500 with 2 Axes>",
      "image/png": "[encoded data removed]"
     },
     "metadata": {},
     "output_type": "display_data"
    },
    {
     "name": "stderr",
     "output_type": "stream",
     "text": [
      "/var/folders/m7/dkyjm7gn71ggjt2b8p3ymthc0000gn/T/ipykernel_7614/2837000130.py:4: UserWarning: \n",
      "\n",
      "`distplot` is a deprecated function and will be removed in seaborn v0.14.0.\n",
      "\n",
      "Please adapt your code to use either `displot` (a figure-level function with\n",
      "similar flexibility) or `histplot` (an axes-level function for histograms).\n",
      "\n",
      "For a guide to updating your code to use the new functions, please see\n",
      "https://gist.github.com/mwaskom/de44147ed2974457ad6372750bbe5751\n",
      "\n",
      "  sns.distplot(df[column], ax=ax[0])\n",
      "/opt/homebrew/Caskroom/miniforge/base/envs/rnn/lib/python3.10/site-packages/seaborn/_oldcore.py:1119: FutureWarning: use_inf_as_na option is deprecated and will be removed in a future version. Convert inf values to NaN before operating instead.\n",
      "  with pd.option_context('mode.use_inf_as_na', True):\n",
      "/var/folders/m7/dkyjm7gn71ggjt2b8p3ymthc0000gn/T/ipykernel_7614/2837000130.py:11: UserWarning: \n",
      "\n",
      "`distplot` is a deprecated function and will be removed in seaborn v0.14.0.\n",
      "\n",
      "Please adapt your code to use either `displot` (a figure-level function with\n",
      "similar flexibility) or `histplot` (an axes-level function for histograms).\n",
      "\n",
      "For a guide to updating your code to use the new functions, please see\n",
      "https://gist.github.com/mwaskom/de44147ed2974457ad6372750bbe5751\n",
      "\n",
      "  sns.distplot(data, ax=ax[1])\n",
      "/opt/homebrew/Caskroom/miniforge/base/envs/rnn/lib/python3.10/site-packages/seaborn/_oldcore.py:1119: FutureWarning: use_inf_as_na option is deprecated and will be removed in a future version. Convert inf values to NaN before operating instead.\n",
      "  with pd.option_context('mode.use_inf_as_na', True):\n"
     ]
    },
    {
     "data": {
      "text/plain": "<Figure size 1000x500 with 2 Axes>",
      "image/png": "[encoded data removed]"
     },
     "metadata": {},
     "output_type": "display_data"
    },
    {
     "name": "stderr",
     "output_type": "stream",
     "text": [
      "/var/folders/m7/dkyjm7gn71ggjt2b8p3ymthc0000gn/T/ipykernel_7614/2837000130.py:4: UserWarning: \n",
      "\n",
      "`distplot` is a deprecated function and will be removed in seaborn v0.14.0.\n",
      "\n",
      "Please adapt your code to use either `displot` (a figure-level function with\n",
      "similar flexibility) or `histplot` (an axes-level function for histograms).\n",
      "\n",
      "For a guide to updating your code to use the new functions, please see\n",
      "https://gist.github.com/mwaskom/de44147ed2974457ad6372750bbe5751\n",
      "\n",
      "  sns.distplot(df[column], ax=ax[0])\n",
      "/opt/homebrew/Caskroom/miniforge/base/envs/rnn/lib/python3.10/site-packages/seaborn/_oldcore.py:1119: FutureWarning: use_inf_as_na option is deprecated and will be removed in a future version. Convert inf values to NaN before operating instead.\n",
      "  with pd.option_context('mode.use_inf_as_na', True):\n",
      "/var/folders/m7/dkyjm7gn71ggjt2b8p3ymthc0000gn/T/ipykernel_7614/2837000130.py:11: UserWarning: \n",
      "\n",
      "`distplot` is a deprecated function and will be removed in seaborn v0.14.0.\n",
      "\n",
      "Please adapt your code to use either `displot` (a figure-level function with\n",
      "similar flexibility) or `histplot` (an axes-level function for histograms).\n",
      "\n",
      "For a guide to updating your code to use the new functions, please see\n",
      "https://gist.github.com/mwaskom/de44147ed2974457ad6372750bbe5751\n",
      "\n",
      "  sns.distplot(data, ax=ax[1])\n",
      "/opt/homebrew/Caskroom/miniforge/base/envs/rnn/lib/python3.10/site-packages/seaborn/_oldcore.py:1119: FutureWarning: use_inf_as_na option is deprecated and will be removed in a future version. Convert inf values to NaN before operating instead.\n",
      "  with pd.option_context('mode.use_inf_as_na', True):\n"
     ]
    },
    {
     "data": {
      "text/plain": "<Figure size 1000x500 with 2 Axes>",
      "image/png": "[encoded data removed]"
     },
     "metadata": {},
     "output_type": "display_data"
    }
   ],
   "source": [
    "for feature in top_features:\n",
    "    boxcox_transform(feature)"
   ],
   "metadata": {
    "collapsed": false,
    "ExecuteTime": {
     "end_time": "2024-01-16T10:37:08.565081Z",
     "start_time": "2024-01-16T10:37:07.599673Z"
    }
   },
   "id": "7047ca76e09dae81",
   "execution_count": 246
  },
  {
   "cell_type": "markdown",
   "source": [
    "# Priprava podatkov za modeliranje"
   ],
   "metadata": {
    "collapsed": false
   },
   "id": "6a36cb372ce19f8c"
  },
  {
   "cell_type": "code",
   "outputs": [],
   "source": [
    "target = \"PM10\"\n",
    "features = [target] + top_features\n",
    "dataset = df[features]"
   ],
   "metadata": {
    "collapsed": false,
    "ExecuteTime": {
     "end_time": "2024-01-16T10:37:08.570801Z",
     "start_time": "2024-01-16T10:37:08.566530Z"
    }
   },
   "id": "49f1df1d7572dc1f",
   "execution_count": 247
  },
  {
   "cell_type": "code",
   "outputs": [
    {
     "data": {
      "text/plain": "(5558, 4)"
     },
     "execution_count": 248,
     "metadata": {},
     "output_type": "execute_result"
    }
   ],
   "source": [
    "dataset.shape"
   ],
   "metadata": {
    "collapsed": false,
    "ExecuteTime": {
     "end_time": "2024-01-16T10:37:08.575822Z",
     "start_time": "2024-01-16T10:37:08.569544Z"
    }
   },
   "id": "368922ede07f2cbe",
   "execution_count": 248
  },
  {
   "cell_type": "code",
   "outputs": [],
   "source": [
    "test_split = round(len(dataset) * 0.2)"
   ],
   "metadata": {
    "collapsed": false,
    "ExecuteTime": {
     "end_time": "2024-01-16T10:37:08.588303Z",
     "start_time": "2024-01-16T10:37:08.574199Z"
    }
   },
   "id": "47800ce8f5cc1d05",
   "execution_count": 249
  },
  {
   "cell_type": "code",
   "outputs": [],
   "source": [
    "train_data = dataset[:-test_split]\n",
    "test_data = dataset[-test_split:]"
   ],
   "metadata": {
    "collapsed": false,
    "ExecuteTime": {
     "end_time": "2024-01-16T10:37:08.667857Z",
     "start_time": "2024-01-16T10:37:08.576894Z"
    }
   },
   "id": "dcc29eb36ab5bbec",
   "execution_count": 250
  },
  {
   "cell_type": "code",
   "outputs": [
    {
     "name": "stdout",
     "output_type": "stream",
     "text": [
      "(4446, 4) (1112, 4)\n"
     ]
    }
   ],
   "source": [
    "print(train_data.shape, test_data.shape)"
   ],
   "metadata": {
    "collapsed": false,
    "ExecuteTime": {
     "end_time": "2024-01-16T10:37:08.669853Z",
     "start_time": "2024-01-16T10:37:08.579521Z"
    }
   },
   "id": "e97a3c03ef742c2f",
   "execution_count": 251
  },
  {
   "cell_type": "markdown",
   "source": [
    "## Normalizacija podatkov"
   ],
   "metadata": {
    "collapsed": false
   },
   "id": "dc5573f42f1c6eea"
  },
  {
   "cell_type": "code",
   "outputs": [],
   "source": [
    "scaler = MinMaxScaler()\n",
    "\n",
    "train_data = scaler.fit_transform(train_data)\n",
    "test_data = scaler.transform(test_data)"
   ],
   "metadata": {
    "collapsed": false,
    "ExecuteTime": {
     "end_time": "2024-01-16T10:37:08.671578Z",
     "start_time": "2024-01-16T10:37:08.582762Z"
    }
   },
   "id": "e1d14d5f52151619",
   "execution_count": 252
  },
  {
   "cell_type": "markdown",
   "source": [
    "# Ustvarjanje vhodno-izhodnih parov\n",
    "Za napovedovanje časovnih vrst bomo uporabili vhodno-izhodne pare, kjer bo vhod predstavljal n preteklih vrednosti, izhod pa bo predstavljal trenutno vrednost."
   ],
   "metadata": {
    "collapsed": false
   },
   "id": "10bf30dab65fef7b"
  },
  {
   "cell_type": "code",
   "outputs": [],
   "source": [
    "def create_multivariate_time_series(data, n_past, target_col=0, feature_cols=None):\n",
    "    if feature_cols is None:\n",
    "        feature_cols = list(range(data.shape[1]))\n",
    "\n",
    "    X, y = [], []\n",
    "    for i in range(n_past, len(data)):\n",
    "        X.append(data[i - n_past:i, feature_cols])\n",
    "        y.append(data[i, target_col])\n",
    "\n",
    "    return np.array(X), np.array(y)"
   ],
   "metadata": {
    "collapsed": false,
    "ExecuteTime": {
     "end_time": "2024-01-16T10:37:08.718231Z",
     "start_time": "2024-01-16T10:37:08.587216Z"
    }
   },
   "id": "632d7729a7d3749d",
   "execution_count": 253
  },
  {
   "cell_type": "code",
   "outputs": [],
   "source": [
    "# Usage of create_multivariate_time_series function\n",
    "num_of_days = 1\n",
    "num_of_measurements_per_day = 48\n",
    "n_past = num_of_measurements_per_day * num_of_days  # Number of past time steps to consider\n",
    "target_col = 0  # Index of the target column (PM10) in your dataset\n",
    "feature_cols = list(range(len(features)))  # All columns used as features"
   ],
   "metadata": {
    "collapsed": false,
    "ExecuteTime": {
     "end_time": "2024-01-16T10:37:08.720487Z",
     "start_time": "2024-01-16T10:37:08.589459Z"
    }
   },
   "id": "3194771b1f658444",
   "execution_count": 254
  },
  {
   "cell_type": "code",
   "outputs": [],
   "source": [
    "# Creating input-output pairs using the function\n",
    "X_train, y_train = create_multivariate_time_series(train_data, n_past, target_col, feature_cols)\n",
    "X_test, y_test = create_multivariate_time_series(test_data, n_past, target_col, feature_cols)"
   ],
   "metadata": {
    "collapsed": false,
    "ExecuteTime": {
     "end_time": "2024-01-16T10:37:08.722132Z",
     "start_time": "2024-01-16T10:37:08.591347Z"
    }
   },
   "id": "127e95c22b78afd1",
   "execution_count": 255
  },
  {
   "cell_type": "code",
   "outputs": [],
   "source": [
    "# X_train = X_train.reshape(X_train.shape[0], X_train.shape[2], X_train.shape[1])\n",
    "# X_test = X_test.reshape(X_test.shape[0], X_test.shape[2], X_test.shape[1])"
   ],
   "metadata": {
    "collapsed": false,
    "ExecuteTime": {
     "end_time": "2024-01-16T10:37:08.723740Z",
     "start_time": "2024-01-16T10:37:08.605697Z"
    }
   },
   "id": "7958c4c3c17e9653",
   "execution_count": 256
  },
  {
   "cell_type": "code",
   "outputs": [
    {
     "name": "stdout",
     "output_type": "stream",
     "text": [
      "Shape of training data: X_train: (4398, 48, 4), y_train: (4398,)\n",
      "Shape of testing data: X_test: (1064, 48, 4), y_test: (1064,)\n"
     ]
    }
   ],
   "source": [
    "print(f\"Shape of training data: X_train: {X_train.shape}, y_train: {y_train.shape}\")\n",
    "print(f\"Shape of testing data: X_test: {X_test.shape}, y_test: {y_test.shape}\")"
   ],
   "metadata": {
    "collapsed": false,
    "ExecuteTime": {
     "end_time": "2024-01-16T10:37:08.732092Z",
     "start_time": "2024-01-16T10:37:08.608220Z"
    }
   },
   "id": "14031fdf9b5a9e24",
   "execution_count": 257
  },
  {
   "cell_type": "code",
   "outputs": [
    {
     "name": "stdout",
     "output_type": "stream",
     "text": [
      "(1064, 48, 4) (1064,)\n"
     ]
    }
   ],
   "source": [
    "print(X_test.shape, y_test.shape)"
   ],
   "metadata": {
    "collapsed": false,
    "ExecuteTime": {
     "end_time": "2024-01-16T10:37:08.771918Z",
     "start_time": "2024-01-16T10:37:08.610464Z"
    }
   },
   "id": "c0dd9bf83e99f27e",
   "execution_count": 258
  },
  {
   "cell_type": "markdown",
   "source": [
    "# Ustvarjanje modelov\n",
    "Ustvarili bomo več različnih modelov in izbrali najboljšega."
   ],
   "metadata": {
    "collapsed": false
   },
   "id": "2d1b2f6728fca598"
  },
  {
   "cell_type": "code",
   "outputs": [],
   "source": [
    "# {'units': 32, 'optimizer': 'rmsprop', 'epochs': 50, 'dropout_rate': 0.4, 'batch_size': 128, 'activation': 'tanh'}\n",
    "# units = 32\n",
    "# optimizer = 'rmsprop'\n",
    "# dropout_rate = 0.4\n",
    "# activation = 'tanh'\n",
    "# batch_size = 128\n",
    "# epochs = 100"
   ],
   "metadata": {
    "collapsed": false,
    "ExecuteTime": {
     "end_time": "2024-01-16T10:37:08.773632Z",
     "start_time": "2024-01-16T10:37:08.612653Z"
    }
   },
   "id": "e4575ffe621e6845",
   "execution_count": 259
  },
  {
   "cell_type": "code",
   "outputs": [],
   "source": [
    "param_grid = {\n",
    "    'units': [32, 64, 128],\n",
    "    #'optimizer': ['adam', 'rmsprop', 'SGD', \"Adagrad\"],\n",
    "    'optimizer': ['adam', 'rmsprop'],\n",
    "   # 'activation': ['relu', 'sigmoid', 'tanh', \"softmax\"],\n",
    "    'activation': ['swish', 'softmax', 'tanh'],\n",
    "    'batch_size': [32, 64, 128],\n",
    "    'epochs': [10, 25, 50],\n",
    "    'dropout_rate': [0.2, 0.3, 0.4],\n",
    "}"
   ],
   "metadata": {
    "collapsed": false,
    "ExecuteTime": {
     "end_time": "2024-01-16T10:37:08.775220Z",
     "start_time": "2024-01-16T10:37:08.615597Z"
    }
   },
   "id": "889b72fa8d9b57a7",
   "execution_count": 260
  },
  {
   "cell_type": "code",
   "outputs": [],
   "source": [
    "def build_lstm(units=32, optimizer='adam', activation='relu', batch_size=32, epochs=10, dropout_layer_1=0.2,\n",
    "               dropout_rate=0.2):\n",
    "    model = Sequential(name=\"LSTM\")\n",
    "\n",
    "    model.add(LSTM(units=units, return_sequences=True, input_shape=(X_train.shape[1], X_train.shape[2])))\n",
    "    model.add(Dropout(dropout_rate))\n",
    "\n",
    "    model.add(LSTM(units=units, return_sequences=True))\n",
    "    model.add(Dropout(dropout_rate))\n",
    "\n",
    "    model.add(LSTM(units=units))\n",
    "\n",
    "    model.add(Dense(units=32, activation=activation))\n",
    "    model.add(Dense(units=1))\n",
    "\n",
    "    model.compile(optimizer=optimizer, loss='mean_squared_error')\n",
    "    return model"
   ],
   "metadata": {
    "collapsed": false,
    "ExecuteTime": {
     "end_time": "2024-01-16T10:37:08.776823Z",
     "start_time": "2024-01-16T10:37:08.617180Z"
    }
   },
   "id": "14840a8bec835bfb",
   "execution_count": 261
  },
  {
   "cell_type": "code",
   "outputs": [],
   "source": [
    "def build_gru(units=32, optimizer='adam', activation='relu', batch_size=32, epochs=10, dropout_rate=0.2):\n",
    "    model = Sequential(name=\"GRU\")\n",
    "\n",
    "    model.add(GRU(units=units, return_sequences=True, input_shape=(X_train.shape[1], X_train.shape[2])))\n",
    "    model.add(Dropout(dropout_rate))\n",
    "\n",
    "    model.add(GRU(units=units, return_sequences=True))\n",
    "    model.add(Dropout(dropout_rate))\n",
    "\n",
    "    model.add(GRU(units=units))\n",
    "\n",
    "    model.add(Dense(units=32, activation=activation))\n",
    "    model.add(Dense(units=1))\n",
    "\n",
    "    model.compile(optimizer=optimizer, loss='mean_squared_error')\n",
    "    return model"
   ],
   "metadata": {
    "collapsed": false,
    "ExecuteTime": {
     "end_time": "2024-01-16T10:37:08.790610Z",
     "start_time": "2024-01-16T10:37:08.621296Z"
    }
   },
   "id": "7c97f81651e9acbe",
   "execution_count": 262
  },
  {
   "cell_type": "code",
   "outputs": [],
   "source": [
    "def build_conv_lstm(units=32, optimizer='adam', activation='relu', batch_size=32, epochs=10, dropout_rate=0.2):\n",
    "    # Define the CNN-LSTM model\n",
    "    model = Sequential(name=\"Conv_LSTM\")\n",
    "\n",
    "    # Convolutional layers for feature extraction\n",
    "    model.add(\n",
    "        Conv1D(filters=64, kernel_size=3, activation=activation, input_shape=(X_train.shape[1], X_train.shape[2])))\n",
    "    model.add(MaxPooling1D(pool_size=2))\n",
    "    model.add(Conv1D(filters=64, kernel_size=3, activation=activation))\n",
    "    model.add(MaxPooling1D(pool_size=2))\n",
    "\n",
    "    # LSTM layers for sequence modeling\n",
    "    model.add(LSTM(units=units, return_sequences=True, input_shape=(X_train.shape[1], X_train.shape[2])))\n",
    "    model.add(LSTM(units=units))\n",
    "\n",
    "    # Output layer\n",
    "    model.add(Dense(units=1))  # Adjust units for your specific output\n",
    "\n",
    "    # Compile the model\n",
    "    model.compile(optimizer=optimizer, loss='mean_squared_error')\n",
    "\n",
    "    return model"
   ],
   "metadata": {
    "collapsed": false,
    "ExecuteTime": {
     "end_time": "2024-01-16T10:37:08.792416Z",
     "start_time": "2024-01-16T10:37:08.624441Z"
    }
   },
   "id": "1d67000957f2799a",
   "execution_count": 263
  },
  {
   "cell_type": "code",
   "outputs": [],
   "source": [
    "def build_advance_conv_lstm(units=32, optimizer='adam', activation='relu', batch_size=32, epochs=10, dropout_rate=0.2):\n",
    "    # Define the CNN-LSTM model\n",
    "    model = Sequential(name=\"Advance_Conv_LSTM\")\n",
    "\n",
    "    # Convolutional layers for feature extraction\n",
    "    model.add(\n",
    "        Conv1D(filters=64, kernel_size=3, activation=activation, input_shape=(X_train.shape[1], X_train.shape[2])))\n",
    "    model.add(MaxPooling1D(pool_size=2))\n",
    "    model.add(Conv1D(filters=64, kernel_size=3, activation=activation))\n",
    "    model.add(MaxPooling1D(pool_size=2))\n",
    "\n",
    "    # LSTM layers for sequence modeling\n",
    "    model.add(LSTM(units=units, return_sequences=True, input_shape=(X_train.shape[1], X_train.shape[2])))\n",
    "    model.add(Dropout(dropout_rate))\n",
    "    model.add(LSTM(units=units, return_sequences=True))\n",
    "    model.add(Dropout(dropout_rate))\n",
    "    model.add(LSTM(units=units))\n",
    "    model.add(Dense(units=32, activation=activation))\n",
    "\n",
    "    # Output layer\n",
    "    model.add(Dense(units=1))  # Adjust units for your specific output\n",
    "\n",
    "    # Compile the model\n",
    "    model.compile(optimizer=optimizer, loss='mean_squared_error')\n",
    "\n",
    "    return model"
   ],
   "metadata": {
    "collapsed": false,
    "ExecuteTime": {
     "end_time": "2024-01-16T10:37:08.794026Z",
     "start_time": "2024-01-16T10:37:08.628436Z"
    }
   },
   "id": "5eedcf11fc2449e8",
   "execution_count": 264
  },
  {
   "cell_type": "code",
   "outputs": [],
   "source": [
    "def build_advance_gru(units=0,optimizer='adam', activation='relu', dropout_rate=0.2):\n",
    "    model = Sequential(name=\"GRU\")\n",
    "\n",
    "    model.add(GRU(units=128, return_sequences=True, input_shape=(X_train.shape[1], X_train.shape[2])))\n",
    "    model.add(Dropout(dropout_rate))\n",
    "\n",
    "    model.add(GRU(units=64, return_sequences=True))\n",
    "    model.add(Dropout(dropout_rate))\n",
    "\n",
    "    model.add(GRU(units=32))\n",
    "    \n",
    "    model.add(Dense(units=32, activation=activation))\n",
    "    model.add(Dense(units=1))\n",
    "\n",
    "    model.compile(optimizer=optimizer, loss='mean_squared_error')\n",
    "    return model"
   ],
   "metadata": {
    "collapsed": false,
    "ExecuteTime": {
     "end_time": "2024-01-16T10:37:08.795624Z",
     "start_time": "2024-01-16T10:37:08.635581Z"
    }
   },
   "id": "24247578b8b5693c",
   "execution_count": 265
  },
  {
   "cell_type": "code",
   "outputs": [],
   "source": [
    "\n",
    "def build_advance_lstm(units=32, optimizer='adam', activation='relu', batch_size=32, epochs=10, dropout_rate=0.2):\n",
    "    model = Sequential(name=\"Advance_LSTM\")\n",
    "\n",
    "    model.add(LSTM(units=128, return_sequences=True, input_shape=(X_train.shape[1], X_train.shape[2])))\n",
    "    model.add(Dropout(dropout_rate))\n",
    "\n",
    "    model.add(LSTM(units=64, return_sequences=True))\n",
    "    model.add(Dropout(dropout_rate))\n",
    "\n",
    "    model.add(LSTM(units=32))\n",
    "    model.add(Dense(units=1))\n",
    "\n",
    "    model.compile(optimizer=optimizer, loss='mean_squared_error')\n",
    "    return model"
   ],
   "metadata": {
    "collapsed": false,
    "ExecuteTime": {
     "end_time": "2024-01-16T10:37:08.806730Z",
     "start_time": "2024-01-16T10:37:08.637587Z"
    }
   },
   "id": "50f8cf6247697772",
   "execution_count": 266
  },
  {
   "cell_type": "code",
   "outputs": [],
   "source": [
    "model_fns = [build_gru, build_advance_gru]\n",
    "#model_fns = [build_advance_gru,build_advance_lstm]\n",
    "\n",
    "model_names = ['GRU', 'Advanced_GRU']\n",
    "#model_names = [\"GRU\"]"
   ],
   "metadata": {
    "collapsed": false,
    "ExecuteTime": {
     "end_time": "2024-01-16T10:37:08.808526Z",
     "start_time": "2024-01-16T10:37:08.641397Z"
    }
   },
   "id": "2676c9347ae6fda7",
   "execution_count": 267
  },
  {
   "cell_type": "code",
   "outputs": [
    {
     "name": "stderr",
     "output_type": "stream",
     "text": [
      "/var/folders/m7/dkyjm7gn71ggjt2b8p3ymthc0000gn/T/ipykernel_7614/3251881518.py:9: DeprecationWarning: KerasRegressor is deprecated, use Sci-Keras (https://github.com/adriangb/scikeras) instead. See https://www.adriangb.com/scikeras/stable/migration.html for help migrating.\n",
      "  model = KerasRegressor(build_fn=create_model_fn, verbose=0)\n"
     ]
    },
    {
     "name": "stdout",
     "output_type": "stream",
     "text": [
      "Epoch 1/50\n",
      "23/23 [==============================] - 3s 51ms/step - loss: 0.0055 - val_loss: 0.0150\n",
      "Epoch 2/50\n",
      "23/23 [==============================] - 1s 35ms/step - loss: 0.0047 - val_loss: 0.0143\n",
      "Epoch 3/50\n",
      "23/23 [==============================] - 1s 35ms/step - loss: 0.0045 - val_loss: 0.0133\n",
      "Epoch 4/50\n",
      "23/23 [==============================] - 1s 34ms/step - loss: 0.0042 - val_loss: 0.0120\n",
      "Epoch 5/50\n",
      "23/23 [==============================] - 1s 39ms/step - loss: 0.0037 - val_loss: 0.0108\n",
      "Epoch 6/50\n",
      "23/23 [==============================] - 1s 39ms/step - loss: 0.0032 - val_loss: 0.0090\n",
      "Epoch 7/50\n",
      "23/23 [==============================] - 1s 39ms/step - loss: 0.0028 - val_loss: 0.0082\n",
      "Epoch 8/50\n",
      "23/23 [==============================] - 1s 39ms/step - loss: 0.0026 - val_loss: 0.0079\n",
      "Epoch 9/50\n",
      "23/23 [==============================] - 1s 39ms/step - loss: 0.0026 - val_loss: 0.0078\n",
      "Epoch 10/50\n",
      "23/23 [==============================] - 1s 40ms/step - loss: 0.0025 - val_loss: 0.0076\n",
      "Epoch 11/50\n",
      "23/23 [==============================] - 1s 39ms/step - loss: 0.0025 - val_loss: 0.0075\n",
      "Epoch 12/50\n",
      "23/23 [==============================] - 1s 39ms/step - loss: 0.0024 - val_loss: 0.0074\n",
      "Epoch 13/50\n",
      "23/23 [==============================] - 1s 39ms/step - loss: 0.0024 - val_loss: 0.0073\n",
      "Epoch 14/50\n",
      "23/23 [==============================] - 1s 39ms/step - loss: 0.0024 - val_loss: 0.0072\n",
      "Epoch 15/50\n",
      "23/23 [==============================] - 1s 39ms/step - loss: 0.0023 - val_loss: 0.0071\n",
      "Epoch 16/50\n",
      "23/23 [==============================] - 1s 39ms/step - loss: 0.0023 - val_loss: 0.0071\n",
      "Epoch 17/50\n",
      "23/23 [==============================] - 1s 39ms/step - loss: 0.0023 - val_loss: 0.0070\n",
      "Epoch 18/50\n",
      "23/23 [==============================] - 1s 40ms/step - loss: 0.0022 - val_loss: 0.0069\n",
      "Epoch 19/50\n",
      "23/23 [==============================] - 1s 39ms/step - loss: 0.0023 - val_loss: 0.0068\n",
      "Epoch 20/50\n",
      "23/23 [==============================] - 1s 39ms/step - loss: 0.0022 - val_loss: 0.0069\n",
      "Epoch 21/50\n",
      "23/23 [==============================] - 1s 39ms/step - loss: 0.0022 - val_loss: 0.0073\n",
      "Epoch 22/50\n",
      "23/23 [==============================] - 1s 39ms/step - loss: 0.0022 - val_loss: 0.0068\n",
      "Epoch 23/50\n",
      "23/23 [==============================] - 1s 39ms/step - loss: 0.0022 - val_loss: 0.0067\n",
      "Epoch 24/50\n",
      "23/23 [==============================] - 1s 39ms/step - loss: 0.0021 - val_loss: 0.0066\n",
      "Epoch 25/50\n",
      "23/23 [==============================] - 1s 39ms/step - loss: 0.0021 - val_loss: 0.0068\n",
      "Epoch 26/50\n",
      "23/23 [==============================] - 1s 39ms/step - loss: 0.0021 - val_loss: 0.0065\n",
      "Epoch 27/50\n",
      "23/23 [==============================] - 1s 39ms/step - loss: 0.0021 - val_loss: 0.0065\n",
      "Epoch 28/50\n",
      "23/23 [==============================] - 1s 39ms/step - loss: 0.0021 - val_loss: 0.0066\n",
      "Epoch 29/50\n",
      "23/23 [==============================] - 1s 41ms/step - loss: 0.0021 - val_loss: 0.0064\n",
      "Epoch 30/50\n",
      "23/23 [==============================] - 1s 39ms/step - loss: 0.0020 - val_loss: 0.0064\n",
      "Epoch 31/50\n",
      "23/23 [==============================] - 1s 39ms/step - loss: 0.0020 - val_loss: 0.0066\n",
      "Epoch 32/50\n",
      "23/23 [==============================] - 1s 39ms/step - loss: 0.0021 - val_loss: 0.0061\n",
      "Epoch 33/50\n",
      "23/23 [==============================] - 1s 39ms/step - loss: 0.0020 - val_loss: 0.0061\n",
      "Epoch 34/50\n",
      "23/23 [==============================] - 1s 39ms/step - loss: 0.0020 - val_loss: 0.0060\n",
      "Epoch 35/50\n",
      "23/23 [==============================] - 1s 39ms/step - loss: 0.0020 - val_loss: 0.0061\n",
      "Epoch 36/50\n",
      "23/23 [==============================] - 1s 39ms/step - loss: 0.0020 - val_loss: 0.0059\n",
      "Epoch 37/50\n",
      "23/23 [==============================] - 1s 39ms/step - loss: 0.0020 - val_loss: 0.0059\n",
      "Epoch 38/50\n",
      "23/23 [==============================] - 1s 39ms/step - loss: 0.0020 - val_loss: 0.0058\n",
      "Epoch 39/50\n",
      "23/23 [==============================] - 1s 39ms/step - loss: 0.0020 - val_loss: 0.0058\n",
      "Epoch 40/50\n",
      "23/23 [==============================] - 1s 39ms/step - loss: 0.0020 - val_loss: 0.0059\n",
      "Epoch 41/50\n",
      "23/23 [==============================] - 1s 39ms/step - loss: 0.0020 - val_loss: 0.0059\n",
      "Epoch 42/50\n",
      "23/23 [==============================] - 1s 39ms/step - loss: 0.0020 - val_loss: 0.0057\n",
      "Epoch 43/50\n",
      "23/23 [==============================] - 1s 39ms/step - loss: 0.0019 - val_loss: 0.0058\n",
      "Epoch 44/50\n",
      "23/23 [==============================] - 1s 39ms/step - loss: 0.0019 - val_loss: 0.0057\n",
      "Epoch 45/50\n",
      "23/23 [==============================] - 1s 39ms/step - loss: 0.0019 - val_loss: 0.0055\n",
      "Epoch 46/50\n",
      "23/23 [==============================] - 1s 39ms/step - loss: 0.0019 - val_loss: 0.0057\n",
      "Epoch 47/50\n",
      "23/23 [==============================] - 1s 39ms/step - loss: 0.0019 - val_loss: 0.0058\n",
      "Epoch 48/50\n",
      "23/23 [==============================] - 1s 40ms/step - loss: 0.0019 - val_loss: 0.0054\n",
      "Epoch 49/50\n",
      "23/23 [==============================] - 1s 40ms/step - loss: 0.0019 - val_loss: 0.0054\n",
      "Epoch 50/50\n",
      "23/23 [==============================] - 1s 39ms/step - loss: 0.0018 - val_loss: 0.0057\n",
      "Epoch 1/50\n",
      "23/23 [==============================] - 3s 50ms/step - loss: 0.0264 - val_loss: 0.0128\n",
      "Epoch 2/50\n",
      "23/23 [==============================] - 1s 34ms/step - loss: 0.0138 - val_loss: 0.0114\n",
      "Epoch 3/50\n",
      "23/23 [==============================] - 1s 35ms/step - loss: 0.0108 - val_loss: 0.0096\n",
      "Epoch 4/50\n",
      "23/23 [==============================] - 1s 34ms/step - loss: 0.0075 - val_loss: 0.0099\n",
      "Epoch 5/50\n",
      "23/23 [==============================] - 1s 39ms/step - loss: 0.0062 - val_loss: 0.0101\n",
      "Epoch 6/50\n",
      "23/23 [==============================] - 1s 39ms/step - loss: 0.0057 - val_loss: 0.0074\n",
      "Epoch 7/50\n",
      "23/23 [==============================] - 1s 39ms/step - loss: 0.0053 - val_loss: 0.0078\n",
      "Epoch 8/50\n",
      "23/23 [==============================] - 1s 39ms/step - loss: 0.0051 - val_loss: 0.0064\n",
      "Epoch 9/50\n",
      "23/23 [==============================] - 1s 39ms/step - loss: 0.0048 - val_loss: 0.0071\n",
      "Epoch 10/50\n",
      "23/23 [==============================] - 1s 39ms/step - loss: 0.0046 - val_loss: 0.0062\n",
      "Epoch 11/50\n",
      "23/23 [==============================] - 1s 39ms/step - loss: 0.0045 - val_loss: 0.0061\n",
      "Epoch 12/50\n",
      "23/23 [==============================] - 1s 39ms/step - loss: 0.0045 - val_loss: 0.0057\n",
      "Epoch 13/50\n",
      "23/23 [==============================] - 1s 39ms/step - loss: 0.0043 - val_loss: 0.0056\n",
      "Epoch 14/50\n",
      "23/23 [==============================] - 1s 39ms/step - loss: 0.0042 - val_loss: 0.0052\n",
      "Epoch 15/50\n",
      "23/23 [==============================] - 1s 39ms/step - loss: 0.0040 - val_loss: 0.0060\n",
      "Epoch 16/50\n",
      "23/23 [==============================] - 1s 39ms/step - loss: 0.0039 - val_loss: 0.0050\n",
      "Epoch 17/50\n",
      "23/23 [==============================] - 1s 39ms/step - loss: 0.0038 - val_loss: 0.0052\n",
      "Epoch 18/50\n",
      "23/23 [==============================] - 1s 40ms/step - loss: 0.0037 - val_loss: 0.0047\n",
      "Epoch 19/50\n",
      "23/23 [==============================] - 1s 39ms/step - loss: 0.0036 - val_loss: 0.0048\n",
      "Epoch 20/50\n",
      "23/23 [==============================] - 1s 39ms/step - loss: 0.0036 - val_loss: 0.0044\n",
      "Epoch 21/50\n",
      "23/23 [==============================] - 1s 39ms/step - loss: 0.0035 - val_loss: 0.0043\n",
      "Epoch 22/50\n",
      "23/23 [==============================] - 1s 39ms/step - loss: 0.0035 - val_loss: 0.0041\n",
      "Epoch 23/50\n",
      "23/23 [==============================] - 1s 39ms/step - loss: 0.0033 - val_loss: 0.0041\n",
      "Epoch 24/50\n",
      "23/23 [==============================] - 1s 39ms/step - loss: 0.0034 - val_loss: 0.0039\n",
      "Epoch 25/50\n",
      "23/23 [==============================] - 1s 39ms/step - loss: 0.0032 - val_loss: 0.0040\n",
      "Epoch 26/50\n",
      "23/23 [==============================] - 1s 39ms/step - loss: 0.0033 - val_loss: 0.0040\n",
      "Epoch 27/50\n",
      "23/23 [==============================] - 1s 39ms/step - loss: 0.0031 - val_loss: 0.0037\n",
      "Epoch 28/50\n",
      "23/23 [==============================] - 1s 39ms/step - loss: 0.0031 - val_loss: 0.0048\n",
      "Epoch 29/50\n",
      "23/23 [==============================] - 1s 39ms/step - loss: 0.0031 - val_loss: 0.0038\n",
      "Epoch 30/50\n",
      "23/23 [==============================] - 1s 39ms/step - loss: 0.0031 - val_loss: 0.0039\n",
      "Epoch 31/50\n",
      "23/23 [==============================] - 1s 39ms/step - loss: 0.0031 - val_loss: 0.0036\n",
      "Epoch 32/50\n",
      "23/23 [==============================] - 1s 39ms/step - loss: 0.0030 - val_loss: 0.0035\n",
      "Epoch 33/50\n",
      "23/23 [==============================] - 1s 39ms/step - loss: 0.0031 - val_loss: 0.0039\n",
      "Epoch 34/50\n",
      "23/23 [==============================] - 1s 39ms/step - loss: 0.0029 - val_loss: 0.0034\n",
      "Epoch 35/50\n",
      "23/23 [==============================] - 1s 39ms/step - loss: 0.0028 - val_loss: 0.0033\n",
      "Epoch 36/50\n",
      "23/23 [==============================] - 1s 39ms/step - loss: 0.0028 - val_loss: 0.0032\n",
      "Epoch 37/50\n",
      "23/23 [==============================] - 1s 39ms/step - loss: 0.0028 - val_loss: 0.0035\n",
      "Epoch 38/50\n",
      "23/23 [==============================] - 1s 39ms/step - loss: 0.0029 - val_loss: 0.0031\n",
      "Epoch 39/50\n",
      "23/23 [==============================] - 1s 41ms/step - loss: 0.0027 - val_loss: 0.0038\n",
      "Epoch 40/50\n",
      "23/23 [==============================] - 1s 39ms/step - loss: 0.0027 - val_loss: 0.0034\n",
      "Epoch 41/50\n",
      "23/23 [==============================] - 1s 39ms/step - loss: 0.0027 - val_loss: 0.0031\n",
      "Epoch 42/50\n",
      "23/23 [==============================] - 1s 39ms/step - loss: 0.0026 - val_loss: 0.0030\n",
      "Epoch 43/50\n",
      "23/23 [==============================] - 1s 39ms/step - loss: 0.0026 - val_loss: 0.0032\n",
      "Epoch 44/50\n",
      "23/23 [==============================] - 1s 39ms/step - loss: 0.0026 - val_loss: 0.0030\n",
      "Epoch 45/50\n",
      "23/23 [==============================] - 1s 39ms/step - loss: 0.0026 - val_loss: 0.0029\n",
      "Epoch 46/50\n",
      "23/23 [==============================] - 1s 39ms/step - loss: 0.0025 - val_loss: 0.0028\n",
      "Epoch 47/50\n",
      "23/23 [==============================] - 1s 39ms/step - loss: 0.0026 - val_loss: 0.0032\n",
      "Epoch 48/50\n",
      "23/23 [==============================] - 1s 39ms/step - loss: 0.0026 - val_loss: 0.0028\n",
      "Epoch 49/50\n",
      "23/23 [==============================] - 1s 39ms/step - loss: 0.0026 - val_loss: 0.0027\n",
      "Epoch 50/50\n",
      "23/23 [==============================] - 1s 39ms/step - loss: 0.0025 - val_loss: 0.0027\n",
      "Epoch 1/50\n",
      "23/23 [==============================] - 3s 65ms/step - loss: 0.0280 - val_loss: 0.0121\n",
      "Epoch 2/50\n",
      "23/23 [==============================] - 1s 34ms/step - loss: 0.0130 - val_loss: 0.0093\n",
      "Epoch 3/50\n",
      "23/23 [==============================] - 1s 34ms/step - loss: 0.0083 - val_loss: 0.0087\n",
      "Epoch 4/50\n",
      "23/23 [==============================] - 1s 34ms/step - loss: 0.0059 - val_loss: 0.0087\n",
      "Epoch 5/50\n",
      "23/23 [==============================] - 1s 39ms/step - loss: 0.0051 - val_loss: 0.0082\n",
      "Epoch 6/50\n",
      "23/23 [==============================] - 1s 39ms/step - loss: 0.0048 - val_loss: 0.0099\n",
      "Epoch 7/50\n",
      "23/23 [==============================] - 1s 39ms/step - loss: 0.0045 - val_loss: 0.0081\n",
      "Epoch 8/50\n",
      "23/23 [==============================] - 1s 39ms/step - loss: 0.0043 - val_loss: 0.0086\n",
      "Epoch 9/50\n",
      "23/23 [==============================] - 1s 39ms/step - loss: 0.0041 - val_loss: 0.0075\n",
      "Epoch 10/50\n",
      "23/23 [==============================] - 1s 41ms/step - loss: 0.0039 - val_loss: 0.0068\n",
      "Epoch 11/50\n",
      "23/23 [==============================] - 1s 39ms/step - loss: 0.0037 - val_loss: 0.0064\n",
      "Epoch 12/50\n",
      "23/23 [==============================] - 1s 39ms/step - loss: 0.0036 - val_loss: 0.0060\n",
      "Epoch 13/50\n",
      "23/23 [==============================] - 1s 39ms/step - loss: 0.0035 - val_loss: 0.0060\n",
      "Epoch 14/50\n",
      "23/23 [==============================] - 1s 39ms/step - loss: 0.0034 - val_loss: 0.0058\n",
      "Epoch 15/50\n",
      "23/23 [==============================] - 1s 39ms/step - loss: 0.0033 - val_loss: 0.0053\n",
      "Epoch 16/50\n",
      "23/23 [==============================] - 1s 39ms/step - loss: 0.0032 - val_loss: 0.0053\n",
      "Epoch 17/50\n",
      "23/23 [==============================] - 1s 39ms/step - loss: 0.0030 - val_loss: 0.0050\n",
      "Epoch 18/50\n",
      "23/23 [==============================] - 1s 39ms/step - loss: 0.0031 - val_loss: 0.0050\n",
      "Epoch 19/50\n",
      "23/23 [==============================] - 1s 39ms/step - loss: 0.0030 - val_loss: 0.0047\n",
      "Epoch 20/50\n",
      "23/23 [==============================] - 1s 39ms/step - loss: 0.0029 - val_loss: 0.0047\n",
      "Epoch 21/50\n",
      "23/23 [==============================] - 1s 39ms/step - loss: 0.0029 - val_loss: 0.0045\n",
      "Epoch 22/50\n",
      "23/23 [==============================] - 1s 39ms/step - loss: 0.0028 - val_loss: 0.0044\n",
      "Epoch 23/50\n",
      "23/23 [==============================] - 1s 39ms/step - loss: 0.0027 - val_loss: 0.0046\n",
      "Epoch 24/50\n",
      "23/23 [==============================] - 1s 39ms/step - loss: 0.0027 - val_loss: 0.0042\n",
      "Epoch 25/50\n",
      "23/23 [==============================] - 1s 39ms/step - loss: 0.0027 - val_loss: 0.0045\n",
      "Epoch 26/50\n",
      "23/23 [==============================] - 1s 39ms/step - loss: 0.0027 - val_loss: 0.0042\n",
      "Epoch 27/50\n",
      "23/23 [==============================] - 1s 39ms/step - loss: 0.0026 - val_loss: 0.0042\n",
      "Epoch 28/50\n",
      "23/23 [==============================] - 1s 39ms/step - loss: 0.0025 - val_loss: 0.0039\n",
      "Epoch 29/50\n",
      "23/23 [==============================] - 1s 39ms/step - loss: 0.0025 - val_loss: 0.0039\n",
      "Epoch 30/50\n",
      "23/23 [==============================] - 1s 39ms/step - loss: 0.0025 - val_loss: 0.0039\n",
      "Epoch 31/50\n",
      "23/23 [==============================] - 1s 40ms/step - loss: 0.0024 - val_loss: 0.0038\n",
      "Epoch 32/50\n",
      "23/23 [==============================] - 1s 39ms/step - loss: 0.0024 - val_loss: 0.0040\n",
      "Epoch 33/50\n",
      "23/23 [==============================] - 1s 40ms/step - loss: 0.0024 - val_loss: 0.0039\n",
      "Epoch 34/50\n",
      "23/23 [==============================] - 1s 39ms/step - loss: 0.0024 - val_loss: 0.0037\n",
      "Epoch 35/50\n",
      "23/23 [==============================] - 1s 39ms/step - loss: 0.0023 - val_loss: 0.0036\n",
      "Epoch 36/50\n",
      "23/23 [==============================] - 1s 39ms/step - loss: 0.0023 - val_loss: 0.0035\n",
      "Epoch 37/50\n",
      "23/23 [==============================] - 1s 39ms/step - loss: 0.0023 - val_loss: 0.0035\n",
      "Epoch 38/50\n",
      "23/23 [==============================] - 1s 39ms/step - loss: 0.0023 - val_loss: 0.0034\n",
      "Epoch 39/50\n",
      "23/23 [==============================] - 1s 39ms/step - loss: 0.0022 - val_loss: 0.0034\n",
      "Epoch 40/50\n",
      "23/23 [==============================] - 1s 39ms/step - loss: 0.0022 - val_loss: 0.0035\n",
      "Epoch 41/50\n",
      "23/23 [==============================] - 1s 39ms/step - loss: 0.0022 - val_loss: 0.0038\n",
      "Epoch 42/50\n",
      "23/23 [==============================] - 1s 39ms/step - loss: 0.0022 - val_loss: 0.0033\n",
      "Epoch 43/50\n",
      "23/23 [==============================] - 1s 39ms/step - loss: 0.0021 - val_loss: 0.0033\n",
      "Epoch 44/50\n",
      "23/23 [==============================] - 1s 39ms/step - loss: 0.0021 - val_loss: 0.0033\n",
      "Epoch 45/50\n",
      "23/23 [==============================] - 1s 39ms/step - loss: 0.0021 - val_loss: 0.0032\n",
      "Epoch 46/50\n",
      "23/23 [==============================] - 1s 39ms/step - loss: 0.0021 - val_loss: 0.0032\n",
      "Epoch 47/50\n",
      "23/23 [==============================] - 1s 39ms/step - loss: 0.0022 - val_loss: 0.0032\n",
      "Epoch 48/50\n",
      "23/23 [==============================] - 1s 39ms/step - loss: 0.0021 - val_loss: 0.0035\n",
      "Epoch 49/50\n",
      "23/23 [==============================] - 1s 39ms/step - loss: 0.0020 - val_loss: 0.0031\n",
      "Epoch 50/50\n",
      "23/23 [==============================] - 1s 39ms/step - loss: 0.0022 - val_loss: 0.0031\n",
      "Epoch 1/50\n",
      "92/92 [==============================] - 5s 36ms/step - loss: 0.0041 - val_loss: 0.0074\n",
      "Epoch 2/50\n",
      "92/92 [==============================] - 3s 36ms/step - loss: 0.0023 - val_loss: 0.0051\n",
      "Epoch 3/50\n",
      "92/92 [==============================] - 3s 36ms/step - loss: 0.0018 - val_loss: 0.0038\n",
      "Epoch 4/50\n",
      "92/92 [==============================] - 3s 36ms/step - loss: 0.0015 - val_loss: 0.0028\n",
      "Epoch 5/50\n",
      "92/92 [==============================] - 3s 36ms/step - loss: 0.0015 - val_loss: 0.0026\n",
      "Epoch 6/50\n",
      "92/92 [==============================] - 3s 36ms/step - loss: 0.0014 - val_loss: 0.0027\n",
      "Epoch 7/50\n",
      "92/92 [==============================] - 3s 36ms/step - loss: 0.0013 - val_loss: 0.0023\n",
      "Epoch 8/50\n",
      "92/92 [==============================] - 3s 36ms/step - loss: 0.0012 - val_loss: 0.0022\n",
      "Epoch 9/50\n",
      "92/92 [==============================] - 3s 36ms/step - loss: 0.0012 - val_loss: 0.0023\n",
      "Epoch 10/50\n",
      "92/92 [==============================] - 3s 36ms/step - loss: 0.0012 - val_loss: 0.0021\n",
      "Epoch 11/50\n",
      "92/92 [==============================] - 3s 36ms/step - loss: 0.0012 - val_loss: 0.0021\n",
      "Epoch 12/50\n",
      "92/92 [==============================] - 3s 36ms/step - loss: 0.0012 - val_loss: 0.0022\n",
      "Epoch 13/50\n",
      "92/92 [==============================] - 3s 36ms/step - loss: 0.0012 - val_loss: 0.0022\n",
      "Epoch 14/50\n",
      "92/92 [==============================] - 3s 36ms/step - loss: 0.0011 - val_loss: 0.0023\n",
      "Epoch 15/50\n",
      "92/92 [==============================] - 3s 36ms/step - loss: 0.0011 - val_loss: 0.0023\n",
      "Epoch 16/50\n",
      "92/92 [==============================] - 3s 36ms/step - loss: 0.0012 - val_loss: 0.0022\n",
      "Epoch 17/50\n",
      "92/92 [==============================] - 3s 36ms/step - loss: 0.0011 - val_loss: 0.0021\n",
      "Epoch 18/50\n",
      "92/92 [==============================] - 3s 36ms/step - loss: 0.0011 - val_loss: 0.0022\n",
      "Epoch 19/50\n",
      "92/92 [==============================] - 3s 36ms/step - loss: 0.0011 - val_loss: 0.0021\n",
      "Epoch 20/50\n",
      "92/92 [==============================] - 3s 36ms/step - loss: 0.0011 - val_loss: 0.0021\n",
      "Epoch 21/50\n",
      "92/92 [==============================] - 3s 36ms/step - loss: 0.0011 - val_loss: 0.0023\n",
      "Epoch 22/50\n",
      "92/92 [==============================] - 3s 36ms/step - loss: 0.0011 - val_loss: 0.0021\n",
      "Epoch 23/50\n",
      "92/92 [==============================] - 3s 36ms/step - loss: 0.0011 - val_loss: 0.0022\n",
      "Epoch 24/50\n",
      "92/92 [==============================] - 3s 36ms/step - loss: 0.0011 - val_loss: 0.0023\n",
      "Epoch 25/50\n",
      "92/92 [==============================] - 4s 44ms/step - loss: 0.0011 - val_loss: 0.0022\n",
      "Epoch 26/50\n",
      "92/92 [==============================] - 3s 36ms/step - loss: 0.0011 - val_loss: 0.0021\n",
      "Epoch 27/50\n",
      "92/92 [==============================] - 3s 36ms/step - loss: 0.0011 - val_loss: 0.0021\n",
      "Epoch 28/50\n",
      "92/92 [==============================] - 3s 35ms/step - loss: 0.0010 - val_loss: 0.0024\n",
      "Epoch 29/50\n",
      "92/92 [==============================] - 3s 35ms/step - loss: 0.0010 - val_loss: 0.0024\n",
      "Epoch 30/50\n",
      "92/92 [==============================] - 3s 36ms/step - loss: 0.0010 - val_loss: 0.0022\n",
      "Epoch 31/50\n",
      "92/92 [==============================] - 3s 36ms/step - loss: 0.0011 - val_loss: 0.0024\n",
      "Epoch 32/50\n",
      "92/92 [==============================] - 3s 36ms/step - loss: 0.0011 - val_loss: 0.0024\n",
      "Epoch 33/50\n",
      "92/92 [==============================] - 3s 36ms/step - loss: 0.0010 - val_loss: 0.0023\n",
      "Epoch 34/50\n",
      "92/92 [==============================] - 3s 36ms/step - loss: 0.0011 - val_loss: 0.0024\n",
      "Epoch 35/50\n",
      "92/92 [==============================] - 3s 36ms/step - loss: 9.9112e-04 - val_loss: 0.0022\n",
      "Epoch 36/50\n",
      "92/92 [==============================] - 3s 35ms/step - loss: 0.0010 - val_loss: 0.0026\n",
      "Epoch 37/50\n",
      "92/92 [==============================] - 3s 36ms/step - loss: 0.0010 - val_loss: 0.0026\n",
      "Epoch 38/50\n",
      "92/92 [==============================] - 3s 35ms/step - loss: 9.8129e-04 - val_loss: 0.0025\n",
      "Epoch 39/50\n",
      "92/92 [==============================] - 3s 36ms/step - loss: 9.9892e-04 - val_loss: 0.0032\n",
      "Epoch 40/50\n",
      "92/92 [==============================] - 3s 35ms/step - loss: 0.0010 - val_loss: 0.0024\n",
      "Epoch 41/50\n",
      "92/92 [==============================] - 3s 36ms/step - loss: 0.0010 - val_loss: 0.0025\n",
      "Epoch 42/50\n",
      "92/92 [==============================] - 3s 36ms/step - loss: 0.0010 - val_loss: 0.0027\n",
      "Epoch 43/50\n",
      "92/92 [==============================] - 3s 36ms/step - loss: 0.0010 - val_loss: 0.0025\n",
      "Epoch 44/50\n",
      "92/92 [==============================] - 3s 36ms/step - loss: 0.0010 - val_loss: 0.0027\n",
      "Epoch 45/50\n",
      "92/92 [==============================] - 3s 35ms/step - loss: 9.8812e-04 - val_loss: 0.0026\n",
      "Epoch 46/50\n",
      "92/92 [==============================] - 3s 36ms/step - loss: 9.8240e-04 - val_loss: 0.0027\n",
      "Epoch 47/50\n",
      "92/92 [==============================] - 3s 36ms/step - loss: 0.0010 - val_loss: 0.0028\n",
      "Epoch 48/50\n",
      "92/92 [==============================] - 3s 36ms/step - loss: 0.0010 - val_loss: 0.0026\n",
      "Epoch 49/50\n",
      "92/92 [==============================] - 3s 35ms/step - loss: 9.7305e-04 - val_loss: 0.0029\n",
      "Epoch 50/50\n",
      "92/92 [==============================] - 3s 35ms/step - loss: 0.0010 - val_loss: 0.0030\n",
      "Epoch 1/50\n",
      "92/92 [==============================] - 5s 36ms/step - loss: 0.0124 - val_loss: 0.0066\n",
      "Epoch 2/50\n",
      "92/92 [==============================] - 3s 36ms/step - loss: 0.0045 - val_loss: 0.0039\n",
      "Epoch 3/50\n",
      "92/92 [==============================] - 3s 36ms/step - loss: 0.0034 - val_loss: 0.0029\n",
      "Epoch 4/50\n",
      "92/92 [==============================] - 3s 36ms/step - loss: 0.0029 - val_loss: 0.0034\n",
      "Epoch 5/50\n",
      "92/92 [==============================] - 3s 36ms/step - loss: 0.0027 - val_loss: 0.0024\n",
      "Epoch 6/50\n",
      "92/92 [==============================] - 3s 36ms/step - loss: 0.0025 - val_loss: 0.0022\n",
      "Epoch 7/50\n",
      "92/92 [==============================] - 3s 36ms/step - loss: 0.0023 - val_loss: 0.0024\n",
      "Epoch 8/50\n",
      "92/92 [==============================] - 3s 36ms/step - loss: 0.0023 - val_loss: 0.0022\n",
      "Epoch 9/50\n",
      "92/92 [==============================] - 3s 36ms/step - loss: 0.0022 - val_loss: 0.0020\n",
      "Epoch 10/50\n",
      "92/92 [==============================] - 3s 36ms/step - loss: 0.0021 - val_loss: 0.0021\n",
      "Epoch 11/50\n",
      "92/92 [==============================] - 3s 36ms/step - loss: 0.0020 - val_loss: 0.0019\n",
      "Epoch 12/50\n",
      "92/92 [==============================] - 3s 36ms/step - loss: 0.0019 - val_loss: 0.0019\n",
      "Epoch 13/50\n",
      "92/92 [==============================] - 3s 36ms/step - loss: 0.0019 - val_loss: 0.0019\n",
      "Epoch 14/50\n",
      "92/92 [==============================] - 3s 36ms/step - loss: 0.0020 - val_loss: 0.0018\n",
      "Epoch 15/50\n",
      "92/92 [==============================] - 3s 36ms/step - loss: 0.0020 - val_loss: 0.0019\n",
      "Epoch 16/50\n",
      "92/92 [==============================] - 3s 36ms/step - loss: 0.0019 - val_loss: 0.0021\n",
      "Epoch 17/50\n",
      "92/92 [==============================] - 3s 36ms/step - loss: 0.0018 - val_loss: 0.0018\n",
      "Epoch 18/50\n",
      "92/92 [==============================] - 3s 36ms/step - loss: 0.0019 - val_loss: 0.0022\n",
      "Epoch 19/50\n",
      "92/92 [==============================] - 3s 36ms/step - loss: 0.0018 - val_loss: 0.0017\n",
      "Epoch 20/50\n",
      "92/92 [==============================] - 3s 36ms/step - loss: 0.0017 - val_loss: 0.0018\n",
      "Epoch 21/50\n",
      "92/92 [==============================] - 3s 36ms/step - loss: 0.0018 - val_loss: 0.0017\n",
      "Epoch 22/50\n",
      "92/92 [==============================] - 3s 36ms/step - loss: 0.0017 - val_loss: 0.0018\n",
      "Epoch 23/50\n",
      "92/92 [==============================] - 3s 36ms/step - loss: 0.0018 - val_loss: 0.0018\n",
      "Epoch 24/50\n",
      "92/92 [==============================] - 3s 36ms/step - loss: 0.0017 - val_loss: 0.0018\n",
      "Epoch 25/50\n",
      "92/92 [==============================] - 4s 40ms/step - loss: 0.0017 - val_loss: 0.0018\n",
      "Epoch 26/50\n",
      "92/92 [==============================] - 3s 36ms/step - loss: 0.0017 - val_loss: 0.0017\n",
      "Epoch 27/50\n",
      "92/92 [==============================] - 3s 36ms/step - loss: 0.0018 - val_loss: 0.0018\n",
      "Epoch 28/50\n",
      "92/92 [==============================] - 3s 36ms/step - loss: 0.0017 - val_loss: 0.0018\n",
      "Epoch 29/50\n",
      "92/92 [==============================] - 3s 36ms/step - loss: 0.0019 - val_loss: 0.0019\n",
      "Epoch 30/50\n",
      "92/92 [==============================] - 3s 36ms/step - loss: 0.0017 - val_loss: 0.0017\n",
      "Epoch 31/50\n",
      "92/92 [==============================] - 3s 36ms/step - loss: 0.0017 - val_loss: 0.0017\n",
      "Epoch 32/50\n",
      "92/92 [==============================] - 3s 36ms/step - loss: 0.0017 - val_loss: 0.0017\n",
      "Epoch 33/50\n",
      "92/92 [==============================] - 3s 36ms/step - loss: 0.0017 - val_loss: 0.0017\n",
      "Epoch 34/50\n",
      "92/92 [==============================] - 3s 36ms/step - loss: 0.0017 - val_loss: 0.0019\n",
      "Epoch 35/50\n",
      "92/92 [==============================] - 3s 36ms/step - loss: 0.0016 - val_loss: 0.0017\n",
      "Epoch 36/50\n",
      "92/92 [==============================] - 3s 36ms/step - loss: 0.0017 - val_loss: 0.0019\n",
      "Epoch 37/50\n",
      "92/92 [==============================] - 3s 36ms/step - loss: 0.0017 - val_loss: 0.0017\n",
      "Epoch 38/50\n",
      "92/92 [==============================] - 3s 36ms/step - loss: 0.0017 - val_loss: 0.0018\n",
      "Epoch 39/50\n",
      "92/92 [==============================] - 3s 36ms/step - loss: 0.0016 - val_loss: 0.0018\n",
      "Epoch 40/50\n",
      "92/92 [==============================] - 3s 36ms/step - loss: 0.0016 - val_loss: 0.0017\n",
      "Epoch 41/50\n",
      "92/92 [==============================] - 3s 36ms/step - loss: 0.0017 - val_loss: 0.0020\n",
      "Epoch 42/50\n",
      "92/92 [==============================] - 3s 36ms/step - loss: 0.0016 - val_loss: 0.0018\n",
      "Epoch 43/50\n",
      "92/92 [==============================] - 3s 36ms/step - loss: 0.0017 - val_loss: 0.0018\n",
      "Epoch 44/50\n",
      "92/92 [==============================] - 3s 36ms/step - loss: 0.0016 - val_loss: 0.0018\n",
      "Epoch 45/50\n",
      "92/92 [==============================] - 3s 36ms/step - loss: 0.0016 - val_loss: 0.0018\n",
      "Epoch 46/50\n",
      "92/92 [==============================] - 3s 36ms/step - loss: 0.0017 - val_loss: 0.0018\n",
      "Epoch 47/50\n",
      "92/92 [==============================] - 3s 36ms/step - loss: 0.0017 - val_loss: 0.0018\n",
      "Epoch 48/50\n",
      "92/92 [==============================] - 3s 36ms/step - loss: 0.0016 - val_loss: 0.0018\n",
      "Epoch 49/50\n",
      "92/92 [==============================] - 3s 36ms/step - loss: 0.0016 - val_loss: 0.0018\n",
      "Epoch 50/50\n",
      "92/92 [==============================] - 3s 36ms/step - loss: 0.0016 - val_loss: 0.0018\n",
      "Epoch 1/50\n",
      "92/92 [==============================] - 6s 36ms/step - loss: 0.0107 - val_loss: 0.0141\n",
      "Epoch 2/50\n",
      "92/92 [==============================] - 3s 35ms/step - loss: 0.0033 - val_loss: 0.0064\n",
      "Epoch 3/50\n",
      "92/92 [==============================] - 3s 35ms/step - loss: 0.0028 - val_loss: 0.0031\n",
      "Epoch 4/50\n",
      "92/92 [==============================] - 3s 35ms/step - loss: 0.0024 - val_loss: 0.0032\n",
      "Epoch 5/50\n",
      "92/92 [==============================] - 3s 35ms/step - loss: 0.0022 - val_loss: 0.0027\n",
      "Epoch 6/50\n",
      "92/92 [==============================] - 3s 35ms/step - loss: 0.0021 - val_loss: 0.0026\n",
      "Epoch 7/50\n",
      "92/92 [==============================] - 3s 35ms/step - loss: 0.0019 - val_loss: 0.0024\n",
      "Epoch 8/50\n",
      "92/92 [==============================] - 3s 36ms/step - loss: 0.0018 - val_loss: 0.0026\n",
      "Epoch 9/50\n",
      "92/92 [==============================] - 3s 35ms/step - loss: 0.0018 - val_loss: 0.0025\n",
      "Epoch 10/50\n",
      "92/92 [==============================] - 3s 35ms/step - loss: 0.0017 - val_loss: 0.0021\n",
      "Epoch 11/50\n",
      "92/92 [==============================] - 3s 35ms/step - loss: 0.0017 - val_loss: 0.0024\n",
      "Epoch 12/50\n",
      "92/92 [==============================] - 3s 35ms/step - loss: 0.0016 - val_loss: 0.0020\n",
      "Epoch 13/50\n",
      "92/92 [==============================] - 3s 35ms/step - loss: 0.0015 - val_loss: 0.0020\n",
      "Epoch 14/50\n",
      "92/92 [==============================] - 3s 35ms/step - loss: 0.0015 - val_loss: 0.0021\n",
      "Epoch 15/50\n",
      "92/92 [==============================] - 3s 35ms/step - loss: 0.0015 - val_loss: 0.0019\n",
      "Epoch 16/50\n",
      "92/92 [==============================] - 3s 35ms/step - loss: 0.0015 - val_loss: 0.0019\n",
      "Epoch 17/50\n",
      "92/92 [==============================] - 3s 35ms/step - loss: 0.0015 - val_loss: 0.0020\n",
      "Epoch 18/50\n",
      "92/92 [==============================] - 3s 35ms/step - loss: 0.0014 - val_loss: 0.0019\n",
      "Epoch 19/50\n",
      "92/92 [==============================] - 3s 35ms/step - loss: 0.0014 - val_loss: 0.0019\n",
      "Epoch 20/50\n",
      "92/92 [==============================] - 3s 35ms/step - loss: 0.0014 - val_loss: 0.0019\n",
      "Epoch 21/50\n",
      "92/92 [==============================] - 3s 36ms/step - loss: 0.0015 - val_loss: 0.0018\n",
      "Epoch 22/50\n",
      "92/92 [==============================] - 3s 35ms/step - loss: 0.0014 - val_loss: 0.0023\n",
      "Epoch 23/50\n",
      "92/92 [==============================] - 3s 35ms/step - loss: 0.0014 - val_loss: 0.0018\n",
      "Epoch 24/50\n",
      "92/92 [==============================] - 3s 35ms/step - loss: 0.0013 - val_loss: 0.0018\n",
      "Epoch 25/50\n",
      "92/92 [==============================] - 3s 35ms/step - loss: 0.0014 - val_loss: 0.0018\n",
      "Epoch 26/50\n",
      "92/92 [==============================] - 3s 35ms/step - loss: 0.0013 - val_loss: 0.0018\n",
      "Epoch 27/50\n",
      "92/92 [==============================] - 3s 36ms/step - loss: 0.0013 - val_loss: 0.0019\n",
      "Epoch 28/50\n",
      "92/92 [==============================] - 3s 35ms/step - loss: 0.0013 - val_loss: 0.0018\n",
      "Epoch 29/50\n",
      "92/92 [==============================] - 3s 35ms/step - loss: 0.0014 - val_loss: 0.0018\n",
      "Epoch 30/50\n",
      "92/92 [==============================] - 3s 35ms/step - loss: 0.0014 - val_loss: 0.0021\n",
      "Epoch 31/50\n",
      "92/92 [==============================] - 3s 35ms/step - loss: 0.0014 - val_loss: 0.0018\n",
      "Epoch 32/50\n",
      "92/92 [==============================] - 3s 35ms/step - loss: 0.0013 - val_loss: 0.0019\n",
      "Epoch 33/50\n",
      "92/92 [==============================] - 3s 36ms/step - loss: 0.0014 - val_loss: 0.0019\n",
      "Epoch 34/50\n",
      "92/92 [==============================] - 3s 35ms/step - loss: 0.0013 - val_loss: 0.0020\n",
      "Epoch 35/50\n",
      "92/92 [==============================] - 3s 35ms/step - loss: 0.0013 - val_loss: 0.0020\n",
      "Epoch 36/50\n",
      "92/92 [==============================] - 3s 35ms/step - loss: 0.0013 - val_loss: 0.0020\n",
      "Epoch 37/50\n",
      "92/92 [==============================] - 3s 35ms/step - loss: 0.0013 - val_loss: 0.0018\n",
      "Epoch 38/50\n",
      "92/92 [==============================] - 3s 35ms/step - loss: 0.0013 - val_loss: 0.0018\n",
      "Epoch 39/50\n",
      "92/92 [==============================] - 3s 35ms/step - loss: 0.0013 - val_loss: 0.0021\n",
      "Epoch 40/50\n",
      "92/92 [==============================] - 3s 35ms/step - loss: 0.0013 - val_loss: 0.0019\n",
      "Epoch 41/50\n",
      "92/92 [==============================] - 3s 35ms/step - loss: 0.0013 - val_loss: 0.0019\n",
      "Epoch 42/50\n",
      "92/92 [==============================] - 3s 35ms/step - loss: 0.0013 - val_loss: 0.0018\n",
      "Epoch 43/50\n",
      "92/92 [==============================] - 3s 35ms/step - loss: 0.0013 - val_loss: 0.0019\n",
      "Epoch 44/50\n",
      "92/92 [==============================] - 3s 35ms/step - loss: 0.0013 - val_loss: 0.0018\n",
      "Epoch 45/50\n",
      "92/92 [==============================] - 3s 35ms/step - loss: 0.0013 - val_loss: 0.0020\n",
      "Epoch 46/50\n",
      "92/92 [==============================] - 3s 36ms/step - loss: 0.0013 - val_loss: 0.0019\n",
      "Epoch 47/50\n",
      "92/92 [==============================] - 3s 35ms/step - loss: 0.0013 - val_loss: 0.0019\n",
      "Epoch 48/50\n",
      "92/92 [==============================] - 3s 35ms/step - loss: 0.0013 - val_loss: 0.0019\n",
      "Epoch 49/50\n",
      "92/92 [==============================] - 3s 35ms/step - loss: 0.0013 - val_loss: 0.0018\n",
      "Epoch 50/50\n",
      "92/92 [==============================] - 3s 35ms/step - loss: 0.0012 - val_loss: 0.0019\n",
      "Epoch 1/25\n",
      "23/23 [==============================] - 3s 51ms/step - loss: 0.0060 - val_loss: 0.0126\n",
      "Epoch 2/25\n",
      "23/23 [==============================] - 1s 35ms/step - loss: 0.0042 - val_loss: 0.0107\n",
      "Epoch 3/25\n",
      "23/23 [==============================] - 1s 36ms/step - loss: 0.0029 - val_loss: 0.0083\n",
      "Epoch 4/25\n",
      "23/23 [==============================] - 1s 35ms/step - loss: 0.0024 - val_loss: 0.0074\n",
      "Epoch 5/25\n",
      "23/23 [==============================] - 1s 39ms/step - loss: 0.0022 - val_loss: 0.0068\n",
      "Epoch 6/25\n",
      "23/23 [==============================] - 1s 39ms/step - loss: 0.0022 - val_loss: 0.0061\n",
      "Epoch 7/25\n",
      "23/23 [==============================] - 1s 41ms/step - loss: 0.0020 - val_loss: 0.0054\n",
      "Epoch 8/25\n",
      "23/23 [==============================] - 1s 39ms/step - loss: 0.0019 - val_loss: 0.0049\n",
      "Epoch 9/25\n",
      "23/23 [==============================] - 1s 39ms/step - loss: 0.0018 - val_loss: 0.0044\n",
      "Epoch 10/25\n",
      "23/23 [==============================] - 1s 39ms/step - loss: 0.0017 - val_loss: 0.0041\n",
      "Epoch 11/25\n",
      "23/23 [==============================] - 1s 39ms/step - loss: 0.0017 - val_loss: 0.0037\n",
      "Epoch 12/25\n",
      "23/23 [==============================] - 1s 39ms/step - loss: 0.0016 - val_loss: 0.0035\n",
      "Epoch 13/25\n",
      "23/23 [==============================] - 1s 39ms/step - loss: 0.0016 - val_loss: 0.0033\n",
      "Epoch 14/25\n",
      "23/23 [==============================] - 1s 39ms/step - loss: 0.0015 - val_loss: 0.0031\n",
      "Epoch 15/25\n",
      "23/23 [==============================] - 1s 39ms/step - loss: 0.0014 - val_loss: 0.0029\n",
      "Epoch 16/25\n",
      "23/23 [==============================] - 1s 39ms/step - loss: 0.0014 - val_loss: 0.0028\n",
      "Epoch 17/25\n",
      "23/23 [==============================] - 1s 39ms/step - loss: 0.0014 - val_loss: 0.0027\n",
      "Epoch 18/25\n",
      "23/23 [==============================] - 1s 39ms/step - loss: 0.0013 - val_loss: 0.0026\n",
      "Epoch 19/25\n",
      "23/23 [==============================] - 1s 39ms/step - loss: 0.0013 - val_loss: 0.0025\n",
      "Epoch 20/25\n",
      "23/23 [==============================] - 1s 39ms/step - loss: 0.0013 - val_loss: 0.0025\n",
      "Epoch 21/25\n",
      "23/23 [==============================] - 1s 39ms/step - loss: 0.0012 - val_loss: 0.0024\n",
      "Epoch 22/25\n",
      "23/23 [==============================] - 1s 39ms/step - loss: 0.0013 - val_loss: 0.0025\n",
      "Epoch 23/25\n",
      "23/23 [==============================] - 1s 39ms/step - loss: 0.0012 - val_loss: 0.0024\n",
      "Epoch 24/25\n",
      "23/23 [==============================] - 1s 39ms/step - loss: 0.0012 - val_loss: 0.0023\n",
      "Epoch 25/25\n",
      "23/23 [==============================] - 1s 39ms/step - loss: 0.0012 - val_loss: 0.0023\n",
      "Epoch 1/25\n",
      "23/23 [==============================] - 3s 50ms/step - loss: 0.0199 - val_loss: 0.0153\n",
      "Epoch 2/25\n",
      "23/23 [==============================] - 1s 35ms/step - loss: 0.0118 - val_loss: 0.0095\n",
      "Epoch 3/25\n",
      "23/23 [==============================] - 1s 35ms/step - loss: 0.0081 - val_loss: 0.0095\n",
      "Epoch 4/25\n",
      "23/23 [==============================] - 1s 36ms/step - loss: 0.0062 - val_loss: 0.0074\n",
      "Epoch 5/25\n",
      "23/23 [==============================] - 1s 39ms/step - loss: 0.0050 - val_loss: 0.0053\n",
      "Epoch 6/25\n",
      "23/23 [==============================] - 1s 39ms/step - loss: 0.0043 - val_loss: 0.0051\n",
      "Epoch 7/25\n",
      "23/23 [==============================] - 1s 39ms/step - loss: 0.0037 - val_loss: 0.0044\n",
      "Epoch 8/25\n",
      "23/23 [==============================] - 1s 39ms/step - loss: 0.0033 - val_loss: 0.0040\n",
      "Epoch 9/25\n",
      "23/23 [==============================] - 1s 39ms/step - loss: 0.0031 - val_loss: 0.0033\n",
      "Epoch 10/25\n",
      "23/23 [==============================] - 1s 39ms/step - loss: 0.0029 - val_loss: 0.0028\n",
      "Epoch 11/25\n",
      "23/23 [==============================] - 1s 39ms/step - loss: 0.0028 - val_loss: 0.0027\n",
      "Epoch 12/25\n",
      "23/23 [==============================] - 1s 39ms/step - loss: 0.0026 - val_loss: 0.0027\n",
      "Epoch 13/25\n",
      "23/23 [==============================] - 1s 39ms/step - loss: 0.0024 - val_loss: 0.0026\n",
      "Epoch 14/25\n",
      "23/23 [==============================] - 1s 39ms/step - loss: 0.0024 - val_loss: 0.0025\n",
      "Epoch 15/25\n",
      "23/23 [==============================] - 1s 39ms/step - loss: 0.0023 - val_loss: 0.0023\n",
      "Epoch 16/25\n",
      "23/23 [==============================] - 1s 39ms/step - loss: 0.0023 - val_loss: 0.0022\n",
      "Epoch 17/25\n",
      "23/23 [==============================] - 1s 39ms/step - loss: 0.0021 - val_loss: 0.0022\n",
      "Epoch 18/25\n",
      "23/23 [==============================] - 1s 39ms/step - loss: 0.0022 - val_loss: 0.0021\n",
      "Epoch 19/25\n",
      "23/23 [==============================] - 1s 39ms/step - loss: 0.0022 - val_loss: 0.0021\n",
      "Epoch 20/25\n",
      "23/23 [==============================] - 1s 39ms/step - loss: 0.0022 - val_loss: 0.0023\n",
      "Epoch 21/25\n",
      "23/23 [==============================] - 1s 39ms/step - loss: 0.0021 - val_loss: 0.0020\n",
      "Epoch 22/25\n",
      "23/23 [==============================] - 1s 39ms/step - loss: 0.0021 - val_loss: 0.0020\n",
      "Epoch 23/25\n",
      "23/23 [==============================] - 1s 39ms/step - loss: 0.0019 - val_loss: 0.0020\n",
      "Epoch 24/25\n",
      "23/23 [==============================] - 1s 39ms/step - loss: 0.0019 - val_loss: 0.0020\n",
      "Epoch 25/25\n",
      "23/23 [==============================] - 1s 40ms/step - loss: 0.0020 - val_loss: 0.0019\n",
      "Epoch 1/25\n",
      "23/23 [==============================] - 3s 50ms/step - loss: 0.0283 - val_loss: 0.0131\n",
      "Epoch 2/25\n",
      "23/23 [==============================] - 1s 35ms/step - loss: 0.0138 - val_loss: 0.0096\n",
      "Epoch 3/25\n",
      "23/23 [==============================] - 1s 34ms/step - loss: 0.0080 - val_loss: 0.0102\n",
      "Epoch 4/25\n",
      "23/23 [==============================] - 1s 35ms/step - loss: 0.0052 - val_loss: 0.0074\n",
      "Epoch 5/25\n",
      "23/23 [==============================] - 1s 39ms/step - loss: 0.0043 - val_loss: 0.0067\n",
      "Epoch 6/25\n",
      "23/23 [==============================] - 1s 39ms/step - loss: 0.0037 - val_loss: 0.0071\n",
      "Epoch 7/25\n",
      "23/23 [==============================] - 1s 39ms/step - loss: 0.0034 - val_loss: 0.0049\n",
      "Epoch 8/25\n",
      "23/23 [==============================] - 1s 39ms/step - loss: 0.0030 - val_loss: 0.0042\n",
      "Epoch 9/25\n",
      "23/23 [==============================] - 1s 39ms/step - loss: 0.0028 - val_loss: 0.0037\n",
      "Epoch 10/25\n",
      "23/23 [==============================] - 1s 39ms/step - loss: 0.0025 - val_loss: 0.0034\n",
      "Epoch 11/25\n",
      "23/23 [==============================] - 1s 39ms/step - loss: 0.0025 - val_loss: 0.0034\n",
      "Epoch 12/25\n",
      "23/23 [==============================] - 1s 39ms/step - loss: 0.0024 - val_loss: 0.0031\n",
      "Epoch 13/25\n",
      "23/23 [==============================] - 1s 39ms/step - loss: 0.0023 - val_loss: 0.0029\n",
      "Epoch 14/25\n",
      "23/23 [==============================] - 1s 39ms/step - loss: 0.0021 - val_loss: 0.0027\n",
      "Epoch 15/25\n",
      "23/23 [==============================] - 1s 39ms/step - loss: 0.0023 - val_loss: 0.0027\n",
      "Epoch 16/25\n",
      "23/23 [==============================] - 1s 39ms/step - loss: 0.0020 - val_loss: 0.0028\n",
      "Epoch 17/25\n",
      "23/23 [==============================] - 1s 39ms/step - loss: 0.0020 - val_loss: 0.0027\n",
      "Epoch 18/25\n",
      "23/23 [==============================] - 1s 39ms/step - loss: 0.0018 - val_loss: 0.0025\n",
      "Epoch 19/25\n",
      "23/23 [==============================] - 1s 39ms/step - loss: 0.0019 - val_loss: 0.0025\n",
      "Epoch 20/25\n",
      "23/23 [==============================] - 1s 39ms/step - loss: 0.0018 - val_loss: 0.0025\n",
      "Epoch 21/25\n",
      "23/23 [==============================] - 1s 40ms/step - loss: 0.0018 - val_loss: 0.0024\n",
      "Epoch 22/25\n",
      "23/23 [==============================] - 1s 39ms/step - loss: 0.0017 - val_loss: 0.0023\n",
      "Epoch 23/25\n",
      "23/23 [==============================] - 1s 39ms/step - loss: 0.0017 - val_loss: 0.0023\n",
      "Epoch 24/25\n",
      "23/23 [==============================] - 1s 39ms/step - loss: 0.0017 - val_loss: 0.0025\n",
      "Epoch 25/25\n",
      "23/23 [==============================] - 1s 39ms/step - loss: 0.0017 - val_loss: 0.0022\n",
      "Epoch 1/25\n",
      "35/35 [==============================] - 3s 43ms/step - loss: 0.0204 - val_loss: 0.0120\n",
      "Epoch 2/25\n",
      "35/35 [==============================] - 1s 33ms/step - loss: 0.0089 - val_loss: 0.0079\n",
      "Epoch 3/25\n",
      "35/35 [==============================] - 1s 35ms/step - loss: 0.0050 - val_loss: 0.0064\n",
      "Epoch 4/25\n",
      "35/35 [==============================] - 1s 37ms/step - loss: 0.0036 - val_loss: 0.0047\n",
      "Epoch 5/25\n",
      "35/35 [==============================] - 1s 37ms/step - loss: 0.0030 - val_loss: 0.0039\n",
      "Epoch 6/25\n",
      "35/35 [==============================] - 1s 37ms/step - loss: 0.0028 - val_loss: 0.0038\n",
      "Epoch 7/25\n",
      "35/35 [==============================] - 1s 37ms/step - loss: 0.0026 - val_loss: 0.0033\n",
      "Epoch 8/25\n",
      "35/35 [==============================] - 1s 37ms/step - loss: 0.0024 - val_loss: 0.0029\n",
      "Epoch 9/25\n",
      "35/35 [==============================] - 1s 37ms/step - loss: 0.0023 - val_loss: 0.0028\n",
      "Epoch 10/25\n",
      "35/35 [==============================] - 1s 37ms/step - loss: 0.0022 - val_loss: 0.0030\n",
      "Epoch 11/25\n",
      "35/35 [==============================] - 1s 38ms/step - loss: 0.0020 - val_loss: 0.0025\n",
      "Epoch 12/25\n",
      "35/35 [==============================] - 1s 37ms/step - loss: 0.0020 - val_loss: 0.0028\n",
      "Epoch 13/25\n",
      "35/35 [==============================] - 1s 38ms/step - loss: 0.0019 - val_loss: 0.0023\n",
      "Epoch 14/25\n",
      "35/35 [==============================] - 1s 38ms/step - loss: 0.0019 - val_loss: 0.0026\n",
      "Epoch 15/25\n",
      "35/35 [==============================] - 1s 37ms/step - loss: 0.0018 - val_loss: 0.0022\n",
      "Epoch 16/25\n",
      "35/35 [==============================] - 1s 37ms/step - loss: 0.0018 - val_loss: 0.0021\n",
      "Epoch 17/25\n",
      "35/35 [==============================] - 1s 37ms/step - loss: 0.0018 - val_loss: 0.0021\n",
      "Epoch 18/25\n",
      "35/35 [==============================] - 1s 37ms/step - loss: 0.0017 - val_loss: 0.0021\n",
      "Epoch 19/25\n",
      "35/35 [==============================] - 1s 37ms/step - loss: 0.0017 - val_loss: 0.0023\n",
      "Epoch 20/25\n",
      "35/35 [==============================] - 1s 37ms/step - loss: 0.0016 - val_loss: 0.0020\n",
      "Epoch 21/25\n",
      "35/35 [==============================] - 1s 38ms/step - loss: 0.0017 - val_loss: 0.0020\n",
      "Epoch 22/25\n",
      "35/35 [==============================] - 1s 37ms/step - loss: 0.0016 - val_loss: 0.0020\n",
      "Epoch 23/25\n",
      "35/35 [==============================] - 1s 37ms/step - loss: 0.0016 - val_loss: 0.0020\n",
      "Epoch 24/25\n",
      "35/35 [==============================] - 1s 37ms/step - loss: 0.0016 - val_loss: 0.0019\n",
      "Epoch 25/25\n",
      "35/35 [==============================] - 1s 38ms/step - loss: 0.0015 - val_loss: 0.0019\n",
      "Best: -0.002256 using {'units': 32, 'optimizer': 'adam', 'epochs': 25, 'dropout_rate': 0.3, 'batch_size': 128, 'activation': 'softmax'}\n"
     ]
    },
    {
     "name": "stderr",
     "output_type": "stream",
     "text": [
      "/var/folders/m7/dkyjm7gn71ggjt2b8p3ymthc0000gn/T/ipykernel_7614/3251881518.py:9: DeprecationWarning: KerasRegressor is deprecated, use Sci-Keras (https://github.com/adriangb/scikeras) instead. See https://www.adriangb.com/scikeras/stable/migration.html for help migrating.\n",
      "  model = KerasRegressor(build_fn=create_model_fn, verbose=0)\n"
     ]
    },
    {
     "name": "stdout",
     "output_type": "stream",
     "text": [
      "Epoch 1/50\n",
      "23/23 [==============================] - 5s 112ms/step - loss: 0.0053 - val_loss: 0.0160\n",
      "Epoch 2/50\n",
      "23/23 [==============================] - 2s 99ms/step - loss: 0.0050 - val_loss: 0.0153\n",
      "Epoch 3/50\n",
      "23/23 [==============================] - 2s 99ms/step - loss: 0.0049 - val_loss: 0.0147\n",
      "Epoch 4/50\n",
      "23/23 [==============================] - 2s 100ms/step - loss: 0.0046 - val_loss: 0.0137\n",
      "Epoch 5/50\n",
      "23/23 [==============================] - 2s 102ms/step - loss: 0.0043 - val_loss: 0.0124\n",
      "Epoch 6/50\n",
      "23/23 [==============================] - 2s 104ms/step - loss: 0.0037 - val_loss: 0.0104\n",
      "Epoch 7/50\n",
      "23/23 [==============================] - 2s 105ms/step - loss: 0.0031 - val_loss: 0.0087\n",
      "Epoch 8/50\n",
      "23/23 [==============================] - 2s 105ms/step - loss: 0.0027 - val_loss: 0.0081\n",
      "Epoch 9/50\n",
      "23/23 [==============================] - 2s 103ms/step - loss: 0.0025 - val_loss: 0.0079\n",
      "Epoch 10/50\n",
      "23/23 [==============================] - 2s 105ms/step - loss: 0.0025 - val_loss: 0.0077\n",
      "Epoch 11/50\n",
      "23/23 [==============================] - 2s 106ms/step - loss: 0.0025 - val_loss: 0.0076\n",
      "Epoch 12/50\n",
      "23/23 [==============================] - 2s 105ms/step - loss: 0.0024 - val_loss: 0.0075\n",
      "Epoch 13/50\n",
      "23/23 [==============================] - 2s 106ms/step - loss: 0.0024 - val_loss: 0.0074\n",
      "Epoch 14/50\n",
      "23/23 [==============================] - 2s 105ms/step - loss: 0.0024 - val_loss: 0.0073\n",
      "Epoch 15/50\n",
      "23/23 [==============================] - 2s 107ms/step - loss: 0.0024 - val_loss: 0.0073\n",
      "Epoch 16/50\n",
      "23/23 [==============================] - 3s 110ms/step - loss: 0.0023 - val_loss: 0.0072\n",
      "Epoch 17/50\n",
      "23/23 [==============================] - 2s 106ms/step - loss: 0.0022 - val_loss: 0.0071\n",
      "Epoch 18/50\n",
      "23/23 [==============================] - 2s 107ms/step - loss: 0.0022 - val_loss: 0.0072\n",
      "Epoch 19/50\n",
      "23/23 [==============================] - 2s 107ms/step - loss: 0.0022 - val_loss: 0.0070\n",
      "Epoch 20/50\n",
      "23/23 [==============================] - 2s 107ms/step - loss: 0.0022 - val_loss: 0.0069\n",
      "Epoch 21/50\n",
      "23/23 [==============================] - 2s 109ms/step - loss: 0.0022 - val_loss: 0.0069\n",
      "Epoch 22/50\n",
      "23/23 [==============================] - 3s 110ms/step - loss: 0.0022 - val_loss: 0.0071\n",
      "Epoch 23/50\n",
      "23/23 [==============================] - 3s 110ms/step - loss: 0.0022 - val_loss: 0.0068\n",
      "Epoch 24/50\n",
      "23/23 [==============================] - 3s 109ms/step - loss: 0.0022 - val_loss: 0.0067\n",
      "Epoch 25/50\n",
      "23/23 [==============================] - 3s 110ms/step - loss: 0.0021 - val_loss: 0.0066\n",
      "Epoch 26/50\n",
      "23/23 [==============================] - 3s 110ms/step - loss: 0.0022 - val_loss: 0.0066\n",
      "Epoch 27/50\n",
      "23/23 [==============================] - 2s 108ms/step - loss: 0.0021 - val_loss: 0.0064\n",
      "Epoch 28/50\n",
      "23/23 [==============================] - 3s 112ms/step - loss: 0.0021 - val_loss: 0.0067\n",
      "Epoch 29/50\n",
      "23/23 [==============================] - 3s 112ms/step - loss: 0.0021 - val_loss: 0.0065\n",
      "Epoch 30/50\n",
      "23/23 [==============================] - 3s 114ms/step - loss: 0.0021 - val_loss: 0.0065\n",
      "Epoch 31/50\n",
      "23/23 [==============================] - 3s 120ms/step - loss: 0.0020 - val_loss: 0.0068\n",
      "Epoch 32/50\n",
      "23/23 [==============================] - 3s 122ms/step - loss: 0.0021 - val_loss: 0.0065\n",
      "Epoch 33/50\n",
      "23/23 [==============================] - 3s 113ms/step - loss: 0.0021 - val_loss: 0.0063\n",
      "Epoch 34/50\n",
      "23/23 [==============================] - 3s 115ms/step - loss: 0.0020 - val_loss: 0.0061\n",
      "Epoch 35/50\n",
      "23/23 [==============================] - 3s 115ms/step - loss: 0.0020 - val_loss: 0.0062\n",
      "Epoch 36/50\n",
      "23/23 [==============================] - 3s 114ms/step - loss: 0.0020 - val_loss: 0.0062\n",
      "Epoch 37/50\n",
      "23/23 [==============================] - 3s 114ms/step - loss: 0.0020 - val_loss: 0.0060\n",
      "Epoch 38/50\n",
      "23/23 [==============================] - 3s 114ms/step - loss: 0.0020 - val_loss: 0.0063\n",
      "Epoch 39/50\n",
      "23/23 [==============================] - 3s 116ms/step - loss: 0.0019 - val_loss: 0.0060\n",
      "Epoch 40/50\n",
      "23/23 [==============================] - 3s 112ms/step - loss: 0.0019 - val_loss: 0.0059\n",
      "Epoch 41/50\n",
      "23/23 [==============================] - 3s 117ms/step - loss: 0.0019 - val_loss: 0.0057\n",
      "Epoch 42/50\n",
      "23/23 [==============================] - 3s 118ms/step - loss: 0.0019 - val_loss: 0.0058\n",
      "Epoch 43/50\n",
      "23/23 [==============================] - 3s 118ms/step - loss: 0.0019 - val_loss: 0.0061\n",
      "Epoch 44/50\n",
      "23/23 [==============================] - 3s 118ms/step - loss: 0.0019 - val_loss: 0.0056\n",
      "Epoch 45/50\n",
      "23/23 [==============================] - 3s 117ms/step - loss: 0.0020 - val_loss: 0.0055\n",
      "Epoch 46/50\n",
      "23/23 [==============================] - 3s 116ms/step - loss: 0.0019 - val_loss: 0.0059\n",
      "Epoch 47/50\n",
      "23/23 [==============================] - 3s 121ms/step - loss: 0.0019 - val_loss: 0.0054\n",
      "Epoch 48/50\n",
      "23/23 [==============================] - 3s 117ms/step - loss: 0.0019 - val_loss: 0.0057\n",
      "Epoch 49/50\n",
      "23/23 [==============================] - 3s 120ms/step - loss: 0.0019 - val_loss: 0.0053\n",
      "Epoch 50/50\n",
      "23/23 [==============================] - 3s 116ms/step - loss: 0.0019 - val_loss: 0.0056\n",
      "Epoch 1/50\n",
      "23/23 [==============================] - 5s 133ms/step - loss: 0.0271 - val_loss: 0.0123\n",
      "Epoch 2/50\n",
      "23/23 [==============================] - 3s 119ms/step - loss: 0.0130 - val_loss: 0.0103\n",
      "Epoch 3/50\n",
      "23/23 [==============================] - 3s 114ms/step - loss: 0.0099 - val_loss: 0.0087\n",
      "Epoch 4/50\n",
      "23/23 [==============================] - 3s 110ms/step - loss: 0.0074 - val_loss: 0.0081\n",
      "Epoch 5/50\n",
      "23/23 [==============================] - 3s 117ms/step - loss: 0.0064 - val_loss: 0.0086\n",
      "Epoch 6/50\n",
      "23/23 [==============================] - 3s 114ms/step - loss: 0.0058 - val_loss: 0.0083\n",
      "Epoch 7/50\n",
      "23/23 [==============================] - 3s 109ms/step - loss: 0.0054 - val_loss: 0.0076\n",
      "Epoch 8/50\n",
      "23/23 [==============================] - 3s 110ms/step - loss: 0.0049 - val_loss: 0.0087\n",
      "Epoch 9/50\n",
      "23/23 [==============================] - 2s 107ms/step - loss: 0.0048 - val_loss: 0.0061\n",
      "Epoch 10/50\n",
      "23/23 [==============================] - 2s 108ms/step - loss: 0.0045 - val_loss: 0.0067\n",
      "Epoch 11/50\n",
      "23/23 [==============================] - 3s 111ms/step - loss: 0.0043 - val_loss: 0.0056\n",
      "Epoch 12/50\n",
      "23/23 [==============================] - 3s 112ms/step - loss: 0.0042 - val_loss: 0.0056\n",
      "Epoch 13/50\n",
      "23/23 [==============================] - 2s 107ms/step - loss: 0.0040 - val_loss: 0.0056\n",
      "Epoch 14/50\n",
      "23/23 [==============================] - 2s 108ms/step - loss: 0.0040 - val_loss: 0.0051\n",
      "Epoch 15/50\n",
      "23/23 [==============================] - 2s 107ms/step - loss: 0.0039 - val_loss: 0.0064\n",
      "Epoch 16/50\n",
      "23/23 [==============================] - 2s 108ms/step - loss: 0.0038 - val_loss: 0.0054\n",
      "Epoch 17/50\n",
      "23/23 [==============================] - 3s 113ms/step - loss: 0.0037 - val_loss: 0.0046\n",
      "Epoch 18/50\n",
      "23/23 [==============================] - 3s 121ms/step - loss: 0.0037 - val_loss: 0.0056\n",
      "Epoch 19/50\n",
      "23/23 [==============================] - 3s 118ms/step - loss: 0.0036 - val_loss: 0.0044\n",
      "Epoch 20/50\n",
      "23/23 [==============================] - 2s 108ms/step - loss: 0.0035 - val_loss: 0.0045\n",
      "Epoch 21/50\n",
      "23/23 [==============================] - 3s 110ms/step - loss: 0.0034 - val_loss: 0.0042\n",
      "Epoch 22/50\n",
      "23/23 [==============================] - 3s 109ms/step - loss: 0.0034 - val_loss: 0.0046\n",
      "Epoch 23/50\n",
      "23/23 [==============================] - 3s 110ms/step - loss: 0.0034 - val_loss: 0.0040\n",
      "Epoch 24/50\n",
      "23/23 [==============================] - 3s 110ms/step - loss: 0.0032 - val_loss: 0.0039\n",
      "Epoch 25/50\n",
      "23/23 [==============================] - 3s 113ms/step - loss: 0.0032 - val_loss: 0.0038\n",
      "Epoch 26/50\n",
      "23/23 [==============================] - 3s 124ms/step - loss: 0.0030 - val_loss: 0.0038\n",
      "Epoch 27/50\n",
      "23/23 [==============================] - 3s 125ms/step - loss: 0.0032 - val_loss: 0.0038\n",
      "Epoch 28/50\n",
      "23/23 [==============================] - 3s 124ms/step - loss: 0.0030 - val_loss: 0.0039\n",
      "Epoch 29/50\n",
      "23/23 [==============================] - 3s 124ms/step - loss: 0.0031 - val_loss: 0.0035\n",
      "Epoch 30/50\n",
      "23/23 [==============================] - 3s 119ms/step - loss: 0.0029 - val_loss: 0.0040\n",
      "Epoch 31/50\n",
      "23/23 [==============================] - 3s 126ms/step - loss: 0.0028 - val_loss: 0.0040\n",
      "Epoch 32/50\n",
      "23/23 [==============================] - 3s 118ms/step - loss: 0.0028 - val_loss: 0.0034\n",
      "Epoch 33/50\n",
      "23/23 [==============================] - 2s 108ms/step - loss: 0.0029 - val_loss: 0.0034\n",
      "Epoch 34/50\n",
      "23/23 [==============================] - 3s 110ms/step - loss: 0.0028 - val_loss: 0.0034\n",
      "Epoch 35/50\n",
      "23/23 [==============================] - 2s 108ms/step - loss: 0.0028 - val_loss: 0.0033\n",
      "Epoch 36/50\n",
      "23/23 [==============================] - 3s 110ms/step - loss: 0.0028 - val_loss: 0.0039\n",
      "Epoch 37/50\n",
      "23/23 [==============================] - 3s 110ms/step - loss: 0.0027 - val_loss: 0.0034\n",
      "Epoch 38/50\n",
      "23/23 [==============================] - 3s 110ms/step - loss: 0.0028 - val_loss: 0.0032\n",
      "Epoch 39/50\n",
      "23/23 [==============================] - 3s 117ms/step - loss: 0.0028 - val_loss: 0.0031\n",
      "Epoch 40/50\n",
      "23/23 [==============================] - 3s 125ms/step - loss: 0.0026 - val_loss: 0.0030\n",
      "Epoch 41/50\n",
      "23/23 [==============================] - 3s 124ms/step - loss: 0.0026 - val_loss: 0.0033\n",
      "Epoch 42/50\n",
      "23/23 [==============================] - 3s 130ms/step - loss: 0.0026 - val_loss: 0.0031\n",
      "Epoch 43/50\n",
      "23/23 [==============================] - 3s 127ms/step - loss: 0.0026 - val_loss: 0.0035\n",
      "Epoch 44/50\n",
      "23/23 [==============================] - 3s 125ms/step - loss: 0.0025 - val_loss: 0.0029\n",
      "Epoch 45/50\n",
      "23/23 [==============================] - 3s 112ms/step - loss: 0.0025 - val_loss: 0.0030\n",
      "Epoch 46/50\n",
      "23/23 [==============================] - 3s 114ms/step - loss: 0.0025 - val_loss: 0.0028\n",
      "Epoch 47/50\n",
      "23/23 [==============================] - 3s 113ms/step - loss: 0.0025 - val_loss: 0.0031\n",
      "Epoch 48/50\n",
      "23/23 [==============================] - 3s 122ms/step - loss: 0.0025 - val_loss: 0.0028\n",
      "Epoch 49/50\n",
      "23/23 [==============================] - 3s 127ms/step - loss: 0.0025 - val_loss: 0.0031\n",
      "Epoch 50/50\n",
      "23/23 [==============================] - 3s 126ms/step - loss: 0.0024 - val_loss: 0.0028\n",
      "Epoch 1/50\n",
      "23/23 [==============================] - 5s 133ms/step - loss: 0.0183 - val_loss: 0.0136\n",
      "Epoch 2/50\n",
      "23/23 [==============================] - 3s 119ms/step - loss: 0.0152 - val_loss: 0.0117\n",
      "Epoch 3/50\n",
      "23/23 [==============================] - 3s 121ms/step - loss: 0.0109 - val_loss: 0.0088\n",
      "Epoch 4/50\n",
      "23/23 [==============================] - 3s 125ms/step - loss: 0.0065 - val_loss: 0.0102\n",
      "Epoch 5/50\n",
      "23/23 [==============================] - 3s 123ms/step - loss: 0.0053 - val_loss: 0.0117\n",
      "Epoch 6/50\n",
      "23/23 [==============================] - 3s 128ms/step - loss: 0.0050 - val_loss: 0.0096\n",
      "Epoch 7/50\n",
      "23/23 [==============================] - 3s 146ms/step - loss: 0.0045 - val_loss: 0.0086\n",
      "Epoch 8/50\n",
      "23/23 [==============================] - 3s 130ms/step - loss: 0.0043 - val_loss: 0.0074\n",
      "Epoch 9/50\n",
      "23/23 [==============================] - 3s 119ms/step - loss: 0.0041 - val_loss: 0.0075\n",
      "Epoch 10/50\n",
      "23/23 [==============================] - 3s 123ms/step - loss: 0.0039 - val_loss: 0.0072\n",
      "Epoch 11/50\n",
      "23/23 [==============================] - 3s 128ms/step - loss: 0.0038 - val_loss: 0.0071\n",
      "Epoch 12/50\n",
      "23/23 [==============================] - 3s 118ms/step - loss: 0.0036 - val_loss: 0.0059\n",
      "Epoch 13/50\n",
      "23/23 [==============================] - 3s 125ms/step - loss: 0.0035 - val_loss: 0.0078\n",
      "Epoch 14/50\n",
      "23/23 [==============================] - 3s 115ms/step - loss: 0.0034 - val_loss: 0.0052\n",
      "Epoch 15/50\n",
      "23/23 [==============================] - 3s 109ms/step - loss: 0.0032 - val_loss: 0.0057\n",
      "Epoch 16/50\n",
      "23/23 [==============================] - 3s 110ms/step - loss: 0.0030 - val_loss: 0.0049\n",
      "Epoch 17/50\n",
      "23/23 [==============================] - 3s 117ms/step - loss: 0.0030 - val_loss: 0.0049\n",
      "Epoch 18/50\n",
      "23/23 [==============================] - 3s 122ms/step - loss: 0.0029 - val_loss: 0.0050\n",
      "Epoch 19/50\n",
      "23/23 [==============================] - 3s 112ms/step - loss: 0.0028 - val_loss: 0.0046\n",
      "Epoch 20/50\n",
      "23/23 [==============================] - 3s 111ms/step - loss: 0.0028 - val_loss: 0.0044\n",
      "Epoch 21/50\n",
      "23/23 [==============================] - 3s 116ms/step - loss: 0.0026 - val_loss: 0.0058\n",
      "Epoch 22/50\n",
      "23/23 [==============================] - 3s 122ms/step - loss: 0.0026 - val_loss: 0.0056\n",
      "Epoch 23/50\n",
      "23/23 [==============================] - 3s 119ms/step - loss: 0.0026 - val_loss: 0.0041\n",
      "Epoch 24/50\n",
      "23/23 [==============================] - 3s 110ms/step - loss: 0.0025 - val_loss: 0.0057\n",
      "Epoch 25/50\n",
      "23/23 [==============================] - 3s 114ms/step - loss: 0.0025 - val_loss: 0.0041\n",
      "Epoch 26/50\n",
      "23/23 [==============================] - 3s 124ms/step - loss: 0.0025 - val_loss: 0.0039\n",
      "Epoch 27/50\n",
      "23/23 [==============================] - 3s 113ms/step - loss: 0.0025 - val_loss: 0.0039\n",
      "Epoch 28/50\n",
      "23/23 [==============================] - 3s 111ms/step - loss: 0.0023 - val_loss: 0.0038\n",
      "Epoch 29/50\n",
      "23/23 [==============================] - 3s 112ms/step - loss: 0.0023 - val_loss: 0.0039\n",
      "Epoch 30/50\n",
      "23/23 [==============================] - 3s 119ms/step - loss: 0.0023 - val_loss: 0.0036\n",
      "Epoch 31/50\n",
      "23/23 [==============================] - 3s 116ms/step - loss: 0.0023 - val_loss: 0.0036\n",
      "Epoch 32/50\n",
      "23/23 [==============================] - 3s 132ms/step - loss: 0.0022 - val_loss: 0.0037\n",
      "Epoch 33/50\n",
      "23/23 [==============================] - 3s 121ms/step - loss: 0.0022 - val_loss: 0.0035\n",
      "Epoch 34/50\n",
      "23/23 [==============================] - 3s 112ms/step - loss: 0.0022 - val_loss: 0.0037\n",
      "Epoch 35/50\n",
      "23/23 [==============================] - 3s 116ms/step - loss: 0.0022 - val_loss: 0.0034\n",
      "Epoch 36/50\n",
      "23/23 [==============================] - 3s 119ms/step - loss: 0.0022 - val_loss: 0.0036\n",
      "Epoch 37/50\n",
      "23/23 [==============================] - 3s 120ms/step - loss: 0.0021 - val_loss: 0.0035\n",
      "Epoch 38/50\n",
      "23/23 [==============================] - 3s 112ms/step - loss: 0.0020 - val_loss: 0.0037\n",
      "Epoch 39/50\n",
      "23/23 [==============================] - 3s 116ms/step - loss: 0.0021 - val_loss: 0.0033\n",
      "Epoch 40/50\n",
      "23/23 [==============================] - 3s 124ms/step - loss: 0.0020 - val_loss: 0.0038\n",
      "Epoch 41/50\n",
      "23/23 [==============================] - 3s 119ms/step - loss: 0.0020 - val_loss: 0.0033\n",
      "Epoch 42/50\n",
      "23/23 [==============================] - 3s 126ms/step - loss: 0.0020 - val_loss: 0.0032\n",
      "Epoch 43/50\n",
      "23/23 [==============================] - 3s 114ms/step - loss: 0.0020 - val_loss: 0.0031\n",
      "Epoch 44/50\n",
      "23/23 [==============================] - 3s 116ms/step - loss: 0.0019 - val_loss: 0.0032\n",
      "Epoch 45/50\n",
      "23/23 [==============================] - 3s 114ms/step - loss: 0.0020 - val_loss: 0.0031\n",
      "Epoch 46/50\n",
      "23/23 [==============================] - 3s 113ms/step - loss: 0.0020 - val_loss: 0.0030\n",
      "Epoch 47/50\n",
      "23/23 [==============================] - 3s 115ms/step - loss: 0.0019 - val_loss: 0.0033\n",
      "Epoch 48/50\n",
      "23/23 [==============================] - 3s 126ms/step - loss: 0.0019 - val_loss: 0.0031\n",
      "Epoch 49/50\n",
      "23/23 [==============================] - 3s 126ms/step - loss: 0.0020 - val_loss: 0.0029\n",
      "Epoch 50/50\n",
      "23/23 [==============================] - 3s 119ms/step - loss: 0.0019 - val_loss: 0.0030\n",
      "Epoch 1/50\n",
      "92/92 [==============================] - 6s 47ms/step - loss: 0.0031 - val_loss: 0.0068\n",
      "Epoch 2/50\n",
      "92/92 [==============================] - 4s 46ms/step - loss: 0.0019 - val_loss: 0.0040\n",
      "Epoch 3/50\n",
      "92/92 [==============================] - 4s 47ms/step - loss: 0.0015 - val_loss: 0.0029\n",
      "Epoch 4/50\n",
      "92/92 [==============================] - 4s 47ms/step - loss: 0.0015 - val_loss: 0.0026\n",
      "Epoch 5/50\n",
      "92/92 [==============================] - 4s 47ms/step - loss: 0.0013 - val_loss: 0.0023\n",
      "Epoch 6/50\n",
      "92/92 [==============================] - 4s 47ms/step - loss: 0.0012 - val_loss: 0.0022\n",
      "Epoch 7/50\n",
      "92/92 [==============================] - 4s 47ms/step - loss: 0.0012 - val_loss: 0.0021\n",
      "Epoch 8/50\n",
      "92/92 [==============================] - 4s 47ms/step - loss: 0.0012 - val_loss: 0.0021\n",
      "Epoch 9/50\n",
      "92/92 [==============================] - 4s 46ms/step - loss: 0.0011 - val_loss: 0.0020\n",
      "Epoch 10/50\n",
      "92/92 [==============================] - 4s 45ms/step - loss: 0.0011 - val_loss: 0.0021\n",
      "Epoch 11/50\n",
      "92/92 [==============================] - 4s 45ms/step - loss: 0.0012 - val_loss: 0.0021\n",
      "Epoch 12/50\n",
      "92/92 [==============================] - 4s 45ms/step - loss: 0.0011 - val_loss: 0.0021\n",
      "Epoch 13/50\n",
      "92/92 [==============================] - 4s 46ms/step - loss: 0.0011 - val_loss: 0.0024\n",
      "Epoch 14/50\n",
      "92/92 [==============================] - 4s 46ms/step - loss: 0.0011 - val_loss: 0.0021\n",
      "Epoch 15/50\n",
      "92/92 [==============================] - 4s 45ms/step - loss: 0.0011 - val_loss: 0.0021\n",
      "Epoch 16/50\n",
      "92/92 [==============================] - 4s 46ms/step - loss: 0.0011 - val_loss: 0.0023\n",
      "Epoch 17/50\n",
      "92/92 [==============================] - 4s 46ms/step - loss: 0.0011 - val_loss: 0.0020\n",
      "Epoch 18/50\n",
      "92/92 [==============================] - 4s 45ms/step - loss: 0.0012 - val_loss: 0.0022\n",
      "Epoch 19/50\n",
      "92/92 [==============================] - 4s 45ms/step - loss: 0.0011 - val_loss: 0.0021\n",
      "Epoch 20/50\n",
      "92/92 [==============================] - 4s 46ms/step - loss: 0.0011 - val_loss: 0.0026\n",
      "Epoch 21/50\n",
      "92/92 [==============================] - 4s 45ms/step - loss: 0.0011 - val_loss: 0.0021\n",
      "Epoch 22/50\n",
      "92/92 [==============================] - 4s 47ms/step - loss: 0.0011 - val_loss: 0.0022\n",
      "Epoch 23/50\n",
      "92/92 [==============================] - 4s 45ms/step - loss: 0.0011 - val_loss: 0.0023\n",
      "Epoch 24/50\n",
      "92/92 [==============================] - 4s 45ms/step - loss: 0.0011 - val_loss: 0.0021\n",
      "Epoch 25/50\n",
      "92/92 [==============================] - 4s 45ms/step - loss: 0.0011 - val_loss: 0.0022\n",
      "Epoch 26/50\n",
      "92/92 [==============================] - 4s 45ms/step - loss: 0.0011 - val_loss: 0.0021\n",
      "Epoch 27/50\n",
      "92/92 [==============================] - 4s 45ms/step - loss: 0.0011 - val_loss: 0.0022\n",
      "Epoch 28/50\n",
      "92/92 [==============================] - 4s 45ms/step - loss: 0.0011 - val_loss: 0.0021\n",
      "Epoch 29/50\n",
      "92/92 [==============================] - 4s 45ms/step - loss: 0.0011 - val_loss: 0.0023\n",
      "Epoch 30/50\n",
      "92/92 [==============================] - 4s 45ms/step - loss: 0.0011 - val_loss: 0.0021\n",
      "Epoch 31/50\n",
      "92/92 [==============================] - 4s 45ms/step - loss: 0.0011 - val_loss: 0.0022\n",
      "Epoch 32/50\n",
      "92/92 [==============================] - 4s 45ms/step - loss: 0.0011 - val_loss: 0.0023\n",
      "Epoch 33/50\n",
      "92/92 [==============================] - 4s 45ms/step - loss: 9.9235e-04 - val_loss: 0.0021\n",
      "Epoch 34/50\n",
      "92/92 [==============================] - 4s 45ms/step - loss: 0.0011 - val_loss: 0.0022\n",
      "Epoch 35/50\n",
      "92/92 [==============================] - 4s 45ms/step - loss: 0.0010 - val_loss: 0.0027\n",
      "Epoch 36/50\n",
      "92/92 [==============================] - 4s 45ms/step - loss: 0.0011 - val_loss: 0.0021\n",
      "Epoch 37/50\n",
      "92/92 [==============================] - 4s 46ms/step - loss: 0.0011 - val_loss: 0.0021\n",
      "Epoch 38/50\n",
      "92/92 [==============================] - 4s 46ms/step - loss: 0.0011 - val_loss: 0.0023\n",
      "Epoch 39/50\n",
      "92/92 [==============================] - 4s 46ms/step - loss: 0.0011 - val_loss: 0.0022\n",
      "Epoch 40/50\n",
      "92/92 [==============================] - 4s 45ms/step - loss: 0.0011 - val_loss: 0.0024\n",
      "Epoch 41/50\n",
      "92/92 [==============================] - 4s 46ms/step - loss: 0.0010 - val_loss: 0.0022\n",
      "Epoch 42/50\n",
      "92/92 [==============================] - 4s 45ms/step - loss: 0.0010 - val_loss: 0.0023\n",
      "Epoch 43/50\n",
      "92/92 [==============================] - 4s 46ms/step - loss: 0.0010 - val_loss: 0.0022\n",
      "Epoch 44/50\n",
      "92/92 [==============================] - 4s 45ms/step - loss: 0.0010 - val_loss: 0.0022\n",
      "Epoch 45/50\n",
      "92/92 [==============================] - 4s 45ms/step - loss: 0.0010 - val_loss: 0.0022\n",
      "Epoch 46/50\n",
      "92/92 [==============================] - 4s 45ms/step - loss: 0.0010 - val_loss: 0.0022\n",
      "Epoch 47/50\n",
      "92/92 [==============================] - 4s 45ms/step - loss: 0.0010 - val_loss: 0.0026\n",
      "Epoch 48/50\n",
      "92/92 [==============================] - 4s 46ms/step - loss: 0.0010 - val_loss: 0.0024\n",
      "Epoch 49/50\n",
      "92/92 [==============================] - 4s 45ms/step - loss: 9.9061e-04 - val_loss: 0.0026\n",
      "Epoch 50/50\n",
      "92/92 [==============================] - 4s 46ms/step - loss: 0.0010 - val_loss: 0.0026\n",
      "Epoch 1/50\n",
      "92/92 [==============================] - 6s 45ms/step - loss: 0.0096 - val_loss: 0.0049\n",
      "Epoch 2/50\n",
      "92/92 [==============================] - 4s 46ms/step - loss: 0.0039 - val_loss: 0.0035\n",
      "Epoch 3/50\n",
      "92/92 [==============================] - 4s 46ms/step - loss: 0.0029 - val_loss: 0.0028\n",
      "Epoch 4/50\n",
      "92/92 [==============================] - 4s 46ms/step - loss: 0.0026 - val_loss: 0.0025\n",
      "Epoch 5/50\n",
      "92/92 [==============================] - 4s 46ms/step - loss: 0.0025 - val_loss: 0.0022\n",
      "Epoch 6/50\n",
      "92/92 [==============================] - 4s 46ms/step - loss: 0.0022 - val_loss: 0.0022\n",
      "Epoch 7/50\n",
      "92/92 [==============================] - 4s 46ms/step - loss: 0.0021 - val_loss: 0.0021\n",
      "Epoch 8/50\n",
      "92/92 [==============================] - 4s 45ms/step - loss: 0.0020 - val_loss: 0.0019\n",
      "Epoch 9/50\n",
      "92/92 [==============================] - 4s 46ms/step - loss: 0.0020 - val_loss: 0.0021\n",
      "Epoch 10/50\n",
      "92/92 [==============================] - 4s 46ms/step - loss: 0.0019 - val_loss: 0.0020\n",
      "Epoch 11/50\n",
      "92/92 [==============================] - 4s 46ms/step - loss: 0.0019 - val_loss: 0.0018\n",
      "Epoch 12/50\n",
      "92/92 [==============================] - 4s 46ms/step - loss: 0.0018 - val_loss: 0.0017\n",
      "Epoch 13/50\n",
      "92/92 [==============================] - 4s 46ms/step - loss: 0.0018 - val_loss: 0.0018\n",
      "Epoch 14/50\n",
      "92/92 [==============================] - 4s 46ms/step - loss: 0.0018 - val_loss: 0.0017\n",
      "Epoch 15/50\n",
      "92/92 [==============================] - 4s 45ms/step - loss: 0.0017 - val_loss: 0.0019\n",
      "Epoch 16/50\n",
      "92/92 [==============================] - 4s 46ms/step - loss: 0.0018 - val_loss: 0.0018\n",
      "Epoch 17/50\n",
      "92/92 [==============================] - 4s 46ms/step - loss: 0.0017 - val_loss: 0.0019\n",
      "Epoch 18/50\n",
      "92/92 [==============================] - 4s 46ms/step - loss: 0.0018 - val_loss: 0.0018\n",
      "Epoch 19/50\n",
      "92/92 [==============================] - 4s 46ms/step - loss: 0.0017 - val_loss: 0.0020\n",
      "Epoch 20/50\n",
      "92/92 [==============================] - 4s 45ms/step - loss: 0.0017 - val_loss: 0.0019\n",
      "Epoch 21/50\n",
      "92/92 [==============================] - 4s 46ms/step - loss: 0.0017 - val_loss: 0.0018\n",
      "Epoch 22/50\n",
      "92/92 [==============================] - 4s 45ms/step - loss: 0.0017 - val_loss: 0.0018\n",
      "Epoch 23/50\n",
      "92/92 [==============================] - 4s 46ms/step - loss: 0.0017 - val_loss: 0.0018\n",
      "Epoch 24/50\n",
      "92/92 [==============================] - 4s 46ms/step - loss: 0.0017 - val_loss: 0.0018\n",
      "Epoch 25/50\n",
      "92/92 [==============================] - 4s 45ms/step - loss: 0.0017 - val_loss: 0.0021\n",
      "Epoch 26/50\n",
      "92/92 [==============================] - 4s 46ms/step - loss: 0.0017 - val_loss: 0.0019\n",
      "Epoch 27/50\n",
      "92/92 [==============================] - 4s 46ms/step - loss: 0.0017 - val_loss: 0.0017\n",
      "Epoch 28/50\n",
      "92/92 [==============================] - 4s 46ms/step - loss: 0.0016 - val_loss: 0.0018\n",
      "Epoch 29/50\n",
      "92/92 [==============================] - 4s 46ms/step - loss: 0.0017 - val_loss: 0.0019\n",
      "Epoch 30/50\n",
      "92/92 [==============================] - 4s 46ms/step - loss: 0.0017 - val_loss: 0.0018\n",
      "Epoch 31/50\n",
      "92/92 [==============================] - 4s 46ms/step - loss: 0.0017 - val_loss: 0.0017\n",
      "Epoch 32/50\n",
      "92/92 [==============================] - 4s 46ms/step - loss: 0.0017 - val_loss: 0.0018\n",
      "Epoch 33/50\n",
      "92/92 [==============================] - 4s 46ms/step - loss: 0.0017 - val_loss: 0.0017\n",
      "Epoch 34/50\n",
      "92/92 [==============================] - 4s 46ms/step - loss: 0.0016 - val_loss: 0.0018\n",
      "Epoch 35/50\n",
      "92/92 [==============================] - 4s 46ms/step - loss: 0.0017 - val_loss: 0.0017\n",
      "Epoch 36/50\n",
      "92/92 [==============================] - 4s 46ms/step - loss: 0.0016 - val_loss: 0.0017\n",
      "Epoch 37/50\n",
      "92/92 [==============================] - 4s 46ms/step - loss: 0.0016 - val_loss: 0.0017\n",
      "Epoch 38/50\n",
      "92/92 [==============================] - 4s 46ms/step - loss: 0.0016 - val_loss: 0.0018\n",
      "Epoch 39/50\n",
      "92/92 [==============================] - 4s 46ms/step - loss: 0.0016 - val_loss: 0.0017\n",
      "Epoch 40/50\n",
      "92/92 [==============================] - 4s 46ms/step - loss: 0.0016 - val_loss: 0.0017\n",
      "Epoch 41/50\n",
      "92/92 [==============================] - 4s 45ms/step - loss: 0.0017 - val_loss: 0.0018\n",
      "Epoch 42/50\n",
      "92/92 [==============================] - 4s 46ms/step - loss: 0.0016 - val_loss: 0.0017\n",
      "Epoch 43/50\n",
      "92/92 [==============================] - 4s 45ms/step - loss: 0.0016 - val_loss: 0.0018\n",
      "Epoch 44/50\n",
      "92/92 [==============================] - 4s 45ms/step - loss: 0.0016 - val_loss: 0.0018\n",
      "Epoch 45/50\n",
      "92/92 [==============================] - 4s 46ms/step - loss: 0.0016 - val_loss: 0.0018\n",
      "Epoch 46/50\n",
      "92/92 [==============================] - 4s 46ms/step - loss: 0.0015 - val_loss: 0.0019\n",
      "Epoch 47/50\n",
      "92/92 [==============================] - 4s 46ms/step - loss: 0.0016 - val_loss: 0.0024\n",
      "Epoch 48/50\n",
      "92/92 [==============================] - 4s 46ms/step - loss: 0.0016 - val_loss: 0.0018\n",
      "Epoch 49/50\n",
      "92/92 [==============================] - 4s 46ms/step - loss: 0.0016 - val_loss: 0.0019\n",
      "Epoch 50/50\n",
      "92/92 [==============================] - 4s 45ms/step - loss: 0.0016 - val_loss: 0.0018\n",
      "Epoch 1/50\n",
      "92/92 [==============================] - 6s 46ms/step - loss: 0.0088 - val_loss: 0.0058\n",
      "Epoch 2/50\n",
      "92/92 [==============================] - 4s 47ms/step - loss: 0.0031 - val_loss: 0.0035\n",
      "Epoch 3/50\n",
      "92/92 [==============================] - 4s 46ms/step - loss: 0.0024 - val_loss: 0.0037\n",
      "Epoch 4/50\n",
      "92/92 [==============================] - 4s 46ms/step - loss: 0.0021 - val_loss: 0.0033\n",
      "Epoch 5/50\n",
      "92/92 [==============================] - 4s 46ms/step - loss: 0.0019 - val_loss: 0.0029\n",
      "Epoch 6/50\n",
      "92/92 [==============================] - 4s 46ms/step - loss: 0.0018 - val_loss: 0.0022\n",
      "Epoch 7/50\n",
      "92/92 [==============================] - 4s 45ms/step - loss: 0.0017 - val_loss: 0.0023\n",
      "Epoch 8/50\n",
      "92/92 [==============================] - 4s 46ms/step - loss: 0.0016 - val_loss: 0.0020\n",
      "Epoch 9/50\n",
      "92/92 [==============================] - 4s 46ms/step - loss: 0.0016 - val_loss: 0.0026\n",
      "Epoch 10/50\n",
      "92/92 [==============================] - 4s 46ms/step - loss: 0.0016 - val_loss: 0.0020\n",
      "Epoch 11/50\n",
      "92/92 [==============================] - 4s 48ms/step - loss: 0.0016 - val_loss: 0.0019\n",
      "Epoch 12/50\n",
      "92/92 [==============================] - 4s 48ms/step - loss: 0.0015 - val_loss: 0.0020\n",
      "Epoch 13/50\n",
      "92/92 [==============================] - 4s 48ms/step - loss: 0.0014 - val_loss: 0.0023\n",
      "Epoch 14/50\n",
      "92/92 [==============================] - 4s 48ms/step - loss: 0.0015 - val_loss: 0.0022\n",
      "Epoch 15/50\n",
      "92/92 [==============================] - 4s 46ms/step - loss: 0.0015 - val_loss: 0.0027\n",
      "Epoch 16/50\n",
      "92/92 [==============================] - 4s 45ms/step - loss: 0.0014 - val_loss: 0.0018\n",
      "Epoch 17/50\n",
      "92/92 [==============================] - 4s 45ms/step - loss: 0.0014 - val_loss: 0.0018\n",
      "Epoch 18/50\n",
      "92/92 [==============================] - 4s 45ms/step - loss: 0.0014 - val_loss: 0.0020\n",
      "Epoch 19/50\n",
      "92/92 [==============================] - 4s 48ms/step - loss: 0.0014 - val_loss: 0.0019\n",
      "Epoch 20/50\n",
      "92/92 [==============================] - 4s 47ms/step - loss: 0.0014 - val_loss: 0.0018\n",
      "Epoch 21/50\n",
      "92/92 [==============================] - 4s 47ms/step - loss: 0.0014 - val_loss: 0.0018\n",
      "Epoch 22/50\n",
      "92/92 [==============================] - 4s 46ms/step - loss: 0.0014 - val_loss: 0.0020\n",
      "Epoch 23/50\n",
      "92/92 [==============================] - 4s 46ms/step - loss: 0.0014 - val_loss: 0.0018\n",
      "Epoch 24/50\n",
      "92/92 [==============================] - 4s 47ms/step - loss: 0.0013 - val_loss: 0.0022\n",
      "Epoch 25/50\n",
      "92/92 [==============================] - 4s 48ms/step - loss: 0.0014 - val_loss: 0.0019\n",
      "Epoch 26/50\n",
      "92/92 [==============================] - 4s 47ms/step - loss: 0.0013 - val_loss: 0.0018\n",
      "Epoch 27/50\n",
      "92/92 [==============================] - 4s 46ms/step - loss: 0.0013 - val_loss: 0.0018\n",
      "Epoch 28/50\n",
      "92/92 [==============================] - 4s 47ms/step - loss: 0.0013 - val_loss: 0.0018\n",
      "Epoch 29/50\n",
      "92/92 [==============================] - 4s 47ms/step - loss: 0.0013 - val_loss: 0.0018\n",
      "Epoch 30/50\n",
      "92/92 [==============================] - 4s 47ms/step - loss: 0.0013 - val_loss: 0.0020\n",
      "Epoch 31/50\n",
      "92/92 [==============================] - 4s 48ms/step - loss: 0.0013 - val_loss: 0.0018\n",
      "Epoch 32/50\n",
      "92/92 [==============================] - 4s 47ms/step - loss: 0.0013 - val_loss: 0.0019\n",
      "Epoch 33/50\n",
      "92/92 [==============================] - 4s 48ms/step - loss: 0.0013 - val_loss: 0.0019\n",
      "Epoch 34/50\n",
      "92/92 [==============================] - 4s 48ms/step - loss: 0.0013 - val_loss: 0.0019\n",
      "Epoch 35/50\n",
      "92/92 [==============================] - 4s 46ms/step - loss: 0.0012 - val_loss: 0.0019\n",
      "Epoch 36/50\n",
      "92/92 [==============================] - 4s 46ms/step - loss: 0.0013 - val_loss: 0.0018\n",
      "Epoch 37/50\n",
      "92/92 [==============================] - 4s 47ms/step - loss: 0.0013 - val_loss: 0.0019\n",
      "Epoch 38/50\n",
      "92/92 [==============================] - 4s 46ms/step - loss: 0.0013 - val_loss: 0.0018\n",
      "Epoch 39/50\n",
      "92/92 [==============================] - 4s 47ms/step - loss: 0.0013 - val_loss: 0.0019\n",
      "Epoch 40/50\n",
      "92/92 [==============================] - 4s 46ms/step - loss: 0.0013 - val_loss: 0.0018\n",
      "Epoch 41/50\n",
      "92/92 [==============================] - 4s 47ms/step - loss: 0.0013 - val_loss: 0.0018\n",
      "Epoch 42/50\n",
      "92/92 [==============================] - 4s 46ms/step - loss: 0.0013 - val_loss: 0.0019\n",
      "Epoch 43/50\n",
      "92/92 [==============================] - 4s 46ms/step - loss: 0.0013 - val_loss: 0.0019\n",
      "Epoch 44/50\n",
      "92/92 [==============================] - 4s 46ms/step - loss: 0.0013 - val_loss: 0.0019\n",
      "Epoch 45/50\n",
      "92/92 [==============================] - 4s 46ms/step - loss: 0.0013 - val_loss: 0.0019\n",
      "Epoch 46/50\n",
      "92/92 [==============================] - 4s 47ms/step - loss: 0.0012 - val_loss: 0.0019\n",
      "Epoch 47/50\n",
      "92/92 [==============================] - 4s 46ms/step - loss: 0.0012 - val_loss: 0.0019\n",
      "Epoch 48/50\n",
      "92/92 [==============================] - 4s 46ms/step - loss: 0.0013 - val_loss: 0.0019\n",
      "Epoch 49/50\n",
      "92/92 [==============================] - 4s 46ms/step - loss: 0.0013 - val_loss: 0.0029\n",
      "Epoch 50/50\n",
      "92/92 [==============================] - 4s 46ms/step - loss: 0.0013 - val_loss: 0.0019\n",
      "Epoch 1/25\n",
      "23/23 [==============================] - 5s 121ms/step - loss: 0.0073 - val_loss: 0.0145\n",
      "Epoch 2/25\n",
      "23/23 [==============================] - 2s 107ms/step - loss: 0.0037 - val_loss: 0.0097\n",
      "Epoch 3/25\n",
      "23/23 [==============================] - 3s 110ms/step - loss: 0.0026 - val_loss: 0.0071\n",
      "Epoch 4/25\n",
      "23/23 [==============================] - 3s 110ms/step - loss: 0.0022 - val_loss: 0.0061\n",
      "Epoch 5/25\n",
      "23/23 [==============================] - 3s 113ms/step - loss: 0.0020 - val_loss: 0.0051\n",
      "Epoch 6/25\n",
      "23/23 [==============================] - 3s 112ms/step - loss: 0.0018 - val_loss: 0.0043\n",
      "Epoch 7/25\n",
      "23/23 [==============================] - 3s 112ms/step - loss: 0.0017 - val_loss: 0.0038\n",
      "Epoch 8/25\n",
      "23/23 [==============================] - 3s 115ms/step - loss: 0.0016 - val_loss: 0.0038\n",
      "Epoch 9/25\n",
      "23/23 [==============================] - 3s 113ms/step - loss: 0.0015 - val_loss: 0.0031\n",
      "Epoch 10/25\n",
      "23/23 [==============================] - 3s 112ms/step - loss: 0.0014 - val_loss: 0.0029\n",
      "Epoch 11/25\n",
      "23/23 [==============================] - 3s 113ms/step - loss: 0.0013 - val_loss: 0.0026\n",
      "Epoch 12/25\n",
      "23/23 [==============================] - 3s 114ms/step - loss: 0.0014 - val_loss: 0.0027\n",
      "Epoch 13/25\n",
      "23/23 [==============================] - 3s 115ms/step - loss: 0.0013 - val_loss: 0.0025\n",
      "Epoch 14/25\n",
      "23/23 [==============================] - 3s 115ms/step - loss: 0.0012 - val_loss: 0.0025\n",
      "Epoch 15/25\n",
      "23/23 [==============================] - 3s 113ms/step - loss: 0.0012 - val_loss: 0.0023\n",
      "Epoch 16/25\n",
      "23/23 [==============================] - 3s 114ms/step - loss: 0.0012 - val_loss: 0.0023\n",
      "Epoch 17/25\n",
      "23/23 [==============================] - 3s 114ms/step - loss: 0.0012 - val_loss: 0.0022\n",
      "Epoch 18/25\n",
      "23/23 [==============================] - 3s 114ms/step - loss: 0.0012 - val_loss: 0.0023\n",
      "Epoch 19/25\n",
      "23/23 [==============================] - 3s 117ms/step - loss: 0.0012 - val_loss: 0.0021\n",
      "Epoch 20/25\n",
      "23/23 [==============================] - 3s 115ms/step - loss: 0.0011 - val_loss: 0.0021\n",
      "Epoch 21/25\n",
      "23/23 [==============================] - 3s 115ms/step - loss: 0.0011 - val_loss: 0.0021\n",
      "Epoch 22/25\n",
      "23/23 [==============================] - 3s 113ms/step - loss: 0.0011 - val_loss: 0.0020\n",
      "Epoch 23/25\n",
      "23/23 [==============================] - 3s 116ms/step - loss: 0.0011 - val_loss: 0.0022\n",
      "Epoch 24/25\n",
      "23/23 [==============================] - 3s 116ms/step - loss: 0.0011 - val_loss: 0.0021\n",
      "Epoch 25/25\n",
      "23/23 [==============================] - 3s 114ms/step - loss: 0.0011 - val_loss: 0.0020\n",
      "Epoch 1/25\n",
      "23/23 [==============================] - 5s 143ms/step - loss: 0.0226 - val_loss: 0.0138\n",
      "Epoch 2/25\n",
      "23/23 [==============================] - 3s 111ms/step - loss: 0.0127 - val_loss: 0.0085\n",
      "Epoch 3/25\n",
      "23/23 [==============================] - 3s 111ms/step - loss: 0.0074 - val_loss: 0.0062\n",
      "Epoch 4/25\n",
      "23/23 [==============================] - 3s 114ms/step - loss: 0.0047 - val_loss: 0.0044\n",
      "Epoch 5/25\n",
      "23/23 [==============================] - 3s 109ms/step - loss: 0.0036 - val_loss: 0.0035\n",
      "Epoch 6/25\n",
      "23/23 [==============================] - 3s 113ms/step - loss: 0.0031 - val_loss: 0.0033\n",
      "Epoch 7/25\n",
      "23/23 [==============================] - 3s 113ms/step - loss: 0.0028 - val_loss: 0.0037\n",
      "Epoch 8/25\n",
      "23/23 [==============================] - 3s 113ms/step - loss: 0.0028 - val_loss: 0.0030\n",
      "Epoch 9/25\n",
      "23/23 [==============================] - 3s 115ms/step - loss: 0.0027 - val_loss: 0.0026\n",
      "Epoch 10/25\n",
      "23/23 [==============================] - 3s 114ms/step - loss: 0.0026 - val_loss: 0.0032\n",
      "Epoch 11/25\n",
      "23/23 [==============================] - 3s 115ms/step - loss: 0.0024 - val_loss: 0.0026\n",
      "Epoch 12/25\n",
      "23/23 [==============================] - 3s 117ms/step - loss: 0.0022 - val_loss: 0.0024\n",
      "Epoch 13/25\n",
      "23/23 [==============================] - 3s 117ms/step - loss: 0.0022 - val_loss: 0.0025\n",
      "Epoch 14/25\n",
      "23/23 [==============================] - 3s 115ms/step - loss: 0.0022 - val_loss: 0.0021\n",
      "Epoch 15/25\n",
      "23/23 [==============================] - 3s 117ms/step - loss: 0.0022 - val_loss: 0.0026\n",
      "Epoch 16/25\n",
      "23/23 [==============================] - 3s 115ms/step - loss: 0.0021 - val_loss: 0.0021\n",
      "Epoch 17/25\n",
      "23/23 [==============================] - 3s 117ms/step - loss: 0.0020 - val_loss: 0.0020\n",
      "Epoch 18/25\n",
      "23/23 [==============================] - 3s 116ms/step - loss: 0.0020 - val_loss: 0.0021\n",
      "Epoch 19/25\n",
      "23/23 [==============================] - 3s 116ms/step - loss: 0.0020 - val_loss: 0.0019\n",
      "Epoch 20/25\n",
      "23/23 [==============================] - 3s 117ms/step - loss: 0.0020 - val_loss: 0.0019\n",
      "Epoch 21/25\n",
      "23/23 [==============================] - 3s 117ms/step - loss: 0.0019 - val_loss: 0.0019\n",
      "Epoch 22/25\n",
      "23/23 [==============================] - 3s 118ms/step - loss: 0.0019 - val_loss: 0.0019\n",
      "Epoch 23/25\n",
      "23/23 [==============================] - 3s 113ms/step - loss: 0.0018 - val_loss: 0.0018\n",
      "Epoch 24/25\n",
      "23/23 [==============================] - 3s 113ms/step - loss: 0.0019 - val_loss: 0.0020\n",
      "Epoch 25/25\n",
      "23/23 [==============================] - 3s 116ms/step - loss: 0.0018 - val_loss: 0.0018\n",
      "Epoch 1/25\n",
      "23/23 [==============================] - 5s 122ms/step - loss: 0.0162 - val_loss: 0.0094\n",
      "Epoch 2/25\n",
      "23/23 [==============================] - 2s 108ms/step - loss: 0.0070 - val_loss: 0.0088\n",
      "Epoch 3/25\n",
      "23/23 [==============================] - 2s 109ms/step - loss: 0.0042 - val_loss: 0.0053\n",
      "Epoch 4/25\n",
      "23/23 [==============================] - 2s 109ms/step - loss: 0.0032 - val_loss: 0.0044\n",
      "Epoch 5/25\n",
      "23/23 [==============================] - 3s 115ms/step - loss: 0.0027 - val_loss: 0.0037\n",
      "Epoch 6/25\n",
      "23/23 [==============================] - 3s 119ms/step - loss: 0.0025 - val_loss: 0.0036\n",
      "Epoch 7/25\n",
      "23/23 [==============================] - 3s 117ms/step - loss: 0.0023 - val_loss: 0.0032\n",
      "Epoch 8/25\n",
      "23/23 [==============================] - 3s 118ms/step - loss: 0.0023 - val_loss: 0.0032\n",
      "Epoch 9/25\n",
      "23/23 [==============================] - 3s 117ms/step - loss: 0.0021 - val_loss: 0.0028\n",
      "Epoch 10/25\n",
      "23/23 [==============================] - 3s 119ms/step - loss: 0.0020 - val_loss: 0.0026\n",
      "Epoch 11/25\n",
      "23/23 [==============================] - 3s 118ms/step - loss: 0.0019 - val_loss: 0.0026\n",
      "Epoch 12/25\n",
      "23/23 [==============================] - 3s 115ms/step - loss: 0.0018 - val_loss: 0.0024\n",
      "Epoch 13/25\n",
      "23/23 [==============================] - 3s 112ms/step - loss: 0.0018 - val_loss: 0.0031\n",
      "Epoch 14/25\n",
      "23/23 [==============================] - 3s 112ms/step - loss: 0.0018 - val_loss: 0.0022\n",
      "Epoch 15/25\n",
      "23/23 [==============================] - 3s 111ms/step - loss: 0.0017 - val_loss: 0.0022\n",
      "Epoch 16/25\n",
      "23/23 [==============================] - 3s 114ms/step - loss: 0.0016 - val_loss: 0.0024\n",
      "Epoch 17/25\n",
      "23/23 [==============================] - 3s 113ms/step - loss: 0.0016 - val_loss: 0.0024\n",
      "Epoch 18/25\n",
      "23/23 [==============================] - 3s 114ms/step - loss: 0.0016 - val_loss: 0.0021\n",
      "Epoch 19/25\n",
      "23/23 [==============================] - 3s 116ms/step - loss: 0.0016 - val_loss: 0.0028\n",
      "Epoch 20/25\n",
      "23/23 [==============================] - 3s 113ms/step - loss: 0.0017 - val_loss: 0.0023\n",
      "Epoch 21/25\n",
      "23/23 [==============================] - 3s 117ms/step - loss: 0.0015 - val_loss: 0.0020\n",
      "Epoch 22/25\n",
      "23/23 [==============================] - 3s 113ms/step - loss: 0.0015 - val_loss: 0.0020\n",
      "Epoch 23/25\n",
      "23/23 [==============================] - 3s 111ms/step - loss: 0.0014 - val_loss: 0.0022\n",
      "Epoch 24/25\n",
      "23/23 [==============================] - 3s 115ms/step - loss: 0.0015 - val_loss: 0.0020\n",
      "Epoch 25/25\n",
      "23/23 [==============================] - 3s 115ms/step - loss: 0.0014 - val_loss: 0.0020\n",
      "Epoch 1/25\n",
      "35/35 [==============================] - 6s 125ms/step - loss: 0.0121 - val_loss: 0.0078\n",
      "Epoch 2/25\n",
      "35/35 [==============================] - 4s 117ms/step - loss: 0.0044 - val_loss: 0.0054\n",
      "Epoch 3/25\n",
      "35/35 [==============================] - 4s 117ms/step - loss: 0.0031 - val_loss: 0.0038\n",
      "Epoch 4/25\n",
      "35/35 [==============================] - 4s 117ms/step - loss: 0.0026 - val_loss: 0.0036\n",
      "Epoch 5/25\n",
      "35/35 [==============================] - 4s 119ms/step - loss: 0.0022 - val_loss: 0.0027\n",
      "Epoch 6/25\n",
      "35/35 [==============================] - 4s 123ms/step - loss: 0.0021 - val_loss: 0.0026\n",
      "Epoch 7/25\n",
      "35/35 [==============================] - 4s 121ms/step - loss: 0.0020 - val_loss: 0.0029\n",
      "Epoch 8/25\n",
      "35/35 [==============================] - 4s 124ms/step - loss: 0.0018 - val_loss: 0.0025\n",
      "Epoch 9/25\n",
      "35/35 [==============================] - 4s 123ms/step - loss: 0.0018 - val_loss: 0.0021\n",
      "Epoch 10/25\n",
      "35/35 [==============================] - 4s 122ms/step - loss: 0.0017 - val_loss: 0.0021\n",
      "Epoch 11/25\n",
      "35/35 [==============================] - 4s 124ms/step - loss: 0.0016 - val_loss: 0.0021\n",
      "Epoch 12/25\n",
      "35/35 [==============================] - 4s 121ms/step - loss: 0.0017 - val_loss: 0.0020\n",
      "Epoch 13/25\n",
      "35/35 [==============================] - 4s 123ms/step - loss: 0.0016 - val_loss: 0.0020\n",
      "Epoch 14/25\n",
      "35/35 [==============================] - 4s 125ms/step - loss: 0.0016 - val_loss: 0.0019\n",
      "Epoch 15/25\n",
      "35/35 [==============================] - 4s 121ms/step - loss: 0.0015 - val_loss: 0.0022\n",
      "Epoch 16/25\n",
      "35/35 [==============================] - 4s 121ms/step - loss: 0.0015 - val_loss: 0.0019\n",
      "Epoch 17/25\n",
      "35/35 [==============================] - 4s 120ms/step - loss: 0.0015 - val_loss: 0.0020\n",
      "Epoch 18/25\n",
      "35/35 [==============================] - 4s 122ms/step - loss: 0.0015 - val_loss: 0.0018\n",
      "Epoch 19/25\n",
      "35/35 [==============================] - 4s 118ms/step - loss: 0.0015 - val_loss: 0.0019\n",
      "Epoch 20/25\n",
      "35/35 [==============================] - 4s 117ms/step - loss: 0.0014 - val_loss: 0.0021\n",
      "Epoch 21/25\n",
      "35/35 [==============================] - 4s 120ms/step - loss: 0.0015 - val_loss: 0.0019\n",
      "Epoch 22/25\n",
      "35/35 [==============================] - 4s 122ms/step - loss: 0.0014 - val_loss: 0.0018\n",
      "Epoch 23/25\n",
      "35/35 [==============================] - 4s 126ms/step - loss: 0.0014 - val_loss: 0.0018\n",
      "Epoch 24/25\n",
      "35/35 [==============================] - 4s 124ms/step - loss: 0.0014 - val_loss: 0.0020\n",
      "Epoch 25/25\n",
      "35/35 [==============================] - 4s 125ms/step - loss: 0.0014 - val_loss: 0.0017\n",
      "Best: -0.002004 using {'units': 32, 'optimizer': 'adam', 'epochs': 25, 'dropout_rate': 0.3, 'batch_size': 128, 'activation': 'softmax'}\n",
      "Best model found: GRU\n",
      "Best score: -0.0020038697169049006\n"
     ]
    }
   ],
   "source": [
    "best_score = float('-inf')\n",
    "best_model = None\n",
    "best_grid_result = None\n",
    "history = {}\n",
    "best_models = {}\n",
    "\n",
    "for idx, create_model_fn in enumerate(model_fns):\n",
    "\n",
    "    model = KerasRegressor(build_fn=create_model_fn, verbose=0)\n",
    "\n",
    "    grid = RandomizedSearchCV(estimator=model, param_distributions=param_grid,\n",
    "                              scoring='neg_mean_squared_error', cv=3, n_iter=3,\n",
    "                              random_state=1234)\n",
    "\n",
    "    grid_result = grid.fit(X_train, y_train, verbose=1, validation_data=(X_test, y_test))\n",
    "    print(\"Best: %f using %s\" % (grid_result.best_score_, grid_result.best_params_))\n",
    "\n",
    "    history[model_names[idx]] = grid_result.best_estimator_.model.history.history\n",
    "    best_models[model_names[idx]] = grid_result.best_estimator_.model\n",
    "\n",
    "    if grid_result.best_score_ > best_score:\n",
    "        best_score = grid_result.best_score_\n",
    "        best_model = grid_result.best_estimator_.model\n",
    "        best_grid_result = grid_result\n",
    "\n",
    "print(\"Best model found:\", best_model.name)\n",
    "print(\"Best score:\", best_score)"
   ],
   "metadata": {
    "collapsed": false,
    "ExecuteTime": {
     "end_time": "2024-01-16T11:12:19.203751Z",
     "start_time": "2024-01-16T10:37:08.645990Z"
    }
   },
   "id": "117c6d360a92e16c",
   "execution_count": 268
  },
  {
   "cell_type": "markdown",
   "source": [
    "# Vizualizacija rezultatov in ovrednotenje modelov"
   ],
   "metadata": {
    "collapsed": false
   },
   "id": "4d41cb36e6fc929b"
  },
  {
   "cell_type": "code",
   "outputs": [],
   "source": [
    "def plot_history(history):\n",
    "    plt.figure(figsize=(12, 8))\n",
    "    for name, values in history.items():\n",
    "        plt.plot(values['loss'], label=name)\n",
    "    plt.xlabel('Epochs')\n",
    "    plt.ylabel('Loss')\n",
    "    plt.title('Loss vs Epochs')\n",
    "    plt.legend()\n",
    "    plt.show()"
   ],
   "metadata": {
    "collapsed": false,
    "ExecuteTime": {
     "end_time": "2024-01-16T11:12:19.207630Z",
     "start_time": "2024-01-16T11:12:19.202212Z"
    }
   },
   "id": "67c127d397fd9e8",
   "execution_count": 269
  },
  {
   "cell_type": "code",
   "outputs": [
    {
     "data": {
      "text/plain": "<Figure size 1200x800 with 1 Axes>",
      "image/png": "[encoded data removed]"
     },
     "metadata": {},
     "output_type": "display_data"
    }
   ],
   "source": [
    "plot_history(history)"
   ],
   "metadata": {
    "collapsed": false,
    "ExecuteTime": {
     "end_time": "2024-01-16T11:12:19.303903Z",
     "start_time": "2024-01-16T11:12:19.205756Z"
    }
   },
   "id": "af47261ae73f2058",
   "execution_count": 270
  },
  {
   "cell_type": "code",
   "outputs": [],
   "source": [
    "y_test_copies = np.repeat(y_test, dataset.shape[1], axis=-1)\n",
    "y_test = scaler.inverse_transform(np.reshape(y_test_copies, (len(y_test), dataset.shape[1])))[:, 0]"
   ],
   "metadata": {
    "collapsed": false,
    "ExecuteTime": {
     "end_time": "2024-01-16T11:12:19.308437Z",
     "start_time": "2024-01-16T11:12:19.304172Z"
    }
   },
   "id": "b61755298ebe86fe",
   "execution_count": 271
  },
  {
   "cell_type": "code",
   "outputs": [
    {
     "name": "stdout",
     "output_type": "stream",
     "text": [
      "34/34 [==============================] - 0s 4ms/step\n",
      "GRU - MSE: 39.62\n",
      "GRU - MAE: 4.39\n",
      "GRU - EVS: 0.88\n",
      "--------------------\n",
      "34/34 [==============================] - 1s 9ms/step\n",
      "GRU - MSE: 36.87\n",
      "GRU - MAE: 4.01\n",
      "GRU - EVS: 0.88\n",
      "--------------------\n"
     ]
    }
   ],
   "source": [
    "results = {\n",
    "    'MAE': [],\n",
    "    'MSE': [],\n",
    "    'EVS': []\n",
    "}\n",
    "\n",
    "for model in best_models.values():\n",
    "    predicted = model.predict(X_test)\n",
    "\n",
    "    prediction_copies = np.repeat(predicted, dataset.shape[1], axis=-1)\n",
    "    predicted = scaler.inverse_transform(np.reshape(prediction_copies, (len(predicted), dataset.shape[1])))[:, 0]\n",
    "\n",
    "    mse = mean_squared_error(y_test, predicted)\n",
    "    mae = mean_absolute_error(y_test, predicted)\n",
    "    evs = explained_variance_score(y_test, predicted)\n",
    "\n",
    "    results['MSE'].append((model.name, mse))\n",
    "    results['MAE'].append((model.name, mae))\n",
    "    results['EVS'].append((model.name, evs))\n",
    "\n",
    "    print(f'{model.name} - MSE: {mse:.2f}')\n",
    "    print(f'{model.name} - MAE: {mae:.2f}')\n",
    "    print(f'{model.name} - EVS: {evs:.2f}')\n",
    "    print(\"-\" * 20)"
   ],
   "metadata": {
    "collapsed": false,
    "ExecuteTime": {
     "end_time": "2024-01-16T11:12:20.429588Z",
     "start_time": "2024-01-16T11:12:19.308630Z"
    }
   },
   "id": "e401d7dcc3300a86",
   "execution_count": 272
  },
  {
   "cell_type": "code",
   "outputs": [
    {
     "data": {
      "text/plain": "<Figure size 1200x400 with 3 Axes>",
      "image/png": "[encoded data removed]"
     },
     "metadata": {},
     "output_type": "display_data"
    }
   ],
   "source": [
    "metrics = ['MSE', 'MAE', 'EVS']\n",
    "\n",
    "width = 0.8\n",
    "cols = len(metrics)\n",
    "\n",
    "fig, axs = plt.subplots(1, cols, figsize=(12, 4))\n",
    "\n",
    "for i, metric in enumerate(metrics):\n",
    "    ax = axs[i]\n",
    "    max = -float('inf')\n",
    "\n",
    "    for j, model in enumerate(model_names):\n",
    "        value = results[metric][j][1]\n",
    "        if value > max:\n",
    "            max = value\n",
    "        ax.bar(j, value, width, label=model)\n",
    "        ax.text(j, value, str(round(value, 3)), ha='center', va='bottom')\n",
    "\n",
    "    ax.set_ylim([0, max * 1.09])\n",
    "    ax.set_title(f'{metric}')\n",
    "    ax.set_xticks([], [])\n",
    "    ax.legend(loc='upper center', bbox_to_anchor=(0.5, -0.15), ncol=3)\n",
    "\n",
    "plt.show()"
   ],
   "metadata": {
    "collapsed": false,
    "ExecuteTime": {
     "end_time": "2024-01-16T11:12:20.553270Z",
     "start_time": "2024-01-16T11:12:20.432183Z"
    }
   },
   "id": "8569a4d0fe06582",
   "execution_count": 273
  },
  {
   "cell_type": "code",
   "outputs": [],
   "source": [
    "#model = build_conv_lstm()"
   ],
   "metadata": {
    "collapsed": false,
    "ExecuteTime": {
     "end_time": "2024-01-16T11:12:20.559297Z",
     "start_time": "2024-01-16T11:12:20.552270Z"
    }
   },
   "id": "4c58be416cc1778f",
   "execution_count": 274
  },
  {
   "cell_type": "code",
   "outputs": [],
   "source": [
    "# history = model.fit(X_train, y_train, epochs=epochs, batch_size=batch_size, validation_data=(X_test, y_test), verbose=1,\n",
    "#                     shuffle=False)"
   ],
   "metadata": {
    "collapsed": false,
    "ExecuteTime": {
     "end_time": "2024-01-16T11:12:20.561032Z",
     "start_time": "2024-01-16T11:12:20.555078Z"
    }
   },
   "id": "5f116e4383909375",
   "execution_count": 275
  },
  {
   "cell_type": "code",
   "outputs": [
    {
     "name": "stdout",
     "output_type": "stream",
     "text": [
      "34/34 [==============================] - 0s 9ms/step\n"
     ]
    }
   ],
   "source": [
    "prediction = best_model.predict(X_test)"
   ],
   "metadata": {
    "collapsed": false,
    "ExecuteTime": {
     "end_time": "2024-01-16T11:12:20.904818Z",
     "start_time": "2024-01-16T11:12:20.559177Z"
    }
   },
   "id": "ff3c913bf1c5f82a",
   "execution_count": 276
  },
  {
   "cell_type": "code",
   "outputs": [
    {
     "data": {
      "text/plain": "(1064, 1)"
     },
     "execution_count": 277,
     "metadata": {},
     "output_type": "execute_result"
    }
   ],
   "source": [
    "prediction.shape"
   ],
   "metadata": {
    "collapsed": false,
    "ExecuteTime": {
     "end_time": "2024-01-16T11:12:20.910409Z",
     "start_time": "2024-01-16T11:12:20.904869Z"
    }
   },
   "id": "b59c7e4613b91b4",
   "execution_count": 277
  },
  {
   "cell_type": "code",
   "outputs": [
    {
     "data": {
      "text/plain": "(1064,)"
     },
     "execution_count": 278,
     "metadata": {},
     "output_type": "execute_result"
    }
   ],
   "source": [
    "y_test.shape"
   ],
   "metadata": {
    "collapsed": false,
    "ExecuteTime": {
     "end_time": "2024-01-16T11:12:20.912119Z",
     "start_time": "2024-01-16T11:12:20.907566Z"
    }
   },
   "id": "86d42e7b0f69ed47",
   "execution_count": 278
  },
  {
   "cell_type": "code",
   "outputs": [],
   "source": [
    "prediction_copies_array = np.repeat(prediction, dataset.shape[1], axis=-1)"
   ],
   "metadata": {
    "collapsed": false,
    "ExecuteTime": {
     "end_time": "2024-01-16T11:12:20.920421Z",
     "start_time": "2024-01-16T11:12:20.910221Z"
    }
   },
   "id": "393128b352d3485",
   "execution_count": 279
  },
  {
   "cell_type": "code",
   "outputs": [
    {
     "data": {
      "text/plain": "(1064, 4)"
     },
     "execution_count": 280,
     "metadata": {},
     "output_type": "execute_result"
    }
   ],
   "source": [
    "prediction_copies_array.shape"
   ],
   "metadata": {
    "collapsed": false,
    "ExecuteTime": {
     "end_time": "2024-01-16T11:12:20.925610Z",
     "start_time": "2024-01-16T11:12:20.912119Z"
    }
   },
   "id": "ef2e0b7e23345bdc",
   "execution_count": 280
  },
  {
   "cell_type": "code",
   "outputs": [],
   "source": [
    "pred = scaler.inverse_transform(np.reshape(prediction_copies_array, (len(prediction), dataset.shape[1])))[:, 0]"
   ],
   "metadata": {
    "collapsed": false,
    "ExecuteTime": {
     "end_time": "2024-01-16T11:12:20.927226Z",
     "start_time": "2024-01-16T11:12:20.914783Z"
    }
   },
   "id": "ba21fbfa66a461f2",
   "execution_count": 281
  },
  {
   "cell_type": "code",
   "outputs": [
    {
     "data": {
      "text/plain": "(1064,)"
     },
     "execution_count": 282,
     "metadata": {},
     "output_type": "execute_result"
    }
   ],
   "source": [
    "pred.shape"
   ],
   "metadata": {
    "collapsed": false,
    "ExecuteTime": {
     "end_time": "2024-01-16T11:12:20.928835Z",
     "start_time": "2024-01-16T11:12:20.917404Z"
    }
   },
   "id": "5b92211ada33406",
   "execution_count": 282
  },
  {
   "cell_type": "code",
   "outputs": [
    {
     "data": {
      "text/plain": "array([ 3.8253903,  4.1286182,  4.2188153, ..., 40.422752 , 42.185097 ,\n       37.320786 ], dtype=float32)"
     },
     "execution_count": 283,
     "metadata": {},
     "output_type": "execute_result"
    }
   ],
   "source": [
    "pred"
   ],
   "metadata": {
    "collapsed": false,
    "ExecuteTime": {
     "end_time": "2024-01-16T11:12:20.935839Z",
     "start_time": "2024-01-16T11:12:20.920580Z"
    }
   },
   "id": "620b4b2882e83d01",
   "execution_count": 283
  },
  {
   "cell_type": "code",
   "outputs": [],
   "source": [
    "# mse,mea, evs\n",
    "# mse = mean_squared_error(y_test, prediction)\n",
    "# mae = mean_absolute_error(y_test, prediction)\n",
    "# evs = explained_variance_score(y_test, prediction)\n",
    "# \n",
    "# print(f\"Mean Squared Error: {mse}\")\n",
    "# print(f\"Mean Absolute Error: {mae}\")\n",
    "# print(f\"Explained Variance Score: {evs}\")"
   ],
   "metadata": {
    "collapsed": false,
    "ExecuteTime": {
     "end_time": "2024-01-16T11:12:20.937557Z",
     "start_time": "2024-01-16T11:12:20.922952Z"
    }
   },
   "id": "ac4ebbd928ea0c90",
   "execution_count": 284
  },
  {
   "cell_type": "code",
   "outputs": [],
   "source": [
    "dates = df['Date'].values"
   ],
   "metadata": {
    "collapsed": false,
    "ExecuteTime": {
     "end_time": "2024-01-16T11:12:20.968355Z",
     "start_time": "2024-01-16T11:12:20.925144Z"
    }
   },
   "id": "c87c7e8810218d7a",
   "execution_count": 285
  },
  {
   "cell_type": "code",
   "outputs": [
    {
     "data": {
      "text/plain": "                  Date  Actual  Predicted\n0  2023-10-27 15:35:00     3.0   3.825390\n1  2023-10-27 16:35:00     4.0   4.128618\n2  2023-10-27 17:35:00     4.0   4.218815\n3  2023-10-27 18:35:00     8.0   5.413738\n4  2023-10-27 19:35:00    12.0   9.176561\n..                 ...     ...        ...\n95 2023-10-31 14:35:00     4.0   2.612161\n96 2023-10-31 15:35:00     4.0   3.009335\n97 2023-10-31 16:35:00     2.0   3.838159\n98 2023-10-31 17:35:00     3.0   3.624589\n99 2023-10-31 18:35:00     2.0   3.236698\n\n[100 rows x 3 columns]",
      "text/html": "<div>\n<style scoped>\n    .dataframe tbody tr th:only-of-type {\n        vertical-align: middle;\n    }\n\n    .dataframe tbody tr th {\n        vertical-align: top;\n    }\n\n    .dataframe thead th {\n        text-align: right;\n    }\n</style>\n<table border=\"1\" class=\"dataframe\">\n  <thead>\n    <tr style=\"text-align: right;\">\n      <th></th>\n      <th>Date</th>\n      <th>Actual</th>\n      <th>Predicted</th>\n    </tr>\n  </thead>\n  <tbody>\n    <tr>\n      <th>0</th>\n      <td>2023-10-27 15:35:00</td>\n      <td>3.0</td>\n      <td>3.825390</td>\n    </tr>\n    <tr>\n      <th>1</th>\n      <td>2023-10-27 16:35:00</td>\n      <td>4.0</td>\n      <td>4.128618</td>\n    </tr>\n    <tr>\n      <th>2</th>\n      <td>2023-10-27 17:35:00</td>\n      <td>4.0</td>\n      <td>4.218815</td>\n    </tr>\n    <tr>\n      <th>3</th>\n      <td>2023-10-27 18:35:00</td>\n      <td>8.0</td>\n      <td>5.413738</td>\n    </tr>\n    <tr>\n      <th>4</th>\n      <td>2023-10-27 19:35:00</td>\n      <td>12.0</td>\n      <td>9.176561</td>\n    </tr>\n    <tr>\n      <th>...</th>\n      <td>...</td>\n      <td>...</td>\n      <td>...</td>\n    </tr>\n    <tr>\n      <th>95</th>\n      <td>2023-10-31 14:35:00</td>\n      <td>4.0</td>\n      <td>2.612161</td>\n    </tr>\n    <tr>\n      <th>96</th>\n      <td>2023-10-31 15:35:00</td>\n      <td>4.0</td>\n      <td>3.009335</td>\n    </tr>\n    <tr>\n      <th>97</th>\n      <td>2023-10-31 16:35:00</td>\n      <td>2.0</td>\n      <td>3.838159</td>\n    </tr>\n    <tr>\n      <th>98</th>\n      <td>2023-10-31 17:35:00</td>\n      <td>3.0</td>\n      <td>3.624589</td>\n    </tr>\n    <tr>\n      <th>99</th>\n      <td>2023-10-31 18:35:00</td>\n      <td>2.0</td>\n      <td>3.236698</td>\n    </tr>\n  </tbody>\n</table>\n<p>100 rows × 3 columns</p>\n</div>"
     },
     "execution_count": 286,
     "metadata": {},
     "output_type": "execute_result"
    }
   ],
   "source": [
    "df_output = pd.DataFrame({\"Date\":\n",
    "                              dates[-test_split + n_past:], 'Actual': y_test, 'Predicted': pred})\n",
    "df_output.head(100)"
   ],
   "metadata": {
    "collapsed": false,
    "ExecuteTime": {
     "end_time": "2024-01-16T11:12:20.984232Z",
     "start_time": "2024-01-16T11:12:20.927843Z"
    }
   },
   "id": "6ef3f47bd4f1ecd6",
   "execution_count": 286
  },
  {
   "cell_type": "code",
   "outputs": [],
   "source": [
    "def plot_results():\n",
    "    plt.figure(figsize=(12, 8))\n",
    "    plt.plot(df_output['Date'], df_output[\"Actual\"], label='Actual')\n",
    "    plt.plot(df_output['Date'], df_output['Predicted'], label='Predicted')\n",
    "    plt.xlabel('Time')\n",
    "    plt.ylabel('PM10')\n",
    "    plt.title('PM10 vs Time')\n",
    "    plt.legend()\n",
    "    plt.show()"
   ],
   "metadata": {
    "collapsed": false,
    "ExecuteTime": {
     "end_time": "2024-01-16T11:12:20.995159Z",
     "start_time": "2024-01-16T11:12:20.933794Z"
    }
   },
   "id": "6ad50d37525306c9",
   "execution_count": 287
  },
  {
   "cell_type": "code",
   "outputs": [
    {
     "data": {
      "text/plain": "<Figure size 1200x800 with 1 Axes>",
      "image/png": "[encoded data removed]"
     },
     "metadata": {},
     "output_type": "display_data"
    }
   ],
   "source": [
    "plot_results()"
   ],
   "metadata": {
    "collapsed": false,
    "ExecuteTime": {
     "end_time": "2024-01-16T11:12:21.599220Z",
     "start_time": "2024-01-16T11:12:20.936771Z"
    }
   },
   "id": "492e59cb944c87f2",
   "execution_count": 288
  },
  {
   "cell_type": "markdown",
   "source": [
    "# Shranjevanje modela in normalizacijskega faktorja"
   ],
   "metadata": {
    "collapsed": false
   },
   "id": "ac604ce0722e1569"
  },
  {
   "cell_type": "code",
   "outputs": [
    {
     "name": "stdout",
     "output_type": "stream",
     "text": [
      "Mean Squared Error: 36.87\n"
     ]
    }
   ],
   "source": [
    "mse = mean_squared_error(y_test, pred)\n",
    "mse = format(mse, \".2f\")\n",
    "print(f\"Mean Squared Error: {mse}\")"
   ],
   "metadata": {
    "collapsed": false,
    "ExecuteTime": {
     "end_time": "2024-01-16T11:12:21.601273Z",
     "start_time": "2024-01-16T11:12:21.595032Z"
    }
   },
   "id": "f492ad3d4045deec",
   "execution_count": 289
  },
  {
   "cell_type": "code",
   "outputs": [],
   "source": [
    "model_name = best_model.name"
   ],
   "metadata": {
    "collapsed": false,
    "ExecuteTime": {
     "end_time": "2024-01-16T11:12:21.602929Z",
     "start_time": "2024-01-16T11:12:21.597376Z"
    }
   },
   "id": "500a680b37a15fee",
   "execution_count": 290
  },
  {
   "cell_type": "code",
   "outputs": [],
   "source": [
    "selected_features = ['PM10'] + top_features\n",
    "num_of_features = len(selected_features)"
   ],
   "metadata": {
    "collapsed": false,
    "ExecuteTime": {
     "end_time": "2024-01-16T11:12:21.608061Z",
     "start_time": "2024-01-16T11:12:21.599726Z"
    }
   },
   "id": "7c06201ff4bbfd03",
   "execution_count": 291
  },
  {
   "cell_type": "code",
   "outputs": [],
   "source": [
    "best_model.save(f'out/model_{model_name}_features_{num_of_features}_mse_{mse}.h5')"
   ],
   "metadata": {
    "collapsed": false,
    "ExecuteTime": {
     "end_time": "2024-01-16T11:12:21.708737Z",
     "start_time": "2024-01-16T11:12:21.602003Z"
    }
   },
   "id": "f626aa211194cae8",
   "execution_count": 292
  },
  {
   "cell_type": "code",
   "outputs": [],
   "source": [
    "with open(f'out/scaler_model_{model_name}_features_{num_of_features}_mse_{mse}.pkl', 'wb') as f:\n",
    "    pickle.dump(scaler, f)"
   ],
   "metadata": {
    "collapsed": false,
    "ExecuteTime": {
     "end_time": "2024-01-16T11:12:21.710481Z",
     "start_time": "2024-01-16T11:12:21.622677Z"
    }
   },
   "id": "ecbf5dcbb9705c43",
   "execution_count": 293
  },
  {
   "cell_type": "markdown",
   "source": [
    "# Izvoz podatkov za API"
   ],
   "metadata": {
    "collapsed": false
   },
   "id": "883bfbc9bff68ffe"
  },
  {
   "cell_type": "code",
   "outputs": [],
   "source": [
    "dataset.to_json('out/data.json', orient='records')"
   ],
   "metadata": {
    "collapsed": false,
    "ExecuteTime": {
     "end_time": "2024-01-16T11:12:21.712087Z",
     "start_time": "2024-01-16T11:12:21.628223Z"
    }
   },
   "id": "70772feafbdbcb36",
   "execution_count": 294
  }
 ],
 "metadata": {
  "kernelspec": {
   "display_name": "Python 3",
   "language": "python",
   "name": "python3"
  },
  "language_info": {
   "codemirror_mode": {
    "name": "ipython",
    "version": 2
   },
   "file_extension": ".py",
   "mimetype": "text/x-python",
   "name": "python",
   "nbconvert_exporter": "python",
   "pygments_lexer": "ipython2",
   "version": "2.7.6"
  }
 },
 "nbformat": 4,
 "nbformat_minor": 5
}
