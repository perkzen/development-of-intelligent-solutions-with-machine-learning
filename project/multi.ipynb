{
 "cells": [
  {
   "cell_type": "code",
   "execution_count": 945,
   "id": "initial_id",
   "metadata": {
    "collapsed": true,
    "ExecuteTime": {
     "end_time": "2024-01-08T14:27:29.502039Z",
     "start_time": "2024-01-08T14:27:29.423979Z"
    }
   },
   "outputs": [],
   "source": [
    "import pandas as pd\n",
    "import numpy as np\n",
    "import seaborn as sns\n",
    "from scipy.stats import boxcox, yeojohnson\n",
    "from matplotlib import pyplot as plt\n",
    "from sklearn.ensemble import HistGradientBoostingRegressor\n",
    "from sklearn.feature_selection import mutual_info_regression\n",
    "from sklearn.metrics import mean_absolute_error, mean_squared_error, explained_variance_score\n",
    "from sklearn.preprocessing import MinMaxScaler, StandardScaler\n",
    "from sklearn.model_selection import RandomizedSearchCV\n",
    "from keras.models import Sequential\n",
    "from keras.layers import Dense, LSTM, SimpleRNN, GRU, Dropout\n",
    "from keras.wrappers.scikit_learn import KerasRegressor"
   ]
  },
  {
   "cell_type": "code",
   "outputs": [],
   "source": [
    "df = pd.read_csv('data/processed_dataset.csv')"
   ],
   "metadata": {
    "collapsed": false,
    "ExecuteTime": {
     "end_time": "2024-01-08T14:27:29.537587Z",
     "start_time": "2024-01-08T14:27:29.436598Z"
    }
   },
   "id": "a0490bf79c3d6def",
   "execution_count": 946
  },
  {
   "cell_type": "code",
   "outputs": [
    {
     "data": {
      "text/plain": "                        Date   Latitude  Longitude  Altitude       NO2  \\\n0  2023-02-15 19:35:00+00:00  46.234818  15.267305     240.0  4.248495   \n1  2023-02-15 20:15:00+00:00  46.234818  15.267305     240.0  4.025352   \n2  2023-02-15 20:35:00+00:00  46.234818  15.267305     240.0  4.025352   \n3  2023-02-15 21:15:00+00:00  46.234818  15.267305     240.0  3.871201   \n4  2023-02-15 21:35:00+00:00  46.234818  15.267305     240.0  3.871201   \n\n      PM2.5        O3      PM10  temperature_2m (°C)  \\\n0  4.262680  0.857538  4.499810                  0.5   \n1  4.330733  2.000000  4.454347                  0.1   \n2  4.330733  2.000000  4.454347                  0.1   \n3  4.290459  2.000000  4.356709                 -1.1   \n4  4.290459  2.000000  4.356709                 -1.1   \n\n   relative_humidity_2m (%)  ...  soil_temperature_0_to_7cm (°C)  \\\n0                      91.0  ...                        0.384574   \n1                      92.0  ...                        0.195874   \n2                      92.0  ...                        0.195874   \n3                      93.0  ...                        0.098930   \n4                      93.0  ...                        0.098930   \n\n   soil_moisture_0_to_7cm (m³/m³)  is_day ()  PM2.5/N02  PM2.5/03  Weekend  \\\n0                       -1.055553        0.0   0.014185  4.416369        0   \n1                       -1.055553        0.0   0.305382  3.637586        0   \n2                       -1.055553        0.0   0.305382  3.637586        0   \n3                       -1.055553        0.0   0.419258  3.597312        0   \n4                       -1.055553        0.0   0.419258  3.597312        0   \n\n   Season_Autumn  Season_Spring  Season_Summer  Season_Winter  \n0          False          False          False           True  \n1          False          False          False           True  \n2          False          False          False           True  \n3          False          False          False           True  \n4          False          False          False           True  \n\n[5 rows x 29 columns]",
      "text/html": "<div>\n<style scoped>\n    .dataframe tbody tr th:only-of-type {\n        vertical-align: middle;\n    }\n\n    .dataframe tbody tr th {\n        vertical-align: top;\n    }\n\n    .dataframe thead th {\n        text-align: right;\n    }\n</style>\n<table border=\"1\" class=\"dataframe\">\n  <thead>\n    <tr style=\"text-align: right;\">\n      <th></th>\n      <th>Date</th>\n      <th>Latitude</th>\n      <th>Longitude</th>\n      <th>Altitude</th>\n      <th>NO2</th>\n      <th>PM2.5</th>\n      <th>O3</th>\n      <th>PM10</th>\n      <th>temperature_2m (°C)</th>\n      <th>relative_humidity_2m (%)</th>\n      <th>...</th>\n      <th>soil_temperature_0_to_7cm (°C)</th>\n      <th>soil_moisture_0_to_7cm (m³/m³)</th>\n      <th>is_day ()</th>\n      <th>PM2.5/N02</th>\n      <th>PM2.5/03</th>\n      <th>Weekend</th>\n      <th>Season_Autumn</th>\n      <th>Season_Spring</th>\n      <th>Season_Summer</th>\n      <th>Season_Winter</th>\n    </tr>\n  </thead>\n  <tbody>\n    <tr>\n      <th>0</th>\n      <td>2023-02-15 19:35:00+00:00</td>\n      <td>46.234818</td>\n      <td>15.267305</td>\n      <td>240.0</td>\n      <td>4.248495</td>\n      <td>4.262680</td>\n      <td>0.857538</td>\n      <td>4.499810</td>\n      <td>0.5</td>\n      <td>91.0</td>\n      <td>...</td>\n      <td>0.384574</td>\n      <td>-1.055553</td>\n      <td>0.0</td>\n      <td>0.014185</td>\n      <td>4.416369</td>\n      <td>0</td>\n      <td>False</td>\n      <td>False</td>\n      <td>False</td>\n      <td>True</td>\n    </tr>\n    <tr>\n      <th>1</th>\n      <td>2023-02-15 20:15:00+00:00</td>\n      <td>46.234818</td>\n      <td>15.267305</td>\n      <td>240.0</td>\n      <td>4.025352</td>\n      <td>4.330733</td>\n      <td>2.000000</td>\n      <td>4.454347</td>\n      <td>0.1</td>\n      <td>92.0</td>\n      <td>...</td>\n      <td>0.195874</td>\n      <td>-1.055553</td>\n      <td>0.0</td>\n      <td>0.305382</td>\n      <td>3.637586</td>\n      <td>0</td>\n      <td>False</td>\n      <td>False</td>\n      <td>False</td>\n      <td>True</td>\n    </tr>\n    <tr>\n      <th>2</th>\n      <td>2023-02-15 20:35:00+00:00</td>\n      <td>46.234818</td>\n      <td>15.267305</td>\n      <td>240.0</td>\n      <td>4.025352</td>\n      <td>4.330733</td>\n      <td>2.000000</td>\n      <td>4.454347</td>\n      <td>0.1</td>\n      <td>92.0</td>\n      <td>...</td>\n      <td>0.195874</td>\n      <td>-1.055553</td>\n      <td>0.0</td>\n      <td>0.305382</td>\n      <td>3.637586</td>\n      <td>0</td>\n      <td>False</td>\n      <td>False</td>\n      <td>False</td>\n      <td>True</td>\n    </tr>\n    <tr>\n      <th>3</th>\n      <td>2023-02-15 21:15:00+00:00</td>\n      <td>46.234818</td>\n      <td>15.267305</td>\n      <td>240.0</td>\n      <td>3.871201</td>\n      <td>4.290459</td>\n      <td>2.000000</td>\n      <td>4.356709</td>\n      <td>-1.1</td>\n      <td>93.0</td>\n      <td>...</td>\n      <td>0.098930</td>\n      <td>-1.055553</td>\n      <td>0.0</td>\n      <td>0.419258</td>\n      <td>3.597312</td>\n      <td>0</td>\n      <td>False</td>\n      <td>False</td>\n      <td>False</td>\n      <td>True</td>\n    </tr>\n    <tr>\n      <th>4</th>\n      <td>2023-02-15 21:35:00+00:00</td>\n      <td>46.234818</td>\n      <td>15.267305</td>\n      <td>240.0</td>\n      <td>3.871201</td>\n      <td>4.290459</td>\n      <td>2.000000</td>\n      <td>4.356709</td>\n      <td>-1.1</td>\n      <td>93.0</td>\n      <td>...</td>\n      <td>0.098930</td>\n      <td>-1.055553</td>\n      <td>0.0</td>\n      <td>0.419258</td>\n      <td>3.597312</td>\n      <td>0</td>\n      <td>False</td>\n      <td>False</td>\n      <td>False</td>\n      <td>True</td>\n    </tr>\n  </tbody>\n</table>\n<p>5 rows × 29 columns</p>\n</div>"
     },
     "execution_count": 947,
     "metadata": {},
     "output_type": "execute_result"
    }
   ],
   "source": [
    "df.head()"
   ],
   "metadata": {
    "collapsed": false,
    "ExecuteTime": {
     "end_time": "2024-01-08T14:27:29.541583Z",
     "start_time": "2024-01-08T14:27:29.516907Z"
    }
   },
   "id": "c811b76ed1c38bee",
   "execution_count": 947
  },
  {
   "cell_type": "code",
   "outputs": [
    {
     "data": {
      "text/plain": "Date                              0\nLatitude                          0\nLongitude                         0\nAltitude                          0\nNO2                               0\nPM2.5                             0\nO3                                0\nPM10                              0\ntemperature_2m (°C)               0\nrelative_humidity_2m (%)          0\ndew_point_2m (°C)                 0\napparent_temperature (°C)         0\nprecipitation (mm)                0\nrain (mm)                         0\nsnowfall (cm)                     0\nsurface_pressure (hPa)            0\ncloud_cover (%)                   0\nwind_speed_10m (km/h)             0\nwind_direction_10m (°)            0\nsoil_temperature_0_to_7cm (°C)    0\nsoil_moisture_0_to_7cm (m³/m³)    0\nis_day ()                         0\nPM2.5/N02                         0\nPM2.5/03                          4\nWeekend                           0\nSeason_Autumn                     0\nSeason_Spring                     0\nSeason_Summer                     0\nSeason_Winter                     0\ndtype: int64"
     },
     "execution_count": 948,
     "metadata": {},
     "output_type": "execute_result"
    }
   ],
   "source": [
    "df.isnull().sum()"
   ],
   "metadata": {
    "collapsed": false,
    "ExecuteTime": {
     "end_time": "2024-01-08T14:27:29.554279Z",
     "start_time": "2024-01-08T14:27:29.542630Z"
    }
   },
   "id": "7a41d622afd76d4a",
   "execution_count": 948
  },
  {
   "cell_type": "code",
   "outputs": [],
   "source": [
    "# delete rows with null values\n",
    "df.dropna(inplace=True)"
   ],
   "metadata": {
    "collapsed": false,
    "ExecuteTime": {
     "end_time": "2024-01-08T14:27:29.587125Z",
     "start_time": "2024-01-08T14:27:29.558636Z"
    }
   },
   "id": "1d1cfad35806315e",
   "execution_count": 949
  },
  {
   "cell_type": "code",
   "outputs": [
    {
     "data": {
      "text/plain": "Date                              0\nLatitude                          0\nLongitude                         0\nAltitude                          0\nNO2                               0\nPM2.5                             0\nO3                                0\nPM10                              0\ntemperature_2m (°C)               0\nrelative_humidity_2m (%)          0\ndew_point_2m (°C)                 0\napparent_temperature (°C)         0\nprecipitation (mm)                0\nrain (mm)                         0\nsnowfall (cm)                     0\nsurface_pressure (hPa)            0\ncloud_cover (%)                   0\nwind_speed_10m (km/h)             0\nwind_direction_10m (°)            0\nsoil_temperature_0_to_7cm (°C)    0\nsoil_moisture_0_to_7cm (m³/m³)    0\nis_day ()                         0\nPM2.5/N02                         0\nPM2.5/03                          0\nWeekend                           0\nSeason_Autumn                     0\nSeason_Spring                     0\nSeason_Summer                     0\nSeason_Winter                     0\ndtype: int64"
     },
     "execution_count": 950,
     "metadata": {},
     "output_type": "execute_result"
    }
   ],
   "source": [
    "df.isnull().sum()"
   ],
   "metadata": {
    "collapsed": false,
    "ExecuteTime": {
     "end_time": "2024-01-08T14:27:29.617638Z",
     "start_time": "2024-01-08T14:27:29.573044Z"
    }
   },
   "id": "d080ea62048941a9",
   "execution_count": 950
  },
  {
   "cell_type": "code",
   "outputs": [
    {
     "data": {
      "text/plain": "(5621, 29)"
     },
     "execution_count": 951,
     "metadata": {},
     "output_type": "execute_result"
    }
   ],
   "source": [
    "df.shape"
   ],
   "metadata": {
    "collapsed": false,
    "ExecuteTime": {
     "end_time": "2024-01-08T14:27:29.666099Z",
     "start_time": "2024-01-08T14:27:29.594563Z"
    }
   },
   "id": "7125c1cc0808de45",
   "execution_count": 951
  },
  {
   "cell_type": "code",
   "outputs": [
    {
     "data": {
      "text/plain": "PM2.5                             1.517766\nPM2.5/03                          0.811420\nPM2.5/N02                         0.561003\nsoil_moisture_0_to_7cm (m³/m³)    0.513139\ndew_point_2m (°C)                 0.397203\nsoil_temperature_0_to_7cm (°C)    0.386281\napparent_temperature (°C)         0.332422\nNO2                               0.316896\nO3                                0.311178\ntemperature_2m (°C)               0.300859\nName: Information Gain Scores, dtype: float64"
     },
     "execution_count": 952,
     "metadata": {},
     "output_type": "execute_result"
    }
   ],
   "source": [
    "output_col = 'PM10'\n",
    "\n",
    "input_cols = df.columns.tolist()\n",
    "input_cols.remove(output_col)\n",
    "input_cols.remove('Date')\n",
    "\n",
    "information_gain_scores = mutual_info_regression(df[input_cols], df[output_col])\n",
    "\n",
    "feature_importances = pd.Series(information_gain_scores, index=input_cols)\n",
    "feature_importances.name = 'Information Gain Scores'\n",
    "feature_importances.sort_values(ascending=False, inplace=True)\n",
    "\n",
    "feature_importances.head(10)"
   ],
   "metadata": {
    "collapsed": false,
    "ExecuteTime": {
     "end_time": "2024-01-08T14:27:30.002715Z",
     "start_time": "2024-01-08T14:27:29.627450Z"
    }
   },
   "id": "3298f8f24642644a",
   "execution_count": 952
  },
  {
   "cell_type": "code",
   "outputs": [
    {
     "name": "stdout",
     "output_type": "stream",
     "text": [
      "['PM2.5', 'PM2.5/03']\n"
     ]
    }
   ],
   "source": [
    "top_features = feature_importances.head(2).index.tolist()\n",
    "print(top_features)"
   ],
   "metadata": {
    "collapsed": false,
    "ExecuteTime": {
     "end_time": "2024-01-08T14:27:30.003637Z",
     "start_time": "2024-01-08T14:27:29.999407Z"
    }
   },
   "id": "2f463b9c83d3edc2",
   "execution_count": 953
  },
  {
   "cell_type": "code",
   "outputs": [],
   "source": [
    "target = \"PM10\"\n",
    "features = top_features + [target]\n",
    "dataset = df[features]"
   ],
   "metadata": {
    "collapsed": false,
    "ExecuteTime": {
     "end_time": "2024-01-08T14:27:30.006049Z",
     "start_time": "2024-01-08T14:27:30.003538Z"
    }
   },
   "id": "49f1df1d7572dc1f",
   "execution_count": 954
  },
  {
   "cell_type": "code",
   "outputs": [
    {
     "data": {
      "text/plain": "      PM2.5  PM2.5/03      PM10\n0  4.262680  4.416369  4.499810\n1  4.330733  3.637586  4.454347\n2  4.330733  3.637586  4.454347\n3  4.290459  3.597312  4.356709\n4  4.290459  3.597312  4.356709",
      "text/html": "<div>\n<style scoped>\n    .dataframe tbody tr th:only-of-type {\n        vertical-align: middle;\n    }\n\n    .dataframe tbody tr th {\n        vertical-align: top;\n    }\n\n    .dataframe thead th {\n        text-align: right;\n    }\n</style>\n<table border=\"1\" class=\"dataframe\">\n  <thead>\n    <tr style=\"text-align: right;\">\n      <th></th>\n      <th>PM2.5</th>\n      <th>PM2.5/03</th>\n      <th>PM10</th>\n    </tr>\n  </thead>\n  <tbody>\n    <tr>\n      <th>0</th>\n      <td>4.262680</td>\n      <td>4.416369</td>\n      <td>4.499810</td>\n    </tr>\n    <tr>\n      <th>1</th>\n      <td>4.330733</td>\n      <td>3.637586</td>\n      <td>4.454347</td>\n    </tr>\n    <tr>\n      <th>2</th>\n      <td>4.330733</td>\n      <td>3.637586</td>\n      <td>4.454347</td>\n    </tr>\n    <tr>\n      <th>3</th>\n      <td>4.290459</td>\n      <td>3.597312</td>\n      <td>4.356709</td>\n    </tr>\n    <tr>\n      <th>4</th>\n      <td>4.290459</td>\n      <td>3.597312</td>\n      <td>4.356709</td>\n    </tr>\n  </tbody>\n</table>\n</div>"
     },
     "execution_count": 955,
     "metadata": {},
     "output_type": "execute_result"
    }
   ],
   "source": [
    "dataset.head()"
   ],
   "metadata": {
    "collapsed": false,
    "ExecuteTime": {
     "end_time": "2024-01-08T14:27:30.013631Z",
     "start_time": "2024-01-08T14:27:30.008869Z"
    }
   },
   "id": "f76db31491bf775e",
   "execution_count": 955
  },
  {
   "cell_type": "code",
   "outputs": [
    {
     "data": {
      "text/plain": "(5621, 3)"
     },
     "execution_count": 956,
     "metadata": {},
     "output_type": "execute_result"
    }
   ],
   "source": [
    "dataset.shape"
   ],
   "metadata": {
    "collapsed": false,
    "ExecuteTime": {
     "end_time": "2024-01-08T14:27:30.015688Z",
     "start_time": "2024-01-08T14:27:30.011412Z"
    }
   },
   "id": "368922ede07f2cbe",
   "execution_count": 956
  },
  {
   "cell_type": "code",
   "outputs": [],
   "source": [
    "test_split = round(len(dataset) * 0.2)"
   ],
   "metadata": {
    "collapsed": false,
    "ExecuteTime": {
     "end_time": "2024-01-08T14:27:30.021418Z",
     "start_time": "2024-01-08T14:27:30.016550Z"
    }
   },
   "id": "47800ce8f5cc1d05",
   "execution_count": 957
  },
  {
   "cell_type": "code",
   "outputs": [],
   "source": [
    "train_data = dataset[:-1041]\n",
    "test_data = dataset[-1041:]"
   ],
   "metadata": {
    "collapsed": false,
    "ExecuteTime": {
     "end_time": "2024-01-08T14:27:30.040920Z",
     "start_time": "2024-01-08T14:27:30.019419Z"
    }
   },
   "id": "dcc29eb36ab5bbec",
   "execution_count": 958
  },
  {
   "cell_type": "code",
   "outputs": [
    {
     "name": "stdout",
     "output_type": "stream",
     "text": [
      "(4580, 3) (1041, 3)\n"
     ]
    }
   ],
   "source": [
    "print(train_data.shape, test_data.shape)"
   ],
   "metadata": {
    "collapsed": false,
    "ExecuteTime": {
     "end_time": "2024-01-08T14:27:30.042155Z",
     "start_time": "2024-01-08T14:27:30.021955Z"
    }
   },
   "id": "e97a3c03ef742c2f",
   "execution_count": 959
  },
  {
   "cell_type": "code",
   "outputs": [],
   "source": [
    "scaler = MinMaxScaler(feature_range=(0, 1))\n",
    "\n",
    "train_data = scaler.fit_transform(train_data)\n",
    "test_data = scaler.transform(test_data)"
   ],
   "metadata": {
    "collapsed": false,
    "ExecuteTime": {
     "end_time": "2024-01-08T14:27:30.042883Z",
     "start_time": "2024-01-08T14:27:30.026038Z"
    }
   },
   "id": "e1d14d5f52151619",
   "execution_count": 960
  },
  {
   "cell_type": "code",
   "outputs": [],
   "source": [
    "def create_time_series(data, n_past):\n",
    "    X, y = [], []\n",
    "    for i in range(n_past, len(data)):\n",
    "        X.append(data[i - n_past:i, 0:data.shape[1]])\n",
    "        y.append(data[i, 0])\n",
    "    return np.array(X), np.array(y)"
   ],
   "metadata": {
    "collapsed": false,
    "ExecuteTime": {
     "end_time": "2024-01-08T14:27:30.059077Z",
     "start_time": "2024-01-08T14:27:30.032687Z"
    }
   },
   "id": "3f137c58543bf615",
   "execution_count": 961
  },
  {
   "cell_type": "code",
   "outputs": [],
   "source": [
    "window_size = 48*7\n",
    "X_train, y_train = create_time_series(train_data, window_size)\n",
    "X_test, y_test = create_time_series(test_data, window_size)"
   ],
   "metadata": {
    "collapsed": false,
    "ExecuteTime": {
     "end_time": "2024-01-08T14:27:30.105190Z",
     "start_time": "2024-01-08T14:27:30.038472Z"
    }
   },
   "id": "127e95c22b78afd1",
   "execution_count": 962
  },
  {
   "cell_type": "code",
   "outputs": [
    {
     "name": "stdout",
     "output_type": "stream",
     "text": [
      "(4244, 336, 3) (4244,)\n"
     ]
    }
   ],
   "source": [
    "print(X_train.shape, y_train.shape)"
   ],
   "metadata": {
    "collapsed": false,
    "ExecuteTime": {
     "end_time": "2024-01-08T14:27:30.106351Z",
     "start_time": "2024-01-08T14:27:30.055145Z"
    }
   },
   "id": "14031fdf9b5a9e24",
   "execution_count": 963
  },
  {
   "cell_type": "code",
   "outputs": [
    {
     "name": "stdout",
     "output_type": "stream",
     "text": [
      "(705, 336, 3) (705,)\n"
     ]
    }
   ],
   "source": [
    "print(X_test.shape, y_test.shape)"
   ],
   "metadata": {
    "collapsed": false,
    "ExecuteTime": {
     "end_time": "2024-01-08T14:27:30.126932Z",
     "start_time": "2024-01-08T14:27:30.061026Z"
    }
   },
   "id": "c0dd9bf83e99f27e",
   "execution_count": 964
  },
  {
   "cell_type": "code",
   "outputs": [],
   "source": [
    "model = Sequential()\n",
    "model.add(LSTM(50, return_sequences=True, input_shape=(X_train.shape[1], X_train.shape[2])))\n",
    "model.add(LSTM(50))\n",
    "model.add(Dropout(0.2))\n",
    "model.add(Dense(1))\n",
    "model.compile(loss='mse', optimizer='adam')"
   ],
   "metadata": {
    "collapsed": false,
    "ExecuteTime": {
     "end_time": "2024-01-08T14:27:30.337842Z",
     "start_time": "2024-01-08T14:27:30.083551Z"
    }
   },
   "id": "1d67000957f2799a",
   "execution_count": 965
  },
  {
   "cell_type": "code",
   "outputs": [
    {
     "name": "stdout",
     "output_type": "stream",
     "text": [
      "Epoch 1/10\n",
      "67/67 [==============================] - 16s 214ms/step - loss: 0.0343 - val_loss: 0.0432\n",
      "Epoch 2/10\n",
      "67/67 [==============================] - 14s 210ms/step - loss: 0.0163 - val_loss: 0.0328\n",
      "Epoch 3/10\n",
      "67/67 [==============================] - 14s 210ms/step - loss: 0.0127 - val_loss: 0.0269\n",
      "Epoch 4/10\n",
      "67/67 [==============================] - 14s 203ms/step - loss: 0.0106 - val_loss: 0.0231\n",
      "Epoch 5/10\n",
      "67/67 [==============================] - 13s 192ms/step - loss: 0.0097 - val_loss: 0.0200\n",
      "Epoch 6/10\n",
      "67/67 [==============================] - 14s 204ms/step - loss: 0.0089 - val_loss: 0.0173\n",
      "Epoch 7/10\n",
      "67/67 [==============================] - 14s 205ms/step - loss: 0.0081 - val_loss: 0.0148\n",
      "Epoch 8/10\n",
      "67/67 [==============================] - 14s 202ms/step - loss: 0.0077 - val_loss: 0.0129\n",
      "Epoch 9/10\n",
      "67/67 [==============================] - 14s 207ms/step - loss: 0.0068 - val_loss: 0.0117\n",
      "Epoch 10/10\n",
      "48/67 [====================>.........] - ETA: 3s - loss: 0.0060"
     ]
    }
   ],
   "source": [
    "history = model.fit(X_train, y_train, epochs=10, batch_size=64, validation_data=(X_test, y_test), verbose=1,\n",
    "                    shuffle=False)"
   ],
   "metadata": {
    "collapsed": false,
    "is_executing": true,
    "ExecuteTime": {
     "start_time": "2024-01-08T14:27:30.339008Z"
    }
   },
   "id": "5f116e4383909375",
   "execution_count": null
  },
  {
   "cell_type": "code",
   "outputs": [],
   "source": [
    "prediction = model.predict(X_test)"
   ],
   "metadata": {
    "collapsed": false,
    "is_executing": true
   },
   "id": "ff3c913bf1c5f82a",
   "execution_count": null
  },
  {
   "cell_type": "code",
   "outputs": [],
   "source": [
    "prediction"
   ],
   "metadata": {
    "collapsed": false,
    "is_executing": true
   },
   "id": "df30e2947ccfdc0b",
   "execution_count": null
  },
  {
   "cell_type": "code",
   "outputs": [],
   "source": [
    "prediction.shape"
   ],
   "metadata": {
    "collapsed": false,
    "is_executing": true
   },
   "id": "b59c7e4613b91b4",
   "execution_count": null
  },
  {
   "cell_type": "code",
   "outputs": [],
   "source": [
    "X_test.shape"
   ],
   "metadata": {
    "collapsed": false,
    "is_executing": true
   },
   "id": "38f9c663f0debfa9",
   "execution_count": null
  },
  {
   "cell_type": "code",
   "outputs": [],
   "source": [
    "prediction_copies_array = np.repeat(prediction, 3, axis=-1)"
   ],
   "metadata": {
    "collapsed": false,
    "is_executing": true
   },
   "id": "393128b352d3485",
   "execution_count": null
  },
  {
   "cell_type": "code",
   "outputs": [],
   "source": [
    "prediction_copies_array.shape"
   ],
   "metadata": {
    "collapsed": false,
    "is_executing": true
   },
   "id": "ef2e0b7e23345bdc",
   "execution_count": null
  },
  {
   "cell_type": "code",
   "outputs": [],
   "source": [
    "pred = scaler.inverse_transform(np.reshape(prediction_copies_array, (len(prediction), 3)))[:, 0]"
   ],
   "metadata": {
    "collapsed": false,
    "is_executing": true
   },
   "id": "ba21fbfa66a461f2",
   "execution_count": null
  },
  {
   "cell_type": "code",
   "outputs": [],
   "source": [
    "pred.shape"
   ],
   "metadata": {
    "collapsed": false,
    "is_executing": true
   },
   "id": "5b92211ada33406",
   "execution_count": null
  },
  {
   "cell_type": "code",
   "outputs": [],
   "source": [
    "pred"
   ],
   "metadata": {
    "collapsed": false,
    "is_executing": true
   },
   "id": "620b4b2882e83d01",
   "execution_count": null
  },
  {
   "cell_type": "code",
   "outputs": [],
   "source": [
    "original_copies_array = np.repeat(y_test, 3, axis=-1)\n",
    "original = scaler.inverse_transform(np.reshape(original_copies_array, (len(y_test), 3)))[:, 0]"
   ],
   "metadata": {
    "collapsed": false,
    "is_executing": true
   },
   "id": "8f0f5b26fd8f842f",
   "execution_count": null
  },
  {
   "cell_type": "code",
   "outputs": [],
   "source": [
    "plt.figure(figsize=(12,8))\n",
    "plt.plot(original, color='blue', label='Actual PM10 values')\n",
    "plt.plot(pred, color='red', label='Predicted PM10 values')\n",
    "plt.title('PM10 Prediction')\n",
    "plt.xlabel('Time')\n",
    "plt.ylabel('PM10')\n",
    "plt.legend()\n",
    "plt.show()"
   ],
   "metadata": {
    "collapsed": false,
    "is_executing": true
   },
   "id": "bfe30bb97cb26d4e",
   "execution_count": null
  },
  {
   "cell_type": "code",
   "outputs": [],
   "source": [
    "df_output = pd.DataFrame({'Actual': original, 'Predicted': pred})\n",
    "df_output.head(1000)"
   ],
   "metadata": {
    "collapsed": false,
    "is_executing": true
   },
   "id": "6ef3f47bd4f1ecd6",
   "execution_count": null
  }
 ],
 "metadata": {
  "kernelspec": {
   "display_name": "Python 3",
   "language": "python",
   "name": "python3"
  },
  "language_info": {
   "codemirror_mode": {
    "name": "ipython",
    "version": 2
   },
   "file_extension": ".py",
   "mimetype": "text/x-python",
   "name": "python",
   "nbconvert_exporter": "python",
   "pygments_lexer": "ipython2",
   "version": "2.7.6"
  }
 },
 "nbformat": 4,
 "nbformat_minor": 5
}
