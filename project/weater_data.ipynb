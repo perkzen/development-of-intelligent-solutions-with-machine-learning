{
 "cells": [
  {
   "cell_type": "code",
   "execution_count": 60,
   "id": "initial_id",
   "metadata": {
    "collapsed": true,
    "ExecuteTime": {
     "end_time": "2024-01-04T10:17:41.443905Z",
     "start_time": "2024-01-04T10:17:41.439593Z"
    }
   },
   "outputs": [],
   "source": [
    "import pandas as pd"
   ]
  },
  {
   "cell_type": "code",
   "outputs": [
    {
     "data": {
      "text/plain": "               time  temperature_2m (°C)  relative_humidity_2m (%)  \\\n0  2023-01-01T00:00                  7.7                        85   \n1  2023-01-01T01:00                  7.8                        84   \n2  2023-01-01T02:00                  4.8                        92   \n3  2023-01-01T03:00                  4.0                        95   \n4  2023-01-01T04:00                  4.3                        94   \n\n   dew_point_2m (°C)  apparent_temperature (°C)  precipitation (mm)  \\\n0                5.3                        5.5                 0.0   \n1                5.2                        5.7                 0.0   \n2                3.6                        1.9                 0.0   \n3                3.2                        0.9                 0.0   \n4                3.4                        1.4                 0.0   \n\n   rain (mm)  snowfall (cm)  surface_pressure (hPa)  cloud_cover (%)  \\\n0        0.0            0.0                   992.7                7   \n1        0.0            0.0                   992.8                4   \n2        0.0            0.0                   992.5               10   \n3        0.0            0.0                   991.9               27   \n4        0.0            0.0                   992.0               25   \n\n   wind_speed_10m (km/h)  wind_direction_10m (°)  \\\n0                    6.7                     144   \n1                    6.4                     133   \n2                    9.2                     141   \n3                   10.5                     142   \n4                    8.9                     137   \n\n   soil_temperature_0_to_7cm (°C)  soil_moisture_0_to_7cm (m³/m³)  is_day ()  \n0                             2.6                           0.357          0  \n1                             2.1                           0.356          0  \n2                             1.8                           0.356          0  \n3                             1.5                           0.356          0  \n4                             1.2                           0.356          0  ",
      "text/html": "<div>\n<style scoped>\n    .dataframe tbody tr th:only-of-type {\n        vertical-align: middle;\n    }\n\n    .dataframe tbody tr th {\n        vertical-align: top;\n    }\n\n    .dataframe thead th {\n        text-align: right;\n    }\n</style>\n<table border=\"1\" class=\"dataframe\">\n  <thead>\n    <tr style=\"text-align: right;\">\n      <th></th>\n      <th>time</th>\n      <th>temperature_2m (°C)</th>\n      <th>relative_humidity_2m (%)</th>\n      <th>dew_point_2m (°C)</th>\n      <th>apparent_temperature (°C)</th>\n      <th>precipitation (mm)</th>\n      <th>rain (mm)</th>\n      <th>snowfall (cm)</th>\n      <th>surface_pressure (hPa)</th>\n      <th>cloud_cover (%)</th>\n      <th>wind_speed_10m (km/h)</th>\n      <th>wind_direction_10m (°)</th>\n      <th>soil_temperature_0_to_7cm (°C)</th>\n      <th>soil_moisture_0_to_7cm (m³/m³)</th>\n      <th>is_day ()</th>\n    </tr>\n  </thead>\n  <tbody>\n    <tr>\n      <th>0</th>\n      <td>2023-01-01T00:00</td>\n      <td>7.7</td>\n      <td>85</td>\n      <td>5.3</td>\n      <td>5.5</td>\n      <td>0.0</td>\n      <td>0.0</td>\n      <td>0.0</td>\n      <td>992.7</td>\n      <td>7</td>\n      <td>6.7</td>\n      <td>144</td>\n      <td>2.6</td>\n      <td>0.357</td>\n      <td>0</td>\n    </tr>\n    <tr>\n      <th>1</th>\n      <td>2023-01-01T01:00</td>\n      <td>7.8</td>\n      <td>84</td>\n      <td>5.2</td>\n      <td>5.7</td>\n      <td>0.0</td>\n      <td>0.0</td>\n      <td>0.0</td>\n      <td>992.8</td>\n      <td>4</td>\n      <td>6.4</td>\n      <td>133</td>\n      <td>2.1</td>\n      <td>0.356</td>\n      <td>0</td>\n    </tr>\n    <tr>\n      <th>2</th>\n      <td>2023-01-01T02:00</td>\n      <td>4.8</td>\n      <td>92</td>\n      <td>3.6</td>\n      <td>1.9</td>\n      <td>0.0</td>\n      <td>0.0</td>\n      <td>0.0</td>\n      <td>992.5</td>\n      <td>10</td>\n      <td>9.2</td>\n      <td>141</td>\n      <td>1.8</td>\n      <td>0.356</td>\n      <td>0</td>\n    </tr>\n    <tr>\n      <th>3</th>\n      <td>2023-01-01T03:00</td>\n      <td>4.0</td>\n      <td>95</td>\n      <td>3.2</td>\n      <td>0.9</td>\n      <td>0.0</td>\n      <td>0.0</td>\n      <td>0.0</td>\n      <td>991.9</td>\n      <td>27</td>\n      <td>10.5</td>\n      <td>142</td>\n      <td>1.5</td>\n      <td>0.356</td>\n      <td>0</td>\n    </tr>\n    <tr>\n      <th>4</th>\n      <td>2023-01-01T04:00</td>\n      <td>4.3</td>\n      <td>94</td>\n      <td>3.4</td>\n      <td>1.4</td>\n      <td>0.0</td>\n      <td>0.0</td>\n      <td>0.0</td>\n      <td>992.0</td>\n      <td>25</td>\n      <td>8.9</td>\n      <td>137</td>\n      <td>1.2</td>\n      <td>0.356</td>\n      <td>0</td>\n    </tr>\n  </tbody>\n</table>\n</div>"
     },
     "execution_count": 61,
     "metadata": {},
     "output_type": "execute_result"
    }
   ],
   "source": [
    "df = pd.read_csv(\"data/open-meteo-maribor.csv\")\n",
    "df.head()"
   ],
   "metadata": {
    "collapsed": false,
    "ExecuteTime": {
     "end_time": "2024-01-04T10:17:41.464272Z",
     "start_time": "2024-01-04T10:17:41.445609Z"
    }
   },
   "id": "d7bd5c86a6b61a64",
   "execution_count": 61
  },
  {
   "cell_type": "code",
   "outputs": [
    {
     "data": {
      "text/plain": "                 time  temperature_2m (°C)  relative_humidity_2m (%)  \\\n0 2023-01-01 00:00:00                  7.7                        85   \n1 2023-01-01 01:00:00                  7.8                        84   \n2 2023-01-01 02:00:00                  4.8                        92   \n3 2023-01-01 03:00:00                  4.0                        95   \n4 2023-01-01 04:00:00                  4.3                        94   \n\n   dew_point_2m (°C)  apparent_temperature (°C)  precipitation (mm)  \\\n0                5.3                        5.5                 0.0   \n1                5.2                        5.7                 0.0   \n2                3.6                        1.9                 0.0   \n3                3.2                        0.9                 0.0   \n4                3.4                        1.4                 0.0   \n\n   rain (mm)  snowfall (cm)  surface_pressure (hPa)  cloud_cover (%)  \\\n0        0.0            0.0                   992.7                7   \n1        0.0            0.0                   992.8                4   \n2        0.0            0.0                   992.5               10   \n3        0.0            0.0                   991.9               27   \n4        0.0            0.0                   992.0               25   \n\n   wind_speed_10m (km/h)  wind_direction_10m (°)  \\\n0                    6.7                     144   \n1                    6.4                     133   \n2                    9.2                     141   \n3                   10.5                     142   \n4                    8.9                     137   \n\n   soil_temperature_0_to_7cm (°C)  soil_moisture_0_to_7cm (m³/m³)  is_day ()  \n0                             2.6                           0.357          0  \n1                             2.1                           0.356          0  \n2                             1.8                           0.356          0  \n3                             1.5                           0.356          0  \n4                             1.2                           0.356          0  ",
      "text/html": "<div>\n<style scoped>\n    .dataframe tbody tr th:only-of-type {\n        vertical-align: middle;\n    }\n\n    .dataframe tbody tr th {\n        vertical-align: top;\n    }\n\n    .dataframe thead th {\n        text-align: right;\n    }\n</style>\n<table border=\"1\" class=\"dataframe\">\n  <thead>\n    <tr style=\"text-align: right;\">\n      <th></th>\n      <th>time</th>\n      <th>temperature_2m (°C)</th>\n      <th>relative_humidity_2m (%)</th>\n      <th>dew_point_2m (°C)</th>\n      <th>apparent_temperature (°C)</th>\n      <th>precipitation (mm)</th>\n      <th>rain (mm)</th>\n      <th>snowfall (cm)</th>\n      <th>surface_pressure (hPa)</th>\n      <th>cloud_cover (%)</th>\n      <th>wind_speed_10m (km/h)</th>\n      <th>wind_direction_10m (°)</th>\n      <th>soil_temperature_0_to_7cm (°C)</th>\n      <th>soil_moisture_0_to_7cm (m³/m³)</th>\n      <th>is_day ()</th>\n    </tr>\n  </thead>\n  <tbody>\n    <tr>\n      <th>0</th>\n      <td>2023-01-01 00:00:00</td>\n      <td>7.7</td>\n      <td>85</td>\n      <td>5.3</td>\n      <td>5.5</td>\n      <td>0.0</td>\n      <td>0.0</td>\n      <td>0.0</td>\n      <td>992.7</td>\n      <td>7</td>\n      <td>6.7</td>\n      <td>144</td>\n      <td>2.6</td>\n      <td>0.357</td>\n      <td>0</td>\n    </tr>\n    <tr>\n      <th>1</th>\n      <td>2023-01-01 01:00:00</td>\n      <td>7.8</td>\n      <td>84</td>\n      <td>5.2</td>\n      <td>5.7</td>\n      <td>0.0</td>\n      <td>0.0</td>\n      <td>0.0</td>\n      <td>992.8</td>\n      <td>4</td>\n      <td>6.4</td>\n      <td>133</td>\n      <td>2.1</td>\n      <td>0.356</td>\n      <td>0</td>\n    </tr>\n    <tr>\n      <th>2</th>\n      <td>2023-01-01 02:00:00</td>\n      <td>4.8</td>\n      <td>92</td>\n      <td>3.6</td>\n      <td>1.9</td>\n      <td>0.0</td>\n      <td>0.0</td>\n      <td>0.0</td>\n      <td>992.5</td>\n      <td>10</td>\n      <td>9.2</td>\n      <td>141</td>\n      <td>1.8</td>\n      <td>0.356</td>\n      <td>0</td>\n    </tr>\n    <tr>\n      <th>3</th>\n      <td>2023-01-01 03:00:00</td>\n      <td>4.0</td>\n      <td>95</td>\n      <td>3.2</td>\n      <td>0.9</td>\n      <td>0.0</td>\n      <td>0.0</td>\n      <td>0.0</td>\n      <td>991.9</td>\n      <td>27</td>\n      <td>10.5</td>\n      <td>142</td>\n      <td>1.5</td>\n      <td>0.356</td>\n      <td>0</td>\n    </tr>\n    <tr>\n      <th>4</th>\n      <td>2023-01-01 04:00:00</td>\n      <td>4.3</td>\n      <td>94</td>\n      <td>3.4</td>\n      <td>1.4</td>\n      <td>0.0</td>\n      <td>0.0</td>\n      <td>0.0</td>\n      <td>992.0</td>\n      <td>25</td>\n      <td>8.9</td>\n      <td>137</td>\n      <td>1.2</td>\n      <td>0.356</td>\n      <td>0</td>\n    </tr>\n  </tbody>\n</table>\n</div>"
     },
     "execution_count": 62,
     "metadata": {},
     "output_type": "execute_result"
    }
   ],
   "source": [
    "df['time'] = pd.to_datetime(df['time'], format='%Y-%m-%dT%H:%M')\n",
    "df.head()"
   ],
   "metadata": {
    "collapsed": false,
    "ExecuteTime": {
     "end_time": "2024-01-04T10:17:41.476493Z",
     "start_time": "2024-01-04T10:17:41.471089Z"
    }
   },
   "id": "87af4d9165b6099e",
   "execution_count": 62
  },
  {
   "cell_type": "code",
   "outputs": [
    {
     "data": {
      "text/plain": "                 time  temperature_2m (°C)  relative_humidity_2m (%)  \\\n0 2023-01-01 00:00:00                  7.7                      85.0   \n1 2023-01-01 00:15:00                  7.7                      85.0   \n2 2023-01-01 00:30:00                  7.7                      85.0   \n3 2023-01-01 00:45:00                  7.7                      85.0   \n4 2023-01-01 01:00:00                  7.8                      84.0   \n\n   dew_point_2m (°C)  apparent_temperature (°C)  precipitation (mm)  \\\n0                5.3                        5.5                 0.0   \n1                5.3                        5.5                 0.0   \n2                5.3                        5.5                 0.0   \n3                5.3                        5.5                 0.0   \n4                5.2                        5.7                 0.0   \n\n   rain (mm)  snowfall (cm)  surface_pressure (hPa)  cloud_cover (%)  \\\n0        0.0            0.0                   992.7              7.0   \n1        0.0            0.0                   992.7              7.0   \n2        0.0            0.0                   992.7              7.0   \n3        0.0            0.0                   992.7              7.0   \n4        0.0            0.0                   992.8              4.0   \n\n   wind_speed_10m (km/h)  wind_direction_10m (°)  \\\n0                    6.7                   144.0   \n1                    6.7                   144.0   \n2                    6.7                   144.0   \n3                    6.7                   144.0   \n4                    6.4                   133.0   \n\n   soil_temperature_0_to_7cm (°C)  soil_moisture_0_to_7cm (m³/m³)  is_day ()  \n0                             2.6                           0.357        0.0  \n1                             2.6                           0.357        0.0  \n2                             2.6                           0.357        0.0  \n3                             2.6                           0.357        0.0  \n4                             2.1                           0.356        0.0  ",
      "text/html": "<div>\n<style scoped>\n    .dataframe tbody tr th:only-of-type {\n        vertical-align: middle;\n    }\n\n    .dataframe tbody tr th {\n        vertical-align: top;\n    }\n\n    .dataframe thead th {\n        text-align: right;\n    }\n</style>\n<table border=\"1\" class=\"dataframe\">\n  <thead>\n    <tr style=\"text-align: right;\">\n      <th></th>\n      <th>time</th>\n      <th>temperature_2m (°C)</th>\n      <th>relative_humidity_2m (%)</th>\n      <th>dew_point_2m (°C)</th>\n      <th>apparent_temperature (°C)</th>\n      <th>precipitation (mm)</th>\n      <th>rain (mm)</th>\n      <th>snowfall (cm)</th>\n      <th>surface_pressure (hPa)</th>\n      <th>cloud_cover (%)</th>\n      <th>wind_speed_10m (km/h)</th>\n      <th>wind_direction_10m (°)</th>\n      <th>soil_temperature_0_to_7cm (°C)</th>\n      <th>soil_moisture_0_to_7cm (m³/m³)</th>\n      <th>is_day ()</th>\n    </tr>\n  </thead>\n  <tbody>\n    <tr>\n      <th>0</th>\n      <td>2023-01-01 00:00:00</td>\n      <td>7.7</td>\n      <td>85.0</td>\n      <td>5.3</td>\n      <td>5.5</td>\n      <td>0.0</td>\n      <td>0.0</td>\n      <td>0.0</td>\n      <td>992.7</td>\n      <td>7.0</td>\n      <td>6.7</td>\n      <td>144.0</td>\n      <td>2.6</td>\n      <td>0.357</td>\n      <td>0.0</td>\n    </tr>\n    <tr>\n      <th>1</th>\n      <td>2023-01-01 00:15:00</td>\n      <td>7.7</td>\n      <td>85.0</td>\n      <td>5.3</td>\n      <td>5.5</td>\n      <td>0.0</td>\n      <td>0.0</td>\n      <td>0.0</td>\n      <td>992.7</td>\n      <td>7.0</td>\n      <td>6.7</td>\n      <td>144.0</td>\n      <td>2.6</td>\n      <td>0.357</td>\n      <td>0.0</td>\n    </tr>\n    <tr>\n      <th>2</th>\n      <td>2023-01-01 00:30:00</td>\n      <td>7.7</td>\n      <td>85.0</td>\n      <td>5.3</td>\n      <td>5.5</td>\n      <td>0.0</td>\n      <td>0.0</td>\n      <td>0.0</td>\n      <td>992.7</td>\n      <td>7.0</td>\n      <td>6.7</td>\n      <td>144.0</td>\n      <td>2.6</td>\n      <td>0.357</td>\n      <td>0.0</td>\n    </tr>\n    <tr>\n      <th>3</th>\n      <td>2023-01-01 00:45:00</td>\n      <td>7.7</td>\n      <td>85.0</td>\n      <td>5.3</td>\n      <td>5.5</td>\n      <td>0.0</td>\n      <td>0.0</td>\n      <td>0.0</td>\n      <td>992.7</td>\n      <td>7.0</td>\n      <td>6.7</td>\n      <td>144.0</td>\n      <td>2.6</td>\n      <td>0.357</td>\n      <td>0.0</td>\n    </tr>\n    <tr>\n      <th>4</th>\n      <td>2023-01-01 01:00:00</td>\n      <td>7.8</td>\n      <td>84.0</td>\n      <td>5.2</td>\n      <td>5.7</td>\n      <td>0.0</td>\n      <td>0.0</td>\n      <td>0.0</td>\n      <td>992.8</td>\n      <td>4.0</td>\n      <td>6.4</td>\n      <td>133.0</td>\n      <td>2.1</td>\n      <td>0.356</td>\n      <td>0.0</td>\n    </tr>\n  </tbody>\n</table>\n</div>"
     },
     "execution_count": 63,
     "metadata": {},
     "output_type": "execute_result"
    }
   ],
   "source": [
    "df = df.set_index('time').resample('15T').mean().reset_index()\n",
    "df = df.ffill()\n",
    "\n",
    "df.head()"
   ],
   "metadata": {
    "collapsed": false,
    "ExecuteTime": {
     "end_time": "2024-01-04T10:17:41.500765Z",
     "start_time": "2024-01-04T10:17:41.475711Z"
    }
   },
   "id": "ae8e52cdcf2e3459",
   "execution_count": 63
  },
  {
   "cell_type": "code",
   "outputs": [
    {
     "data": {
      "text/plain": "                 time  temperature_2m (°C)  relative_humidity_2m (%)  \\\n0 2023-01-01 00:00:00                  7.7                      85.0   \n1 2023-01-01 00:15:00                  7.7                      85.0   \n2 2023-01-01 00:35:00                  7.7                      85.0   \n3 2023-01-01 00:45:00                  7.7                      85.0   \n4 2023-01-01 01:00:00                  7.8                      84.0   \n\n   dew_point_2m (°C)  apparent_temperature (°C)  precipitation (mm)  \\\n0                5.3                        5.5                 0.0   \n1                5.3                        5.5                 0.0   \n2                5.3                        5.5                 0.0   \n3                5.3                        5.5                 0.0   \n4                5.2                        5.7                 0.0   \n\n   rain (mm)  snowfall (cm)  surface_pressure (hPa)  cloud_cover (%)  \\\n0        0.0            0.0                   992.7              7.0   \n1        0.0            0.0                   992.7              7.0   \n2        0.0            0.0                   992.7              7.0   \n3        0.0            0.0                   992.7              7.0   \n4        0.0            0.0                   992.8              4.0   \n\n   wind_speed_10m (km/h)  wind_direction_10m (°)  \\\n0                    6.7                   144.0   \n1                    6.7                   144.0   \n2                    6.7                   144.0   \n3                    6.7                   144.0   \n4                    6.4                   133.0   \n\n   soil_temperature_0_to_7cm (°C)  soil_moisture_0_to_7cm (m³/m³)  is_day ()  \n0                             2.6                           0.357        0.0  \n1                             2.6                           0.357        0.0  \n2                             2.6                           0.357        0.0  \n3                             2.6                           0.357        0.0  \n4                             2.1                           0.356        0.0  ",
      "text/html": "<div>\n<style scoped>\n    .dataframe tbody tr th:only-of-type {\n        vertical-align: middle;\n    }\n\n    .dataframe tbody tr th {\n        vertical-align: top;\n    }\n\n    .dataframe thead th {\n        text-align: right;\n    }\n</style>\n<table border=\"1\" class=\"dataframe\">\n  <thead>\n    <tr style=\"text-align: right;\">\n      <th></th>\n      <th>time</th>\n      <th>temperature_2m (°C)</th>\n      <th>relative_humidity_2m (%)</th>\n      <th>dew_point_2m (°C)</th>\n      <th>apparent_temperature (°C)</th>\n      <th>precipitation (mm)</th>\n      <th>rain (mm)</th>\n      <th>snowfall (cm)</th>\n      <th>surface_pressure (hPa)</th>\n      <th>cloud_cover (%)</th>\n      <th>wind_speed_10m (km/h)</th>\n      <th>wind_direction_10m (°)</th>\n      <th>soil_temperature_0_to_7cm (°C)</th>\n      <th>soil_moisture_0_to_7cm (m³/m³)</th>\n      <th>is_day ()</th>\n    </tr>\n  </thead>\n  <tbody>\n    <tr>\n      <th>0</th>\n      <td>2023-01-01 00:00:00</td>\n      <td>7.7</td>\n      <td>85.0</td>\n      <td>5.3</td>\n      <td>5.5</td>\n      <td>0.0</td>\n      <td>0.0</td>\n      <td>0.0</td>\n      <td>992.7</td>\n      <td>7.0</td>\n      <td>6.7</td>\n      <td>144.0</td>\n      <td>2.6</td>\n      <td>0.357</td>\n      <td>0.0</td>\n    </tr>\n    <tr>\n      <th>1</th>\n      <td>2023-01-01 00:15:00</td>\n      <td>7.7</td>\n      <td>85.0</td>\n      <td>5.3</td>\n      <td>5.5</td>\n      <td>0.0</td>\n      <td>0.0</td>\n      <td>0.0</td>\n      <td>992.7</td>\n      <td>7.0</td>\n      <td>6.7</td>\n      <td>144.0</td>\n      <td>2.6</td>\n      <td>0.357</td>\n      <td>0.0</td>\n    </tr>\n    <tr>\n      <th>2</th>\n      <td>2023-01-01 00:35:00</td>\n      <td>7.7</td>\n      <td>85.0</td>\n      <td>5.3</td>\n      <td>5.5</td>\n      <td>0.0</td>\n      <td>0.0</td>\n      <td>0.0</td>\n      <td>992.7</td>\n      <td>7.0</td>\n      <td>6.7</td>\n      <td>144.0</td>\n      <td>2.6</td>\n      <td>0.357</td>\n      <td>0.0</td>\n    </tr>\n    <tr>\n      <th>3</th>\n      <td>2023-01-01 00:45:00</td>\n      <td>7.7</td>\n      <td>85.0</td>\n      <td>5.3</td>\n      <td>5.5</td>\n      <td>0.0</td>\n      <td>0.0</td>\n      <td>0.0</td>\n      <td>992.7</td>\n      <td>7.0</td>\n      <td>6.7</td>\n      <td>144.0</td>\n      <td>2.6</td>\n      <td>0.357</td>\n      <td>0.0</td>\n    </tr>\n    <tr>\n      <th>4</th>\n      <td>2023-01-01 01:00:00</td>\n      <td>7.8</td>\n      <td>84.0</td>\n      <td>5.2</td>\n      <td>5.7</td>\n      <td>0.0</td>\n      <td>0.0</td>\n      <td>0.0</td>\n      <td>992.8</td>\n      <td>4.0</td>\n      <td>6.4</td>\n      <td>133.0</td>\n      <td>2.1</td>\n      <td>0.356</td>\n      <td>0.0</td>\n    </tr>\n  </tbody>\n</table>\n</div>"
     },
     "execution_count": 64,
     "metadata": {},
     "output_type": "execute_result"
    }
   ],
   "source": [
    "df['time'] = df['time'].apply(lambda x: x.replace(minute=35) if x.minute == 30 else x)\n",
    "df.head()"
   ],
   "metadata": {
    "collapsed": false,
    "ExecuteTime": {
     "end_time": "2024-01-04T10:17:41.596074Z",
     "start_time": "2024-01-04T10:17:41.491294Z"
    }
   },
   "id": "56d1f76fe840c1c0",
   "execution_count": 64
  },
  {
   "cell_type": "code",
   "outputs": [
    {
     "data": {
      "text/plain": "                 time  temperature_2m (°C)  relative_humidity_2m (%)  \\\n1 2023-01-01 00:15:00                  7.7                      85.0   \n2 2023-01-01 00:35:00                  7.7                      85.0   \n5 2023-01-01 01:15:00                  7.8                      84.0   \n6 2023-01-01 01:35:00                  7.8                      84.0   \n9 2023-01-01 02:15:00                  4.8                      92.0   \n\n   dew_point_2m (°C)  apparent_temperature (°C)  precipitation (mm)  \\\n1                5.3                        5.5                 0.0   \n2                5.3                        5.5                 0.0   \n5                5.2                        5.7                 0.0   \n6                5.2                        5.7                 0.0   \n9                3.6                        1.9                 0.0   \n\n   rain (mm)  snowfall (cm)  surface_pressure (hPa)  cloud_cover (%)  \\\n1        0.0            0.0                   992.7              7.0   \n2        0.0            0.0                   992.7              7.0   \n5        0.0            0.0                   992.8              4.0   \n6        0.0            0.0                   992.8              4.0   \n9        0.0            0.0                   992.5             10.0   \n\n   wind_speed_10m (km/h)  wind_direction_10m (°)  \\\n1                    6.7                   144.0   \n2                    6.7                   144.0   \n5                    6.4                   133.0   \n6                    6.4                   133.0   \n9                    9.2                   141.0   \n\n   soil_temperature_0_to_7cm (°C)  soil_moisture_0_to_7cm (m³/m³)  is_day ()  \n1                             2.6                           0.357        0.0  \n2                             2.6                           0.357        0.0  \n5                             2.1                           0.356        0.0  \n6                             2.1                           0.356        0.0  \n9                             1.8                           0.356        0.0  ",
      "text/html": "<div>\n<style scoped>\n    .dataframe tbody tr th:only-of-type {\n        vertical-align: middle;\n    }\n\n    .dataframe tbody tr th {\n        vertical-align: top;\n    }\n\n    .dataframe thead th {\n        text-align: right;\n    }\n</style>\n<table border=\"1\" class=\"dataframe\">\n  <thead>\n    <tr style=\"text-align: right;\">\n      <th></th>\n      <th>time</th>\n      <th>temperature_2m (°C)</th>\n      <th>relative_humidity_2m (%)</th>\n      <th>dew_point_2m (°C)</th>\n      <th>apparent_temperature (°C)</th>\n      <th>precipitation (mm)</th>\n      <th>rain (mm)</th>\n      <th>snowfall (cm)</th>\n      <th>surface_pressure (hPa)</th>\n      <th>cloud_cover (%)</th>\n      <th>wind_speed_10m (km/h)</th>\n      <th>wind_direction_10m (°)</th>\n      <th>soil_temperature_0_to_7cm (°C)</th>\n      <th>soil_moisture_0_to_7cm (m³/m³)</th>\n      <th>is_day ()</th>\n    </tr>\n  </thead>\n  <tbody>\n    <tr>\n      <th>1</th>\n      <td>2023-01-01 00:15:00</td>\n      <td>7.7</td>\n      <td>85.0</td>\n      <td>5.3</td>\n      <td>5.5</td>\n      <td>0.0</td>\n      <td>0.0</td>\n      <td>0.0</td>\n      <td>992.7</td>\n      <td>7.0</td>\n      <td>6.7</td>\n      <td>144.0</td>\n      <td>2.6</td>\n      <td>0.357</td>\n      <td>0.0</td>\n    </tr>\n    <tr>\n      <th>2</th>\n      <td>2023-01-01 00:35:00</td>\n      <td>7.7</td>\n      <td>85.0</td>\n      <td>5.3</td>\n      <td>5.5</td>\n      <td>0.0</td>\n      <td>0.0</td>\n      <td>0.0</td>\n      <td>992.7</td>\n      <td>7.0</td>\n      <td>6.7</td>\n      <td>144.0</td>\n      <td>2.6</td>\n      <td>0.357</td>\n      <td>0.0</td>\n    </tr>\n    <tr>\n      <th>5</th>\n      <td>2023-01-01 01:15:00</td>\n      <td>7.8</td>\n      <td>84.0</td>\n      <td>5.2</td>\n      <td>5.7</td>\n      <td>0.0</td>\n      <td>0.0</td>\n      <td>0.0</td>\n      <td>992.8</td>\n      <td>4.0</td>\n      <td>6.4</td>\n      <td>133.0</td>\n      <td>2.1</td>\n      <td>0.356</td>\n      <td>0.0</td>\n    </tr>\n    <tr>\n      <th>6</th>\n      <td>2023-01-01 01:35:00</td>\n      <td>7.8</td>\n      <td>84.0</td>\n      <td>5.2</td>\n      <td>5.7</td>\n      <td>0.0</td>\n      <td>0.0</td>\n      <td>0.0</td>\n      <td>992.8</td>\n      <td>4.0</td>\n      <td>6.4</td>\n      <td>133.0</td>\n      <td>2.1</td>\n      <td>0.356</td>\n      <td>0.0</td>\n    </tr>\n    <tr>\n      <th>9</th>\n      <td>2023-01-01 02:15:00</td>\n      <td>4.8</td>\n      <td>92.0</td>\n      <td>3.6</td>\n      <td>1.9</td>\n      <td>0.0</td>\n      <td>0.0</td>\n      <td>0.0</td>\n      <td>992.5</td>\n      <td>10.0</td>\n      <td>9.2</td>\n      <td>141.0</td>\n      <td>1.8</td>\n      <td>0.356</td>\n      <td>0.0</td>\n    </tr>\n  </tbody>\n</table>\n</div>"
     },
     "execution_count": 65,
     "metadata": {},
     "output_type": "execute_result"
    }
   ],
   "source": [
    "df = df[df['time'].dt.minute.isin([15, 35])]\n",
    "df.head()"
   ],
   "metadata": {
    "collapsed": false,
    "ExecuteTime": {
     "end_time": "2024-01-04T10:17:41.596427Z",
     "start_time": "2024-01-04T10:17:41.586882Z"
    }
   },
   "id": "9994143649c41087",
   "execution_count": 65
  },
  {
   "cell_type": "code",
   "outputs": [],
   "source": [
    "df.to_csv(\"data/weather.csv\", index=False)"
   ],
   "metadata": {
    "collapsed": false,
    "ExecuteTime": {
     "end_time": "2024-01-04T10:17:41.677076Z",
     "start_time": "2024-01-04T10:17:41.595777Z"
    }
   },
   "id": "ef1afcc894e9d207",
   "execution_count": 66
  }
 ],
 "metadata": {
  "kernelspec": {
   "display_name": "Python 3",
   "language": "python",
   "name": "python3"
  },
  "language_info": {
   "codemirror_mode": {
    "name": "ipython",
    "version": 2
   },
   "file_extension": ".py",
   "mimetype": "text/x-python",
   "name": "python",
   "nbconvert_exporter": "python",
   "pygments_lexer": "ipython2",
   "version": "2.7.6"
  }
 },
 "nbformat": 4,
 "nbformat_minor": 5
}
