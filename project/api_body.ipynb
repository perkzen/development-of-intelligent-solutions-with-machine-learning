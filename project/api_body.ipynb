{
 "cells": [
  {
   "cell_type": "code",
   "execution_count": 30,
   "id": "initial_id",
   "metadata": {
    "collapsed": true,
    "ExecuteTime": {
     "end_time": "2024-01-15T21:17:21.758318Z",
     "start_time": "2024-01-15T21:17:21.751918Z"
    }
   },
   "outputs": [],
   "source": [
    "import pandas as pd"
   ]
  },
  {
   "cell_type": "code",
   "outputs": [],
   "source": [
    "df = pd.read_json('out/data.json')"
   ],
   "metadata": {
    "collapsed": false,
    "ExecuteTime": {
     "end_time": "2024-01-15T21:17:21.774834Z",
     "start_time": "2024-01-15T21:17:21.760923Z"
    }
   },
   "id": "8104c4ddc0808a77",
   "execution_count": 31
  },
  {
   "cell_type": "code",
   "outputs": [],
   "source": [
    "window_size = 48"
   ],
   "metadata": {
    "collapsed": false,
    "ExecuteTime": {
     "end_time": "2024-01-15T21:17:21.778434Z",
     "start_time": "2024-01-15T21:17:21.773238Z"
    }
   },
   "id": "d0fcb07be4290375",
   "execution_count": 32
  },
  {
   "cell_type": "code",
   "outputs": [
    {
     "data": {
      "text/plain": "   PM10     PM2.5  PM2.5/03  PM2.5/N02\n0    90  4.262680 -1.330910   0.014185\n1    86  4.330733  3.637586   0.305382\n2    86  4.330733  3.637586   0.305382\n3    78  4.290459  3.597312   0.419258\n4    78  4.290459  3.597312   0.419258",
      "text/html": "<div>\n<style scoped>\n    .dataframe tbody tr th:only-of-type {\n        vertical-align: middle;\n    }\n\n    .dataframe tbody tr th {\n        vertical-align: top;\n    }\n\n    .dataframe thead th {\n        text-align: right;\n    }\n</style>\n<table border=\"1\" class=\"dataframe\">\n  <thead>\n    <tr style=\"text-align: right;\">\n      <th></th>\n      <th>PM10</th>\n      <th>PM2.5</th>\n      <th>PM2.5/03</th>\n      <th>PM2.5/N02</th>\n    </tr>\n  </thead>\n  <tbody>\n    <tr>\n      <th>0</th>\n      <td>90</td>\n      <td>4.262680</td>\n      <td>-1.330910</td>\n      <td>0.014185</td>\n    </tr>\n    <tr>\n      <th>1</th>\n      <td>86</td>\n      <td>4.330733</td>\n      <td>3.637586</td>\n      <td>0.305382</td>\n    </tr>\n    <tr>\n      <th>2</th>\n      <td>86</td>\n      <td>4.330733</td>\n      <td>3.637586</td>\n      <td>0.305382</td>\n    </tr>\n    <tr>\n      <th>3</th>\n      <td>78</td>\n      <td>4.290459</td>\n      <td>3.597312</td>\n      <td>0.419258</td>\n    </tr>\n    <tr>\n      <th>4</th>\n      <td>78</td>\n      <td>4.290459</td>\n      <td>3.597312</td>\n      <td>0.419258</td>\n    </tr>\n  </tbody>\n</table>\n</div>"
     },
     "execution_count": 33,
     "metadata": {},
     "output_type": "execute_result"
    }
   ],
   "source": [
    "df.head()"
   ],
   "metadata": {
    "collapsed": false,
    "ExecuteTime": {
     "end_time": "2024-01-15T21:17:21.784190Z",
     "start_time": "2024-01-15T21:17:21.776076Z"
    }
   },
   "id": "b65919b18f6f5293",
   "execution_count": 33
  },
  {
   "cell_type": "code",
   "outputs": [],
   "source": [
    "df.columns = [\"pm10\", \"pm25\", \"pm25_o3\", \"pm25_no2\"]"
   ],
   "metadata": {
    "collapsed": false,
    "ExecuteTime": {
     "end_time": "2024-01-15T21:17:21.786775Z",
     "start_time": "2024-01-15T21:17:21.784007Z"
    }
   },
   "id": "fb58c348b5e73579",
   "execution_count": 34
  },
  {
   "cell_type": "code",
   "outputs": [
    {
     "data": {
      "text/plain": "   pm10      pm25   pm25_o3  pm25_no2\n0    90  4.262680 -1.330910  0.014185\n1    86  4.330733  3.637586  0.305382\n2    86  4.330733  3.637586  0.305382\n3    78  4.290459  3.597312  0.419258\n4    78  4.290459  3.597312  0.419258",
      "text/html": "<div>\n<style scoped>\n    .dataframe tbody tr th:only-of-type {\n        vertical-align: middle;\n    }\n\n    .dataframe tbody tr th {\n        vertical-align: top;\n    }\n\n    .dataframe thead th {\n        text-align: right;\n    }\n</style>\n<table border=\"1\" class=\"dataframe\">\n  <thead>\n    <tr style=\"text-align: right;\">\n      <th></th>\n      <th>pm10</th>\n      <th>pm25</th>\n      <th>pm25_o3</th>\n      <th>pm25_no2</th>\n    </tr>\n  </thead>\n  <tbody>\n    <tr>\n      <th>0</th>\n      <td>90</td>\n      <td>4.262680</td>\n      <td>-1.330910</td>\n      <td>0.014185</td>\n    </tr>\n    <tr>\n      <th>1</th>\n      <td>86</td>\n      <td>4.330733</td>\n      <td>3.637586</td>\n      <td>0.305382</td>\n    </tr>\n    <tr>\n      <th>2</th>\n      <td>86</td>\n      <td>4.330733</td>\n      <td>3.637586</td>\n      <td>0.305382</td>\n    </tr>\n    <tr>\n      <th>3</th>\n      <td>78</td>\n      <td>4.290459</td>\n      <td>3.597312</td>\n      <td>0.419258</td>\n    </tr>\n    <tr>\n      <th>4</th>\n      <td>78</td>\n      <td>4.290459</td>\n      <td>3.597312</td>\n      <td>0.419258</td>\n    </tr>\n  </tbody>\n</table>\n</div>"
     },
     "execution_count": 35,
     "metadata": {},
     "output_type": "execute_result"
    }
   ],
   "source": [
    "df.head()"
   ],
   "metadata": {
    "collapsed": false,
    "ExecuteTime": {
     "end_time": "2024-01-15T21:17:21.793083Z",
     "start_time": "2024-01-15T21:17:21.787014Z"
    }
   },
   "id": "d9732878f5e5396b",
   "execution_count": 35
  },
  {
   "cell_type": "code",
   "outputs": [],
   "source": [
    "df.tail(48).to_json(f'out/body_size_{window_size}.json', orient='records')"
   ],
   "metadata": {
    "collapsed": false,
    "ExecuteTime": {
     "end_time": "2024-01-15T21:17:21.798843Z",
     "start_time": "2024-01-15T21:17:21.792475Z"
    }
   },
   "id": "dbb5dd6d62c7c45f",
   "execution_count": 36
  }
 ],
 "metadata": {
  "kernelspec": {
   "display_name": "Python 3",
   "language": "python",
   "name": "python3"
  },
  "language_info": {
   "codemirror_mode": {
    "name": "ipython",
    "version": 2
   },
   "file_extension": ".py",
   "mimetype": "text/x-python",
   "name": "python",
   "nbconvert_exporter": "python",
   "pygments_lexer": "ipython2",
   "version": "2.7.6"
  }
 },
 "nbformat": 4,
 "nbformat_minor": 5
}
