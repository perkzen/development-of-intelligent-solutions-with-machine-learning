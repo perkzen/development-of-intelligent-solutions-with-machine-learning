{
 "cells": [
  {
   "cell_type": "code",
   "execution_count": 2,
   "id": "initial_id",
   "metadata": {
    "collapsed": true,
    "ExecuteTime": {
     "end_time": "2023-12-13T23:06:38.556715Z",
     "start_time": "2023-12-13T23:06:38.548905Z"
    }
   },
   "outputs": [],
   "source": [
    "import os\n",
    "\n",
    "\n",
    "def getFilePaths(directory):\n",
    "    filepaths = []\n",
    "    for root, dirs, files in os.walk(directory):\n",
    "        for file in files:\n",
    "            if file.endswith(\".jpg\"):\n",
    "                filepaths.append(os.path.join(root, file))\n",
    "    return filepaths\n",
    "\n",
    "\n",
    "def getLabels(filepaths):\n",
    "    labels = []\n",
    "    for file in filepaths:\n",
    "        labels.append(file.split('/')[2])\n",
    "    return labels"
   ]
  },
  {
   "cell_type": "code",
   "execution_count": 3,
   "outputs": [
    {
     "data": {
      "text/plain": "                         filepath  label\n0  data/train/Paper/image_811.jpg  Paper\n1  data/train/Paper/image_805.jpg  Paper\n2  data/train/Paper/image_193.jpg  Paper\n3  data/train/Paper/image_187.jpg  Paper\n4  data/train/Paper/image_839.jpg  Paper",
      "text/html": "<div>\n<style scoped>\n    .dataframe tbody tr th:only-of-type {\n        vertical-align: middle;\n    }\n\n    .dataframe tbody tr th {\n        vertical-align: top;\n    }\n\n    .dataframe thead th {\n        text-align: right;\n    }\n</style>\n<table border=\"1\" class=\"dataframe\">\n  <thead>\n    <tr style=\"text-align: right;\">\n      <th></th>\n      <th>filepath</th>\n      <th>label</th>\n    </tr>\n  </thead>\n  <tbody>\n    <tr>\n      <th>0</th>\n      <td>data/train/Paper/image_811.jpg</td>\n      <td>Paper</td>\n    </tr>\n    <tr>\n      <th>1</th>\n      <td>data/train/Paper/image_805.jpg</td>\n      <td>Paper</td>\n    </tr>\n    <tr>\n      <th>2</th>\n      <td>data/train/Paper/image_193.jpg</td>\n      <td>Paper</td>\n    </tr>\n    <tr>\n      <th>3</th>\n      <td>data/train/Paper/image_187.jpg</td>\n      <td>Paper</td>\n    </tr>\n    <tr>\n      <th>4</th>\n      <td>data/train/Paper/image_839.jpg</td>\n      <td>Paper</td>\n    </tr>\n  </tbody>\n</table>\n</div>"
     },
     "execution_count": 3,
     "metadata": {},
     "output_type": "execute_result"
    }
   ],
   "source": [
    "import pandas as pd\n",
    "\n",
    "train_files = getFilePaths('data/train')\n",
    "train_labels = getLabels(train_files)\n",
    "train_df = pd.DataFrame({'filepath': train_files, 'label': train_labels})\n",
    "train_df.head()"
   ],
   "metadata": {
    "collapsed": false,
    "ExecuteTime": {
     "end_time": "2023-12-13T23:06:38.946329Z",
     "start_time": "2023-12-13T23:06:38.553499Z"
    }
   },
   "id": "1d654010bd650595"
  },
  {
   "cell_type": "code",
   "execution_count": 4,
   "outputs": [
    {
     "data": {
      "text/plain": "                        filepath label\n0  data/test/test_image_1159.jpg  test\n1   data/test/test_image_588.jpg  test\n2  data/test/test_image_1165.jpg  test\n3  data/test/test_image_1171.jpg  test\n4   data/test/test_image_239.jpg  test",
      "text/html": "<div>\n<style scoped>\n    .dataframe tbody tr th:only-of-type {\n        vertical-align: middle;\n    }\n\n    .dataframe tbody tr th {\n        vertical-align: top;\n    }\n\n    .dataframe thead th {\n        text-align: right;\n    }\n</style>\n<table border=\"1\" class=\"dataframe\">\n  <thead>\n    <tr style=\"text-align: right;\">\n      <th></th>\n      <th>filepath</th>\n      <th>label</th>\n    </tr>\n  </thead>\n  <tbody>\n    <tr>\n      <th>0</th>\n      <td>data/test/test_image_1159.jpg</td>\n      <td>test</td>\n    </tr>\n    <tr>\n      <th>1</th>\n      <td>data/test/test_image_588.jpg</td>\n      <td>test</td>\n    </tr>\n    <tr>\n      <th>2</th>\n      <td>data/test/test_image_1165.jpg</td>\n      <td>test</td>\n    </tr>\n    <tr>\n      <th>3</th>\n      <td>data/test/test_image_1171.jpg</td>\n      <td>test</td>\n    </tr>\n    <tr>\n      <th>4</th>\n      <td>data/test/test_image_239.jpg</td>\n      <td>test</td>\n    </tr>\n  </tbody>\n</table>\n</div>"
     },
     "execution_count": 4,
     "metadata": {},
     "output_type": "execute_result"
    }
   ],
   "source": [
    "test_df = pd.DataFrame({'filepath': getFilePaths('data/test'), 'label':\n",
    "    ['test' for i in range(len(getFilePaths('data/test')))]})\n",
    "test_df.head()"
   ],
   "metadata": {
    "collapsed": false,
    "ExecuteTime": {
     "end_time": "2023-12-13T23:06:38.956592Z",
     "start_time": "2023-12-13T23:06:38.947159Z"
    }
   },
   "id": "30c2332e30ec2ac6"
  },
  {
   "cell_type": "code",
   "execution_count": 5,
   "outputs": [],
   "source": [
    "import tensorflow as tf\n",
    "\n",
    "train_datagen = tf.keras.preprocessing.image.ImageDataGenerator(\n",
    "    rescale=1. / 255,\n",
    "    validation_split=0.2,\n",
    "    #zoom_range=0.2,\n",
    ")\n",
    "\n",
    "test_datagen = tf.keras.preprocessing.image.ImageDataGenerator(\n",
    "    rescale=1. / 255\n",
    ")"
   ],
   "metadata": {
    "collapsed": false,
    "ExecuteTime": {
     "end_time": "2023-12-13T23:06:40.692853Z",
     "start_time": "2023-12-13T23:06:38.956556Z"
    }
   },
   "id": "f955a7e7ba6741e0"
  },
  {
   "cell_type": "code",
   "execution_count": 6,
   "outputs": [],
   "source": [
    "img_size = 100\n",
    "batch_size = 32\n",
    "epochs = 100"
   ],
   "metadata": {
    "collapsed": false,
    "ExecuteTime": {
     "end_time": "2023-12-13T23:06:40.698207Z",
     "start_time": "2023-12-13T23:06:40.693544Z"
    }
   },
   "id": "59dd5369d384434"
  },
  {
   "cell_type": "code",
   "execution_count": 7,
   "outputs": [],
   "source": [
    "import keras\n",
    "from keras import layers\n",
    "\n",
    "def build_model():\n",
    "    model = keras.Sequential()\n",
    "    model.add(layers.Conv2D(16, (3, 3), activation='relu', input_shape=(img_size, img_size, 1)))\n",
    "    model.add(layers.MaxPooling2D((2, 2)))\n",
    "    model.add(layers.Conv2D(16, (3, 3), activation='relu'))\n",
    "    model.add(layers.MaxPooling2D((2, 2)))\n",
    "    model.add(layers.Flatten())\n",
    "    model.add(layers.Dense(128, activation='relu'))\n",
    "    model.add(layers.Dense(3, activation='softmax'))\n",
    "    model.compile(optimizer='adam', loss='categorical_crossentropy', metrics=['accuracy'])\n",
    "    return model"
   ],
   "metadata": {
    "collapsed": false,
    "ExecuteTime": {
     "end_time": "2023-12-13T23:06:40.702605Z",
     "start_time": "2023-12-13T23:06:40.697820Z"
    }
   },
   "id": "5252d1aadddb1214"
  },
  {
   "cell_type": "code",
   "execution_count": 8,
   "outputs": [
    {
     "name": "stdout",
     "output_type": "stream",
     "text": [
      "Found 2520 validated image filenames belonging to 3 classes.\n",
      "Found 630 validated image filenames belonging to 3 classes.\n",
      "Found 1350 validated image filenames belonging to 1 classes.\n",
      "Epoch 1/100\n"
     ]
    },
    {
     "name": "stderr",
     "output_type": "stream",
     "text": [
      "2023-12-14 00:06:40.822169: W tensorflow/tsl/platform/profile_utils/cpu_utils.cc:128] Failed to get CPU frequency: 0 Hz\n"
     ]
    },
    {
     "name": "stdout",
     "output_type": "stream",
     "text": [
      "79/79 [==============================] - 3s 31ms/step - loss: 0.7163 - accuracy: 0.6762 - val_loss: 0.8048 - val_accuracy: 0.6825\n",
      "Epoch 2/100\n",
      "79/79 [==============================] - 3s 32ms/step - loss: 0.3343 - accuracy: 0.8817 - val_loss: 0.1382 - val_accuracy: 0.9587\n",
      "Epoch 3/100\n",
      "79/79 [==============================] - 2s 30ms/step - loss: 0.2017 - accuracy: 0.9361 - val_loss: 0.4421 - val_accuracy: 0.8222\n",
      "Epoch 4/100\n",
      "79/79 [==============================] - 3s 32ms/step - loss: 0.1519 - accuracy: 0.9488 - val_loss: 0.5179 - val_accuracy: 0.8032\n",
      "Epoch 5/100\n",
      "79/79 [==============================] - 3s 32ms/step - loss: 0.0770 - accuracy: 0.9750 - val_loss: 0.1644 - val_accuracy: 0.9508\n",
      "Epoch 6/100\n",
      "79/79 [==============================] - 3s 33ms/step - loss: 0.0464 - accuracy: 0.9881 - val_loss: 0.1595 - val_accuracy: 0.9444\n",
      "Epoch 7/100\n",
      "79/79 [==============================] - 3s 32ms/step - loss: 0.0263 - accuracy: 0.9948 - val_loss: 0.2810 - val_accuracy: 0.9095\n",
      "Epoch 8/100\n",
      "79/79 [==============================] - 3s 34ms/step - loss: 0.0311 - accuracy: 0.9921 - val_loss: 0.1905 - val_accuracy: 0.9333\n",
      "Epoch 9/100\n",
      "79/79 [==============================] - 3s 35ms/step - loss: 0.0161 - accuracy: 0.9972 - val_loss: 0.1469 - val_accuracy: 0.9508\n",
      "Epoch 10/100\n",
      "79/79 [==============================] - 3s 34ms/step - loss: 0.0076 - accuracy: 0.9996 - val_loss: 0.2695 - val_accuracy: 0.9079\n",
      "Epoch 11/100\n",
      "79/79 [==============================] - 2s 30ms/step - loss: 0.0047 - accuracy: 1.0000 - val_loss: 0.1962 - val_accuracy: 0.9429\n",
      "Epoch 12/100\n",
      "79/79 [==============================] - 2s 30ms/step - loss: 0.0026 - accuracy: 1.0000 - val_loss: 0.1804 - val_accuracy: 0.9524\n",
      "Epoch 13/100\n",
      "79/79 [==============================] - 2s 31ms/step - loss: 0.0019 - accuracy: 1.0000 - val_loss: 0.1694 - val_accuracy: 0.9540\n",
      "Epoch 14/100\n",
      "79/79 [==============================] - 2s 30ms/step - loss: 0.0015 - accuracy: 1.0000 - val_loss: 0.1706 - val_accuracy: 0.9524\n",
      "Epoch 15/100\n",
      "79/79 [==============================] - 2s 30ms/step - loss: 0.0012 - accuracy: 1.0000 - val_loss: 0.2016 - val_accuracy: 0.9476\n",
      "Epoch 16/100\n",
      "79/79 [==============================] - 2s 31ms/step - loss: 9.9960e-04 - accuracy: 1.0000 - val_loss: 0.1797 - val_accuracy: 0.9524\n",
      "Epoch 17/100\n",
      "79/79 [==============================] - 3s 33ms/step - loss: 8.6606e-04 - accuracy: 1.0000 - val_loss: 0.1824 - val_accuracy: 0.9508\n",
      "Epoch 18/100\n",
      "79/79 [==============================] - 3s 32ms/step - loss: 7.4473e-04 - accuracy: 1.0000 - val_loss: 0.1950 - val_accuracy: 0.9492\n",
      "Epoch 19/100\n",
      "79/79 [==============================] - 2s 31ms/step - loss: 6.4133e-04 - accuracy: 1.0000 - val_loss: 0.1729 - val_accuracy: 0.9540\n",
      "Epoch 20/100\n",
      "79/79 [==============================] - 2s 31ms/step - loss: 5.7578e-04 - accuracy: 1.0000 - val_loss: 0.2042 - val_accuracy: 0.9492\n",
      "Epoch 21/100\n",
      "79/79 [==============================] - 3s 32ms/step - loss: 5.2008e-04 - accuracy: 1.0000 - val_loss: 0.1796 - val_accuracy: 0.9524\n",
      "Epoch 22/100\n",
      "79/79 [==============================] - 3s 32ms/step - loss: 4.6662e-04 - accuracy: 1.0000 - val_loss: 0.2032 - val_accuracy: 0.9492\n",
      "Epoch 23/100\n",
      "79/79 [==============================] - 2s 31ms/step - loss: 3.9224e-04 - accuracy: 1.0000 - val_loss: 0.1858 - val_accuracy: 0.9508\n",
      "Epoch 24/100\n",
      "79/79 [==============================] - 2s 31ms/step - loss: 3.5484e-04 - accuracy: 1.0000 - val_loss: 0.2304 - val_accuracy: 0.9476\n",
      "Epoch 25/100\n",
      "79/79 [==============================] - 3s 33ms/step - loss: 3.3100e-04 - accuracy: 1.0000 - val_loss: 0.1879 - val_accuracy: 0.9508\n",
      "Epoch 26/100\n",
      "79/79 [==============================] - 2s 31ms/step - loss: 2.9682e-04 - accuracy: 1.0000 - val_loss: 0.1987 - val_accuracy: 0.9492\n",
      "Epoch 27/100\n",
      "79/79 [==============================] - 2s 31ms/step - loss: 2.5765e-04 - accuracy: 1.0000 - val_loss: 0.2083 - val_accuracy: 0.9476\n",
      "Epoch 28/100\n",
      "79/79 [==============================] - 3s 32ms/step - loss: 2.4199e-04 - accuracy: 1.0000 - val_loss: 0.2186 - val_accuracy: 0.9476\n",
      "Epoch 29/100\n",
      "79/79 [==============================] - 3s 32ms/step - loss: 2.1305e-04 - accuracy: 1.0000 - val_loss: 0.1814 - val_accuracy: 0.9524\n",
      "Epoch 30/100\n",
      "79/79 [==============================] - 3s 33ms/step - loss: 2.0402e-04 - accuracy: 1.0000 - val_loss: 0.1973 - val_accuracy: 0.9492\n",
      "Epoch 31/100\n",
      "79/79 [==============================] - 3s 34ms/step - loss: 1.8138e-04 - accuracy: 1.0000 - val_loss: 0.2257 - val_accuracy: 0.9476\n",
      "Epoch 32/100\n",
      "79/79 [==============================] - 3s 34ms/step - loss: 1.7120e-04 - accuracy: 1.0000 - val_loss: 0.2328 - val_accuracy: 0.9476\n",
      "Epoch 33/100\n",
      "79/79 [==============================] - 2s 31ms/step - loss: 1.6521e-04 - accuracy: 1.0000 - val_loss: 0.2308 - val_accuracy: 0.9476\n",
      "Epoch 34/100\n",
      "79/79 [==============================] - 3s 32ms/step - loss: 1.4683e-04 - accuracy: 1.0000 - val_loss: 0.2556 - val_accuracy: 0.9460\n",
      "Epoch 35/100\n",
      "79/79 [==============================] - 2s 31ms/step - loss: 1.3335e-04 - accuracy: 1.0000 - val_loss: 0.2273 - val_accuracy: 0.9460\n",
      "Epoch 36/100\n",
      "79/79 [==============================] - 2s 31ms/step - loss: 1.2318e-04 - accuracy: 1.0000 - val_loss: 0.2205 - val_accuracy: 0.9476\n",
      "Epoch 37/100\n",
      "79/79 [==============================] - 2s 31ms/step - loss: 1.1609e-04 - accuracy: 1.0000 - val_loss: 0.2204 - val_accuracy: 0.9476\n",
      "Epoch 38/100\n",
      "79/79 [==============================] - 2s 30ms/step - loss: 1.0905e-04 - accuracy: 1.0000 - val_loss: 0.2239 - val_accuracy: 0.9492\n",
      "Epoch 39/100\n",
      "79/79 [==============================] - 2s 31ms/step - loss: 1.0322e-04 - accuracy: 1.0000 - val_loss: 0.2188 - val_accuracy: 0.9476\n",
      "Epoch 40/100\n",
      "79/79 [==============================] - 3s 32ms/step - loss: 9.1778e-05 - accuracy: 1.0000 - val_loss: 0.2440 - val_accuracy: 0.9460\n",
      "Epoch 41/100\n",
      "79/79 [==============================] - 2s 31ms/step - loss: 9.3930e-05 - accuracy: 1.0000 - val_loss: 0.2357 - val_accuracy: 0.9460\n",
      "Epoch 42/100\n",
      "79/79 [==============================] - 2s 31ms/step - loss: 8.1879e-05 - accuracy: 1.0000 - val_loss: 0.2338 - val_accuracy: 0.9444\n",
      "Epoch 43/100\n",
      "79/79 [==============================] - 2s 31ms/step - loss: 7.5359e-05 - accuracy: 1.0000 - val_loss: 0.2332 - val_accuracy: 0.9460\n",
      "Epoch 44/100\n",
      "79/79 [==============================] - 3s 32ms/step - loss: 6.9960e-05 - accuracy: 1.0000 - val_loss: 0.2419 - val_accuracy: 0.9460\n",
      "Epoch 45/100\n",
      "79/79 [==============================] - 3s 32ms/step - loss: 6.5907e-05 - accuracy: 1.0000 - val_loss: 0.2505 - val_accuracy: 0.9460\n",
      "Epoch 46/100\n",
      "79/79 [==============================] - 3s 32ms/step - loss: 6.5043e-05 - accuracy: 1.0000 - val_loss: 0.2327 - val_accuracy: 0.9460\n",
      "Epoch 47/100\n",
      "79/79 [==============================] - 2s 31ms/step - loss: 6.0710e-05 - accuracy: 1.0000 - val_loss: 0.2293 - val_accuracy: 0.9492\n",
      "Epoch 48/100\n",
      "79/79 [==============================] - 3s 32ms/step - loss: 5.4963e-05 - accuracy: 1.0000 - val_loss: 0.2446 - val_accuracy: 0.9444\n",
      "Epoch 49/100\n",
      "79/79 [==============================] - 2s 30ms/step - loss: 5.0409e-05 - accuracy: 1.0000 - val_loss: 0.2498 - val_accuracy: 0.9460\n",
      "Epoch 50/100\n",
      "79/79 [==============================] - 2s 31ms/step - loss: 4.8213e-05 - accuracy: 1.0000 - val_loss: 0.2224 - val_accuracy: 0.9492\n",
      "Epoch 51/100\n",
      "79/79 [==============================] - 2s 29ms/step - loss: 4.6084e-05 - accuracy: 1.0000 - val_loss: 0.2437 - val_accuracy: 0.9460\n",
      "Epoch 52/100\n",
      "79/79 [==============================] - 2s 31ms/step - loss: 4.2662e-05 - accuracy: 1.0000 - val_loss: 0.2385 - val_accuracy: 0.9460\n",
      "Epoch 53/100\n",
      "79/79 [==============================] - 2s 31ms/step - loss: 4.0031e-05 - accuracy: 1.0000 - val_loss: 0.2315 - val_accuracy: 0.9460\n",
      "Epoch 54/100\n",
      "79/79 [==============================] - 2s 30ms/step - loss: 3.9103e-05 - accuracy: 1.0000 - val_loss: 0.2455 - val_accuracy: 0.9460\n",
      "Epoch 55/100\n",
      "79/79 [==============================] - 2s 30ms/step - loss: 3.6279e-05 - accuracy: 1.0000 - val_loss: 0.2649 - val_accuracy: 0.9444\n",
      "Epoch 56/100\n",
      "79/79 [==============================] - 3s 32ms/step - loss: 3.3746e-05 - accuracy: 1.0000 - val_loss: 0.2504 - val_accuracy: 0.9444\n",
      "Epoch 57/100\n",
      "79/79 [==============================] - 3s 32ms/step - loss: 3.1540e-05 - accuracy: 1.0000 - val_loss: 0.2375 - val_accuracy: 0.9444\n",
      "Epoch 58/100\n",
      "79/79 [==============================] - 3s 32ms/step - loss: 3.0402e-05 - accuracy: 1.0000 - val_loss: 0.2646 - val_accuracy: 0.9444\n",
      "Epoch 59/100\n",
      "79/79 [==============================] - 2s 32ms/step - loss: 2.8725e-05 - accuracy: 1.0000 - val_loss: 0.2506 - val_accuracy: 0.9460\n",
      "Epoch 60/100\n",
      "79/79 [==============================] - 3s 32ms/step - loss: 2.8131e-05 - accuracy: 1.0000 - val_loss: 0.2486 - val_accuracy: 0.9444\n",
      "Epoch 61/100\n",
      "79/79 [==============================] - 3s 35ms/step - loss: 2.6078e-05 - accuracy: 1.0000 - val_loss: 0.2580 - val_accuracy: 0.9444\n",
      "Epoch 62/100\n",
      "79/79 [==============================] - 3s 32ms/step - loss: 2.4895e-05 - accuracy: 1.0000 - val_loss: 0.2597 - val_accuracy: 0.9444\n",
      "Epoch 63/100\n",
      "79/79 [==============================] - 3s 32ms/step - loss: 2.3003e-05 - accuracy: 1.0000 - val_loss: 0.2538 - val_accuracy: 0.9460\n",
      "Epoch 64/100\n",
      "79/79 [==============================] - 3s 32ms/step - loss: 2.2536e-05 - accuracy: 1.0000 - val_loss: 0.2535 - val_accuracy: 0.9444\n",
      "Epoch 65/100\n",
      "79/79 [==============================] - 3s 32ms/step - loss: 2.0993e-05 - accuracy: 1.0000 - val_loss: 0.2462 - val_accuracy: 0.9460\n",
      "Epoch 66/100\n",
      "79/79 [==============================] - 2s 31ms/step - loss: 1.9477e-05 - accuracy: 1.0000 - val_loss: 0.2759 - val_accuracy: 0.9444\n",
      "Epoch 67/100\n",
      "79/79 [==============================] - 3s 32ms/step - loss: 1.8533e-05 - accuracy: 1.0000 - val_loss: 0.2570 - val_accuracy: 0.9444\n",
      "Epoch 68/100\n",
      "79/79 [==============================] - 3s 32ms/step - loss: 1.7763e-05 - accuracy: 1.0000 - val_loss: 0.2767 - val_accuracy: 0.9429\n",
      "Epoch 69/100\n",
      "79/79 [==============================] - 3s 32ms/step - loss: 1.6823e-05 - accuracy: 1.0000 - val_loss: 0.2702 - val_accuracy: 0.9444\n",
      "Epoch 70/100\n",
      "79/79 [==============================] - 3s 32ms/step - loss: 1.6181e-05 - accuracy: 1.0000 - val_loss: 0.2646 - val_accuracy: 0.9460\n",
      "Epoch 71/100\n",
      "79/79 [==============================] - 2s 31ms/step - loss: 1.5616e-05 - accuracy: 1.0000 - val_loss: 0.2690 - val_accuracy: 0.9444\n",
      "Epoch 72/100\n",
      "79/79 [==============================] - 2s 30ms/step - loss: 1.4384e-05 - accuracy: 1.0000 - val_loss: 0.2646 - val_accuracy: 0.9460\n",
      "Epoch 73/100\n",
      "79/79 [==============================] - 2s 31ms/step - loss: 1.3832e-05 - accuracy: 1.0000 - val_loss: 0.2673 - val_accuracy: 0.9444\n",
      "Epoch 74/100\n",
      "79/79 [==============================] - 2s 31ms/step - loss: 1.2969e-05 - accuracy: 1.0000 - val_loss: 0.2778 - val_accuracy: 0.9444\n",
      "Epoch 75/100\n",
      "79/79 [==============================] - 3s 32ms/step - loss: 1.2431e-05 - accuracy: 1.0000 - val_loss: 0.2683 - val_accuracy: 0.9444\n",
      "Epoch 76/100\n",
      "79/79 [==============================] - 2s 31ms/step - loss: 1.1473e-05 - accuracy: 1.0000 - val_loss: 0.2748 - val_accuracy: 0.9460\n",
      "Epoch 77/100\n",
      "79/79 [==============================] - 2s 31ms/step - loss: 1.1417e-05 - accuracy: 1.0000 - val_loss: 0.2721 - val_accuracy: 0.9444\n",
      "Epoch 78/100\n",
      "79/79 [==============================] - 2s 30ms/step - loss: 1.0597e-05 - accuracy: 1.0000 - val_loss: 0.3047 - val_accuracy: 0.9413\n",
      "Epoch 79/100\n",
      "79/79 [==============================] - 2s 30ms/step - loss: 1.0128e-05 - accuracy: 1.0000 - val_loss: 0.2760 - val_accuracy: 0.9444\n",
      "Epoch 80/100\n",
      "79/79 [==============================] - 3s 32ms/step - loss: 9.4221e-06 - accuracy: 1.0000 - val_loss: 0.2733 - val_accuracy: 0.9460\n",
      "Epoch 81/100\n",
      "79/79 [==============================] - 2s 31ms/step - loss: 9.1124e-06 - accuracy: 1.0000 - val_loss: 0.2867 - val_accuracy: 0.9429\n",
      "Epoch 82/100\n",
      "79/79 [==============================] - 2s 30ms/step - loss: 8.5963e-06 - accuracy: 1.0000 - val_loss: 0.2952 - val_accuracy: 0.9429\n",
      "Epoch 83/100\n",
      "79/79 [==============================] - 2s 31ms/step - loss: 8.2752e-06 - accuracy: 1.0000 - val_loss: 0.2800 - val_accuracy: 0.9444\n",
      "Epoch 84/100\n",
      "79/79 [==============================] - 3s 33ms/step - loss: 8.0459e-06 - accuracy: 1.0000 - val_loss: 0.2993 - val_accuracy: 0.9429\n",
      "Epoch 85/100\n",
      "79/79 [==============================] - 2s 31ms/step - loss: 7.5329e-06 - accuracy: 1.0000 - val_loss: 0.2888 - val_accuracy: 0.9444\n",
      "Epoch 86/100\n",
      "79/79 [==============================] - 3s 32ms/step - loss: 7.1678e-06 - accuracy: 1.0000 - val_loss: 0.3025 - val_accuracy: 0.9444\n",
      "Epoch 87/100\n",
      "79/79 [==============================] - 3s 32ms/step - loss: 6.8666e-06 - accuracy: 1.0000 - val_loss: 0.3005 - val_accuracy: 0.9429\n",
      "Epoch 88/100\n",
      "79/79 [==============================] - 2s 31ms/step - loss: 6.4841e-06 - accuracy: 1.0000 - val_loss: 0.2909 - val_accuracy: 0.9429\n",
      "Epoch 89/100\n",
      "79/79 [==============================] - 3s 32ms/step - loss: 6.1602e-06 - accuracy: 1.0000 - val_loss: 0.2718 - val_accuracy: 0.9460\n",
      "Epoch 90/100\n",
      "79/79 [==============================] - 3s 32ms/step - loss: 5.8192e-06 - accuracy: 1.0000 - val_loss: 0.2993 - val_accuracy: 0.9429\n",
      "Epoch 91/100\n",
      "79/79 [==============================] - 3s 32ms/step - loss: 5.5629e-06 - accuracy: 1.0000 - val_loss: 0.2794 - val_accuracy: 0.9460\n",
      "Epoch 92/100\n",
      "79/79 [==============================] - 3s 33ms/step - loss: 5.3871e-06 - accuracy: 1.0000 - val_loss: 0.2782 - val_accuracy: 0.9460\n",
      "Epoch 93/100\n",
      "79/79 [==============================] - 3s 36ms/step - loss: 5.2124e-06 - accuracy: 1.0000 - val_loss: 0.2816 - val_accuracy: 0.9460\n",
      "Epoch 94/100\n",
      "79/79 [==============================] - 3s 38ms/step - loss: 4.7749e-06 - accuracy: 1.0000 - val_loss: 0.2812 - val_accuracy: 0.9460\n",
      "Epoch 95/100\n",
      "79/79 [==============================] - 3s 38ms/step - loss: 4.6210e-06 - accuracy: 1.0000 - val_loss: 0.2838 - val_accuracy: 0.9460\n",
      "Epoch 96/100\n",
      "79/79 [==============================] - 3s 32ms/step - loss: 4.6179e-06 - accuracy: 1.0000 - val_loss: 0.2826 - val_accuracy: 0.9460\n",
      "Epoch 97/100\n",
      "79/79 [==============================] - 3s 32ms/step - loss: 4.3185e-06 - accuracy: 1.0000 - val_loss: 0.2784 - val_accuracy: 0.9460\n",
      "Epoch 98/100\n",
      "79/79 [==============================] - 3s 32ms/step - loss: 3.9996e-06 - accuracy: 1.0000 - val_loss: 0.3216 - val_accuracy: 0.9429\n",
      "Epoch 99/100\n",
      "79/79 [==============================] - 2s 31ms/step - loss: 3.8380e-06 - accuracy: 1.0000 - val_loss: 0.3074 - val_accuracy: 0.9429\n",
      "Epoch 100/100\n",
      "79/79 [==============================] - 3s 32ms/step - loss: 3.7017e-06 - accuracy: 1.0000 - val_loss: 0.3023 - val_accuracy: 0.9460\n",
      "Average train accuracy:  0.9938968253135682\n",
      "Average train loss:  0.016307612008524756\n",
      "Average val accuracy:  0.9403809434175492\n",
      "Average val loss:  0.252826214581728\n",
      "1350/1350 [==============================] - 2s 2ms/step\n",
      "['Paper', 'Rock', 'Scissors']\n"
     ]
    }
   ],
   "source": [
    "import numpy as np\n",
    "batch_size = 32\n",
    "\n",
    "train_generator = train_datagen.flow_from_dataframe(\n",
    "    dataframe=train_df,\n",
    "    x_col=\"filepath\",\n",
    "    y_col=\"label\",\n",
    "    subset=\"training\",\n",
    "    batch_size=batch_size,\n",
    "    target_size=(img_size, img_size),\n",
    "    shuffle=True,\n",
    "    seed=1234,\n",
    "    color_mode='grayscale'\n",
    ")\n",
    "\n",
    "validation_generator = train_datagen.flow_from_dataframe(\n",
    "    dataframe=train_df,\n",
    "    x_col=\"filepath\",\n",
    "    y_col=\"label\",\n",
    "    subset=\"validation\",\n",
    "    batch_size=batch_size,\n",
    "    target_size=(img_size, img_size),\n",
    "    shuffle=True,\n",
    "    seed=1234,\n",
    "    color_mode='grayscale'\n",
    ")\n",
    "\n",
    "test_generator = test_datagen.flow_from_dataframe(\n",
    "    dataframe=test_df,\n",
    "    x_col=\"filepath\",\n",
    "    y_col=\"label\",\n",
    "    batch_size=1,\n",
    "    target_size=(img_size, img_size),\n",
    "    shuffle=False,\n",
    "    color_mode='grayscale'\n",
    ")\n",
    "\n",
    "model = build_model()\n",
    "\n",
    "history = model.fit(\n",
    "    train_generator,\n",
    "    epochs=epochs,\n",
    "    validation_data=validation_generator\n",
    ")\n",
    "\n",
    "train_loss = history.history['loss']\n",
    "val_loss = history.history['val_loss']\n",
    "train_acc = history.history['accuracy']\n",
    "val_acc = history.history['val_accuracy']\n",
    "\n",
    "print(\"Average train accuracy: \", np.mean(train_acc))\n",
    "print(\"Average train loss: \", np.mean(train_loss))\n",
    "print(\"Average val accuracy: \", np.mean(val_acc))\n",
    "print(\"Average val loss: \", np.mean(val_loss))\n",
    "\n",
    "y_pred = model.predict(test_generator)\n",
    "\n",
    "y_pred_classes = np.argmax(y_pred, axis=1)\n",
    "class_indices_list = list(train_generator.class_indices.keys())\n",
    "print(class_indices_list)\n",
    "y_pred_classes = [class_indices_list[i] for i in y_pred_classes]"
   ],
   "metadata": {
    "collapsed": false,
    "ExecuteTime": {
     "end_time": "2023-12-13T23:10:55.938047Z",
     "start_time": "2023-12-13T23:06:40.705477Z"
    }
   },
   "id": "bf224e2635c5c3fe"
  },
  {
   "cell_type": "code",
   "execution_count": 9,
   "outputs": [
    {
     "data": {
      "text/plain": "                 image predicted_class\n0  test_image_1159.jpg            Rock\n1   test_image_588.jpg            Rock\n2  test_image_1165.jpg           Paper\n3  test_image_1171.jpg        Scissors\n4   test_image_239.jpg           Paper",
      "text/html": "<div>\n<style scoped>\n    .dataframe tbody tr th:only-of-type {\n        vertical-align: middle;\n    }\n\n    .dataframe tbody tr th {\n        vertical-align: top;\n    }\n\n    .dataframe thead th {\n        text-align: right;\n    }\n</style>\n<table border=\"1\" class=\"dataframe\">\n  <thead>\n    <tr style=\"text-align: right;\">\n      <th></th>\n      <th>image</th>\n      <th>predicted_class</th>\n    </tr>\n  </thead>\n  <tbody>\n    <tr>\n      <th>0</th>\n      <td>test_image_1159.jpg</td>\n      <td>Rock</td>\n    </tr>\n    <tr>\n      <th>1</th>\n      <td>test_image_588.jpg</td>\n      <td>Rock</td>\n    </tr>\n    <tr>\n      <th>2</th>\n      <td>test_image_1165.jpg</td>\n      <td>Paper</td>\n    </tr>\n    <tr>\n      <th>3</th>\n      <td>test_image_1171.jpg</td>\n      <td>Scissors</td>\n    </tr>\n    <tr>\n      <th>4</th>\n      <td>test_image_239.jpg</td>\n      <td>Paper</td>\n    </tr>\n  </tbody>\n</table>\n</div>"
     },
     "execution_count": 9,
     "metadata": {},
     "output_type": "execute_result"
    }
   ],
   "source": [
    "data = {'image': test_df['filepath'].apply(lambda x: os.path.basename(x)), 'predicted_class': y_pred_classes}\n",
    "df = pd.DataFrame(data=data)\n",
    "df.head()"
   ],
   "metadata": {
    "collapsed": false,
    "ExecuteTime": {
     "end_time": "2023-12-13T23:10:55.942992Z",
     "start_time": "2023-12-13T23:10:55.940093Z"
    }
   },
   "id": "9793d61925075731"
  },
  {
   "cell_type": "code",
   "execution_count": 10,
   "outputs": [],
   "source": [
    "model.save('classifier.h5')"
   ],
   "metadata": {
    "collapsed": false,
    "ExecuteTime": {
     "end_time": "2023-12-13T23:13:22.628235Z",
     "start_time": "2023-12-13T23:13:22.604469Z"
    }
   },
   "id": "3792470552ce182a"
  },
  {
   "cell_type": "code",
   "execution_count": null,
   "outputs": [],
   "source": [],
   "metadata": {
    "collapsed": false
   },
   "id": "171e8c0c42f21d6c"
  }
 ],
 "metadata": {
  "kernelspec": {
   "display_name": "Python 3",
   "language": "python",
   "name": "python3"
  },
  "language_info": {
   "codemirror_mode": {
    "name": "ipython",
    "version": 2
   },
   "file_extension": ".py",
   "mimetype": "text/x-python",
   "name": "python",
   "nbconvert_exporter": "python",
   "pygments_lexer": "ipython2",
   "version": "2.7.6"
  }
 },
 "nbformat": 4,
 "nbformat_minor": 5
}
